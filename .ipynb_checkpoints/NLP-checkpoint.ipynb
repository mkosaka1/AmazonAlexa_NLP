{
 "cells": [
  {
   "cell_type": "code",
   "execution_count": 1,
   "metadata": {},
   "outputs": [],
   "source": [
    "import pandas as pd\n",
    "import numpy as np\n",
    "import matplotlib.pyplot as plt\n",
    "import plotly.express as px\n",
    "\n"
   ]
  },
  {
   "cell_type": "code",
   "execution_count": 2,
   "metadata": {},
   "outputs": [],
   "source": [
    "df=pd.read_csv('amazon_alexa.tsv', sep='\\t')"
   ]
  },
  {
   "cell_type": "code",
   "execution_count": 3,
   "metadata": {},
   "outputs": [
    {
     "data": {
      "text/html": [
       "<div>\n",
       "<style scoped>\n",
       "    .dataframe tbody tr th:only-of-type {\n",
       "        vertical-align: middle;\n",
       "    }\n",
       "\n",
       "    .dataframe tbody tr th {\n",
       "        vertical-align: top;\n",
       "    }\n",
       "\n",
       "    .dataframe thead th {\n",
       "        text-align: right;\n",
       "    }\n",
       "</style>\n",
       "<table border=\"1\" class=\"dataframe\">\n",
       "  <thead>\n",
       "    <tr style=\"text-align: right;\">\n",
       "      <th></th>\n",
       "      <th>rating</th>\n",
       "      <th>date</th>\n",
       "      <th>variation</th>\n",
       "      <th>verified_reviews</th>\n",
       "      <th>feedback</th>\n",
       "    </tr>\n",
       "  </thead>\n",
       "  <tbody>\n",
       "    <tr>\n",
       "      <th>0</th>\n",
       "      <td>5</td>\n",
       "      <td>31-Jul-18</td>\n",
       "      <td>Charcoal Fabric</td>\n",
       "      <td>Love my Echo!</td>\n",
       "      <td>1</td>\n",
       "    </tr>\n",
       "    <tr>\n",
       "      <th>1</th>\n",
       "      <td>5</td>\n",
       "      <td>31-Jul-18</td>\n",
       "      <td>Charcoal Fabric</td>\n",
       "      <td>Loved it!</td>\n",
       "      <td>1</td>\n",
       "    </tr>\n",
       "    <tr>\n",
       "      <th>2</th>\n",
       "      <td>4</td>\n",
       "      <td>31-Jul-18</td>\n",
       "      <td>Walnut Finish</td>\n",
       "      <td>Sometimes while playing a game, you can answer...</td>\n",
       "      <td>1</td>\n",
       "    </tr>\n",
       "    <tr>\n",
       "      <th>3</th>\n",
       "      <td>5</td>\n",
       "      <td>31-Jul-18</td>\n",
       "      <td>Charcoal Fabric</td>\n",
       "      <td>I have had a lot of fun with this thing. My 4 ...</td>\n",
       "      <td>1</td>\n",
       "    </tr>\n",
       "    <tr>\n",
       "      <th>4</th>\n",
       "      <td>5</td>\n",
       "      <td>31-Jul-18</td>\n",
       "      <td>Charcoal Fabric</td>\n",
       "      <td>Music</td>\n",
       "      <td>1</td>\n",
       "    </tr>\n",
       "  </tbody>\n",
       "</table>\n",
       "</div>"
      ],
      "text/plain": [
       "   rating       date         variation  \\\n",
       "0       5  31-Jul-18  Charcoal Fabric    \n",
       "1       5  31-Jul-18  Charcoal Fabric    \n",
       "2       4  31-Jul-18    Walnut Finish    \n",
       "3       5  31-Jul-18  Charcoal Fabric    \n",
       "4       5  31-Jul-18  Charcoal Fabric    \n",
       "\n",
       "                                    verified_reviews  feedback  \n",
       "0                                      Love my Echo!         1  \n",
       "1                                          Loved it!         1  \n",
       "2  Sometimes while playing a game, you can answer...         1  \n",
       "3  I have had a lot of fun with this thing. My 4 ...         1  \n",
       "4                                              Music         1  "
      ]
     },
     "execution_count": 3,
     "metadata": {},
     "output_type": "execute_result"
    }
   ],
   "source": [
    "df.head()"
   ]
  },
  {
   "cell_type": "code",
   "execution_count": 4,
   "metadata": {},
   "outputs": [
    {
     "data": {
      "text/plain": [
       "rating              0\n",
       "date                0\n",
       "variation           0\n",
       "verified_reviews    0\n",
       "feedback            0\n",
       "dtype: int64"
      ]
     },
     "execution_count": 4,
     "metadata": {},
     "output_type": "execute_result"
    }
   ],
   "source": [
    "df.isnull().sum()"
   ]
  },
  {
   "cell_type": "code",
   "execution_count": 5,
   "metadata": {},
   "outputs": [
    {
     "data": {
      "text/html": [
       "<div>\n",
       "<style scoped>\n",
       "    .dataframe tbody tr th:only-of-type {\n",
       "        vertical-align: middle;\n",
       "    }\n",
       "\n",
       "    .dataframe tbody tr th {\n",
       "        vertical-align: top;\n",
       "    }\n",
       "\n",
       "    .dataframe thead th {\n",
       "        text-align: right;\n",
       "    }\n",
       "</style>\n",
       "<table border=\"1\" class=\"dataframe\">\n",
       "  <thead>\n",
       "    <tr style=\"text-align: right;\">\n",
       "      <th></th>\n",
       "      <th>rating</th>\n",
       "      <th>date</th>\n",
       "      <th>variation</th>\n",
       "      <th>verified_reviews</th>\n",
       "      <th>feedback</th>\n",
       "      <th>review_length</th>\n",
       "    </tr>\n",
       "  </thead>\n",
       "  <tbody>\n",
       "    <tr>\n",
       "      <th>0</th>\n",
       "      <td>5</td>\n",
       "      <td>31-Jul-18</td>\n",
       "      <td>Charcoal Fabric</td>\n",
       "      <td>Love my Echo!</td>\n",
       "      <td>1</td>\n",
       "      <td>13</td>\n",
       "    </tr>\n",
       "    <tr>\n",
       "      <th>1</th>\n",
       "      <td>5</td>\n",
       "      <td>31-Jul-18</td>\n",
       "      <td>Charcoal Fabric</td>\n",
       "      <td>Loved it!</td>\n",
       "      <td>1</td>\n",
       "      <td>9</td>\n",
       "    </tr>\n",
       "    <tr>\n",
       "      <th>2</th>\n",
       "      <td>4</td>\n",
       "      <td>31-Jul-18</td>\n",
       "      <td>Walnut Finish</td>\n",
       "      <td>Sometimes while playing a game, you can answer...</td>\n",
       "      <td>1</td>\n",
       "      <td>195</td>\n",
       "    </tr>\n",
       "    <tr>\n",
       "      <th>3</th>\n",
       "      <td>5</td>\n",
       "      <td>31-Jul-18</td>\n",
       "      <td>Charcoal Fabric</td>\n",
       "      <td>I have had a lot of fun with this thing. My 4 ...</td>\n",
       "      <td>1</td>\n",
       "      <td>172</td>\n",
       "    </tr>\n",
       "    <tr>\n",
       "      <th>4</th>\n",
       "      <td>5</td>\n",
       "      <td>31-Jul-18</td>\n",
       "      <td>Charcoal Fabric</td>\n",
       "      <td>Music</td>\n",
       "      <td>1</td>\n",
       "      <td>5</td>\n",
       "    </tr>\n",
       "  </tbody>\n",
       "</table>\n",
       "</div>"
      ],
      "text/plain": [
       "   rating       date         variation  \\\n",
       "0       5  31-Jul-18  Charcoal Fabric    \n",
       "1       5  31-Jul-18  Charcoal Fabric    \n",
       "2       4  31-Jul-18    Walnut Finish    \n",
       "3       5  31-Jul-18  Charcoal Fabric    \n",
       "4       5  31-Jul-18  Charcoal Fabric    \n",
       "\n",
       "                                    verified_reviews  feedback  review_length  \n",
       "0                                      Love my Echo!         1             13  \n",
       "1                                          Loved it!         1              9  \n",
       "2  Sometimes while playing a game, you can answer...         1            195  \n",
       "3  I have had a lot of fun with this thing. My 4 ...         1            172  \n",
       "4                                              Music         1              5  "
      ]
     },
     "execution_count": 5,
     "metadata": {},
     "output_type": "execute_result"
    }
   ],
   "source": [
    "df['review_length']=df['verified_reviews'].apply(len)\n",
    "df.head()"
   ]
  },
  {
   "cell_type": "code",
   "execution_count": 6,
   "metadata": {},
   "outputs": [
    {
     "data": {
      "text/html": [
       "<div>\n",
       "<style scoped>\n",
       "    .dataframe tbody tr th:only-of-type {\n",
       "        vertical-align: middle;\n",
       "    }\n",
       "\n",
       "    .dataframe tbody tr th {\n",
       "        vertical-align: top;\n",
       "    }\n",
       "\n",
       "    .dataframe thead tr th {\n",
       "        text-align: left;\n",
       "    }\n",
       "\n",
       "    .dataframe thead tr:last-of-type th {\n",
       "        text-align: right;\n",
       "    }\n",
       "</style>\n",
       "<table border=\"1\" class=\"dataframe\">\n",
       "  <thead>\n",
       "    <tr>\n",
       "      <th></th>\n",
       "      <th colspan=\"8\" halign=\"left\">rating</th>\n",
       "      <th colspan=\"8\" halign=\"left\">feedback</th>\n",
       "    </tr>\n",
       "    <tr>\n",
       "      <th></th>\n",
       "      <th>count</th>\n",
       "      <th>mean</th>\n",
       "      <th>std</th>\n",
       "      <th>min</th>\n",
       "      <th>25%</th>\n",
       "      <th>50%</th>\n",
       "      <th>75%</th>\n",
       "      <th>max</th>\n",
       "      <th>count</th>\n",
       "      <th>mean</th>\n",
       "      <th>std</th>\n",
       "      <th>min</th>\n",
       "      <th>25%</th>\n",
       "      <th>50%</th>\n",
       "      <th>75%</th>\n",
       "      <th>max</th>\n",
       "    </tr>\n",
       "    <tr>\n",
       "      <th>review_length</th>\n",
       "      <th></th>\n",
       "      <th></th>\n",
       "      <th></th>\n",
       "      <th></th>\n",
       "      <th></th>\n",
       "      <th></th>\n",
       "      <th></th>\n",
       "      <th></th>\n",
       "      <th></th>\n",
       "      <th></th>\n",
       "      <th></th>\n",
       "      <th></th>\n",
       "      <th></th>\n",
       "      <th></th>\n",
       "      <th></th>\n",
       "      <th></th>\n",
       "    </tr>\n",
       "  </thead>\n",
       "  <tbody>\n",
       "    <tr>\n",
       "      <th>311</th>\n",
       "      <td>2.0</td>\n",
       "      <td>5.000000</td>\n",
       "      <td>0.000000</td>\n",
       "      <td>5.0</td>\n",
       "      <td>5.00</td>\n",
       "      <td>5.0</td>\n",
       "      <td>5.00</td>\n",
       "      <td>5.0</td>\n",
       "      <td>2.0</td>\n",
       "      <td>1.00</td>\n",
       "      <td>0.000000</td>\n",
       "      <td>1.0</td>\n",
       "      <td>1.00</td>\n",
       "      <td>1.0</td>\n",
       "      <td>1.0</td>\n",
       "      <td>1.0</td>\n",
       "    </tr>\n",
       "    <tr>\n",
       "      <th>245</th>\n",
       "      <td>2.0</td>\n",
       "      <td>3.500000</td>\n",
       "      <td>0.707107</td>\n",
       "      <td>3.0</td>\n",
       "      <td>3.25</td>\n",
       "      <td>3.5</td>\n",
       "      <td>3.75</td>\n",
       "      <td>4.0</td>\n",
       "      <td>2.0</td>\n",
       "      <td>1.00</td>\n",
       "      <td>0.000000</td>\n",
       "      <td>1.0</td>\n",
       "      <td>1.00</td>\n",
       "      <td>1.0</td>\n",
       "      <td>1.0</td>\n",
       "      <td>1.0</td>\n",
       "    </tr>\n",
       "    <tr>\n",
       "      <th>630</th>\n",
       "      <td>1.0</td>\n",
       "      <td>4.000000</td>\n",
       "      <td>NaN</td>\n",
       "      <td>4.0</td>\n",
       "      <td>4.00</td>\n",
       "      <td>4.0</td>\n",
       "      <td>4.00</td>\n",
       "      <td>4.0</td>\n",
       "      <td>1.0</td>\n",
       "      <td>1.00</td>\n",
       "      <td>NaN</td>\n",
       "      <td>1.0</td>\n",
       "      <td>1.00</td>\n",
       "      <td>1.0</td>\n",
       "      <td>1.0</td>\n",
       "      <td>1.0</td>\n",
       "    </tr>\n",
       "    <tr>\n",
       "      <th>33</th>\n",
       "      <td>31.0</td>\n",
       "      <td>4.741935</td>\n",
       "      <td>0.575485</td>\n",
       "      <td>3.0</td>\n",
       "      <td>5.00</td>\n",
       "      <td>5.0</td>\n",
       "      <td>5.00</td>\n",
       "      <td>5.0</td>\n",
       "      <td>31.0</td>\n",
       "      <td>1.00</td>\n",
       "      <td>0.000000</td>\n",
       "      <td>1.0</td>\n",
       "      <td>1.00</td>\n",
       "      <td>1.0</td>\n",
       "      <td>1.0</td>\n",
       "      <td>1.0</td>\n",
       "    </tr>\n",
       "    <tr>\n",
       "      <th>63</th>\n",
       "      <td>10.0</td>\n",
       "      <td>4.400000</td>\n",
       "      <td>1.264911</td>\n",
       "      <td>1.0</td>\n",
       "      <td>4.25</td>\n",
       "      <td>5.0</td>\n",
       "      <td>5.00</td>\n",
       "      <td>5.0</td>\n",
       "      <td>10.0</td>\n",
       "      <td>0.90</td>\n",
       "      <td>0.316228</td>\n",
       "      <td>0.0</td>\n",
       "      <td>1.00</td>\n",
       "      <td>1.0</td>\n",
       "      <td>1.0</td>\n",
       "      <td>1.0</td>\n",
       "    </tr>\n",
       "    <tr>\n",
       "      <th>827</th>\n",
       "      <td>1.0</td>\n",
       "      <td>2.000000</td>\n",
       "      <td>NaN</td>\n",
       "      <td>2.0</td>\n",
       "      <td>2.00</td>\n",
       "      <td>2.0</td>\n",
       "      <td>2.00</td>\n",
       "      <td>2.0</td>\n",
       "      <td>1.0</td>\n",
       "      <td>0.00</td>\n",
       "      <td>NaN</td>\n",
       "      <td>0.0</td>\n",
       "      <td>0.00</td>\n",
       "      <td>0.0</td>\n",
       "      <td>0.0</td>\n",
       "      <td>0.0</td>\n",
       "    </tr>\n",
       "    <tr>\n",
       "      <th>161</th>\n",
       "      <td>4.0</td>\n",
       "      <td>4.500000</td>\n",
       "      <td>0.577350</td>\n",
       "      <td>4.0</td>\n",
       "      <td>4.00</td>\n",
       "      <td>4.5</td>\n",
       "      <td>5.00</td>\n",
       "      <td>5.0</td>\n",
       "      <td>4.0</td>\n",
       "      <td>1.00</td>\n",
       "      <td>0.000000</td>\n",
       "      <td>1.0</td>\n",
       "      <td>1.00</td>\n",
       "      <td>1.0</td>\n",
       "      <td>1.0</td>\n",
       "      <td>1.0</td>\n",
       "    </tr>\n",
       "    <tr>\n",
       "      <th>389</th>\n",
       "      <td>1.0</td>\n",
       "      <td>4.000000</td>\n",
       "      <td>NaN</td>\n",
       "      <td>4.0</td>\n",
       "      <td>4.00</td>\n",
       "      <td>4.0</td>\n",
       "      <td>4.00</td>\n",
       "      <td>4.0</td>\n",
       "      <td>1.0</td>\n",
       "      <td>1.00</td>\n",
       "      <td>NaN</td>\n",
       "      <td>1.0</td>\n",
       "      <td>1.00</td>\n",
       "      <td>1.0</td>\n",
       "      <td>1.0</td>\n",
       "      <td>1.0</td>\n",
       "    </tr>\n",
       "    <tr>\n",
       "      <th>589</th>\n",
       "      <td>4.0</td>\n",
       "      <td>3.750000</td>\n",
       "      <td>1.500000</td>\n",
       "      <td>2.0</td>\n",
       "      <td>2.75</td>\n",
       "      <td>4.0</td>\n",
       "      <td>5.00</td>\n",
       "      <td>5.0</td>\n",
       "      <td>4.0</td>\n",
       "      <td>0.75</td>\n",
       "      <td>0.500000</td>\n",
       "      <td>0.0</td>\n",
       "      <td>0.75</td>\n",
       "      <td>1.0</td>\n",
       "      <td>1.0</td>\n",
       "      <td>1.0</td>\n",
       "    </tr>\n",
       "    <tr>\n",
       "      <th>46</th>\n",
       "      <td>14.0</td>\n",
       "      <td>4.928571</td>\n",
       "      <td>0.267261</td>\n",
       "      <td>4.0</td>\n",
       "      <td>5.00</td>\n",
       "      <td>5.0</td>\n",
       "      <td>5.00</td>\n",
       "      <td>5.0</td>\n",
       "      <td>14.0</td>\n",
       "      <td>1.00</td>\n",
       "      <td>0.000000</td>\n",
       "      <td>1.0</td>\n",
       "      <td>1.00</td>\n",
       "      <td>1.0</td>\n",
       "      <td>1.0</td>\n",
       "      <td>1.0</td>\n",
       "    </tr>\n",
       "  </tbody>\n",
       "</table>\n",
       "</div>"
      ],
      "text/plain": [
       "              rating                                                feedback  \\\n",
       "               count      mean       std  min   25%  50%   75%  max    count   \n",
       "review_length                                                                  \n",
       "311              2.0  5.000000  0.000000  5.0  5.00  5.0  5.00  5.0      2.0   \n",
       "245              2.0  3.500000  0.707107  3.0  3.25  3.5  3.75  4.0      2.0   \n",
       "630              1.0  4.000000       NaN  4.0  4.00  4.0  4.00  4.0      1.0   \n",
       "33              31.0  4.741935  0.575485  3.0  5.00  5.0  5.00  5.0     31.0   \n",
       "63              10.0  4.400000  1.264911  1.0  4.25  5.0  5.00  5.0     10.0   \n",
       "827              1.0  2.000000       NaN  2.0  2.00  2.0  2.00  2.0      1.0   \n",
       "161              4.0  4.500000  0.577350  4.0  4.00  4.5  5.00  5.0      4.0   \n",
       "389              1.0  4.000000       NaN  4.0  4.00  4.0  4.00  4.0      1.0   \n",
       "589              4.0  3.750000  1.500000  2.0  2.75  4.0  5.00  5.0      4.0   \n",
       "46              14.0  4.928571  0.267261  4.0  5.00  5.0  5.00  5.0     14.0   \n",
       "\n",
       "                                                         \n",
       "               mean       std  min   25%  50%  75%  max  \n",
       "review_length                                            \n",
       "311            1.00  0.000000  1.0  1.00  1.0  1.0  1.0  \n",
       "245            1.00  0.000000  1.0  1.00  1.0  1.0  1.0  \n",
       "630            1.00       NaN  1.0  1.00  1.0  1.0  1.0  \n",
       "33             1.00  0.000000  1.0  1.00  1.0  1.0  1.0  \n",
       "63             0.90  0.316228  0.0  1.00  1.0  1.0  1.0  \n",
       "827            0.00       NaN  0.0  0.00  0.0  0.0  0.0  \n",
       "161            1.00  0.000000  1.0  1.00  1.0  1.0  1.0  \n",
       "389            1.00       NaN  1.0  1.00  1.0  1.0  1.0  \n",
       "589            0.75  0.500000  0.0  0.75  1.0  1.0  1.0  \n",
       "46             1.00  0.000000  1.0  1.00  1.0  1.0  1.0  "
      ]
     },
     "execution_count": 6,
     "metadata": {},
     "output_type": "execute_result"
    }
   ],
   "source": [
    "df.groupby('review_length').describe().sample(10)\n"
   ]
  },
  {
   "cell_type": "code",
   "execution_count": 7,
   "metadata": {},
   "outputs": [
    {
     "data": {
      "text/html": [
       "<div>\n",
       "<style scoped>\n",
       "    .dataframe tbody tr th:only-of-type {\n",
       "        vertical-align: middle;\n",
       "    }\n",
       "\n",
       "    .dataframe tbody tr th {\n",
       "        vertical-align: top;\n",
       "    }\n",
       "\n",
       "    .dataframe thead tr th {\n",
       "        text-align: left;\n",
       "    }\n",
       "\n",
       "    .dataframe thead tr:last-of-type th {\n",
       "        text-align: right;\n",
       "    }\n",
       "</style>\n",
       "<table border=\"1\" class=\"dataframe\">\n",
       "  <thead>\n",
       "    <tr>\n",
       "      <th></th>\n",
       "      <th colspan=\"8\" halign=\"left\">feedback</th>\n",
       "      <th colspan=\"8\" halign=\"left\">review_length</th>\n",
       "    </tr>\n",
       "    <tr>\n",
       "      <th></th>\n",
       "      <th>count</th>\n",
       "      <th>mean</th>\n",
       "      <th>std</th>\n",
       "      <th>min</th>\n",
       "      <th>25%</th>\n",
       "      <th>50%</th>\n",
       "      <th>75%</th>\n",
       "      <th>max</th>\n",
       "      <th>count</th>\n",
       "      <th>mean</th>\n",
       "      <th>std</th>\n",
       "      <th>min</th>\n",
       "      <th>25%</th>\n",
       "      <th>50%</th>\n",
       "      <th>75%</th>\n",
       "      <th>max</th>\n",
       "    </tr>\n",
       "    <tr>\n",
       "      <th>rating</th>\n",
       "      <th></th>\n",
       "      <th></th>\n",
       "      <th></th>\n",
       "      <th></th>\n",
       "      <th></th>\n",
       "      <th></th>\n",
       "      <th></th>\n",
       "      <th></th>\n",
       "      <th></th>\n",
       "      <th></th>\n",
       "      <th></th>\n",
       "      <th></th>\n",
       "      <th></th>\n",
       "      <th></th>\n",
       "      <th></th>\n",
       "      <th></th>\n",
       "    </tr>\n",
       "  </thead>\n",
       "  <tbody>\n",
       "    <tr>\n",
       "      <th>1</th>\n",
       "      <td>161.0</td>\n",
       "      <td>0.0</td>\n",
       "      <td>0.0</td>\n",
       "      <td>0.0</td>\n",
       "      <td>0.0</td>\n",
       "      <td>0.0</td>\n",
       "      <td>0.0</td>\n",
       "      <td>0.0</td>\n",
       "      <td>161.0</td>\n",
       "      <td>195.000000</td>\n",
       "      <td>212.371226</td>\n",
       "      <td>1.0</td>\n",
       "      <td>36.00</td>\n",
       "      <td>120.0</td>\n",
       "      <td>284.00</td>\n",
       "      <td>1124.0</td>\n",
       "    </tr>\n",
       "    <tr>\n",
       "      <th>2</th>\n",
       "      <td>96.0</td>\n",
       "      <td>0.0</td>\n",
       "      <td>0.0</td>\n",
       "      <td>0.0</td>\n",
       "      <td>0.0</td>\n",
       "      <td>0.0</td>\n",
       "      <td>0.0</td>\n",
       "      <td>0.0</td>\n",
       "      <td>96.0</td>\n",
       "      <td>249.187500</td>\n",
       "      <td>269.595303</td>\n",
       "      <td>1.0</td>\n",
       "      <td>78.75</td>\n",
       "      <td>163.0</td>\n",
       "      <td>309.25</td>\n",
       "      <td>1686.0</td>\n",
       "    </tr>\n",
       "    <tr>\n",
       "      <th>3</th>\n",
       "      <td>152.0</td>\n",
       "      <td>1.0</td>\n",
       "      <td>0.0</td>\n",
       "      <td>1.0</td>\n",
       "      <td>1.0</td>\n",
       "      <td>1.0</td>\n",
       "      <td>1.0</td>\n",
       "      <td>1.0</td>\n",
       "      <td>152.0</td>\n",
       "      <td>207.296053</td>\n",
       "      <td>272.194706</td>\n",
       "      <td>1.0</td>\n",
       "      <td>54.00</td>\n",
       "      <td>130.0</td>\n",
       "      <td>284.00</td>\n",
       "      <td>1954.0</td>\n",
       "    </tr>\n",
       "    <tr>\n",
       "      <th>4</th>\n",
       "      <td>455.0</td>\n",
       "      <td>1.0</td>\n",
       "      <td>0.0</td>\n",
       "      <td>1.0</td>\n",
       "      <td>1.0</td>\n",
       "      <td>1.0</td>\n",
       "      <td>1.0</td>\n",
       "      <td>1.0</td>\n",
       "      <td>455.0</td>\n",
       "      <td>178.520879</td>\n",
       "      <td>215.927849</td>\n",
       "      <td>1.0</td>\n",
       "      <td>34.00</td>\n",
       "      <td>99.0</td>\n",
       "      <td>241.00</td>\n",
       "      <td>1360.0</td>\n",
       "    </tr>\n",
       "    <tr>\n",
       "      <th>5</th>\n",
       "      <td>2286.0</td>\n",
       "      <td>1.0</td>\n",
       "      <td>0.0</td>\n",
       "      <td>1.0</td>\n",
       "      <td>1.0</td>\n",
       "      <td>1.0</td>\n",
       "      <td>1.0</td>\n",
       "      <td>1.0</td>\n",
       "      <td>2286.0</td>\n",
       "      <td>108.444007</td>\n",
       "      <td>152.116387</td>\n",
       "      <td>1.0</td>\n",
       "      <td>26.00</td>\n",
       "      <td>64.0</td>\n",
       "      <td>135.00</td>\n",
       "      <td>2851.0</td>\n",
       "    </tr>\n",
       "  </tbody>\n",
       "</table>\n",
       "</div>"
      ],
      "text/plain": [
       "       feedback                                    review_length              \\\n",
       "          count mean  std  min  25%  50%  75%  max         count        mean   \n",
       "rating                                                                         \n",
       "1         161.0  0.0  0.0  0.0  0.0  0.0  0.0  0.0         161.0  195.000000   \n",
       "2          96.0  0.0  0.0  0.0  0.0  0.0  0.0  0.0          96.0  249.187500   \n",
       "3         152.0  1.0  0.0  1.0  1.0  1.0  1.0  1.0         152.0  207.296053   \n",
       "4         455.0  1.0  0.0  1.0  1.0  1.0  1.0  1.0         455.0  178.520879   \n",
       "5        2286.0  1.0  0.0  1.0  1.0  1.0  1.0  1.0        2286.0  108.444007   \n",
       "\n",
       "                                                       \n",
       "               std  min    25%    50%     75%     max  \n",
       "rating                                                 \n",
       "1       212.371226  1.0  36.00  120.0  284.00  1124.0  \n",
       "2       269.595303  1.0  78.75  163.0  309.25  1686.0  \n",
       "3       272.194706  1.0  54.00  130.0  284.00  1954.0  \n",
       "4       215.927849  1.0  34.00   99.0  241.00  1360.0  \n",
       "5       152.116387  1.0  26.00   64.0  135.00  2851.0  "
      ]
     },
     "execution_count": 7,
     "metadata": {},
     "output_type": "execute_result"
    }
   ],
   "source": [
    "df.groupby('rating').describe()\n"
   ]
  },
  {
   "cell_type": "code",
   "execution_count": 37,
   "metadata": {},
   "outputs": [
    {
     "data": {
      "application/vnd.plotly.v1+json": {
       "config": {
        "plotlyServerURL": "https://plot.ly"
       },
       "data": [
        {
         "domain": {
          "x": [
           0,
           1
          ],
          "y": [
           0,
           1
          ]
         },
         "hoverlabel": {
          "namelength": 0
         },
         "hovertemplate": "label=%{label}<br>value=%{value}",
         "labels": [
          5,
          4,
          1,
          3,
          2
         ],
         "legendgroup": "",
         "name": "",
         "showlegend": true,
         "type": "funnelarea",
         "values": [
          2286,
          455,
          161,
          152,
          96
         ]
        }
       ],
       "layout": {
        "legend": {
         "tracegroupgap": 0
        },
        "template": {
         "data": {
          "bar": [
           {
            "error_x": {
             "color": "#2a3f5f"
            },
            "error_y": {
             "color": "#2a3f5f"
            },
            "marker": {
             "line": {
              "color": "#E5ECF6",
              "width": 0.5
             }
            },
            "type": "bar"
           }
          ],
          "barpolar": [
           {
            "marker": {
             "line": {
              "color": "#E5ECF6",
              "width": 0.5
             }
            },
            "type": "barpolar"
           }
          ],
          "carpet": [
           {
            "aaxis": {
             "endlinecolor": "#2a3f5f",
             "gridcolor": "white",
             "linecolor": "white",
             "minorgridcolor": "white",
             "startlinecolor": "#2a3f5f"
            },
            "baxis": {
             "endlinecolor": "#2a3f5f",
             "gridcolor": "white",
             "linecolor": "white",
             "minorgridcolor": "white",
             "startlinecolor": "#2a3f5f"
            },
            "type": "carpet"
           }
          ],
          "choropleth": [
           {
            "colorbar": {
             "outlinewidth": 0,
             "ticks": ""
            },
            "type": "choropleth"
           }
          ],
          "contour": [
           {
            "colorbar": {
             "outlinewidth": 0,
             "ticks": ""
            },
            "colorscale": [
             [
              0,
              "#0d0887"
             ],
             [
              0.1111111111111111,
              "#46039f"
             ],
             [
              0.2222222222222222,
              "#7201a8"
             ],
             [
              0.3333333333333333,
              "#9c179e"
             ],
             [
              0.4444444444444444,
              "#bd3786"
             ],
             [
              0.5555555555555556,
              "#d8576b"
             ],
             [
              0.6666666666666666,
              "#ed7953"
             ],
             [
              0.7777777777777778,
              "#fb9f3a"
             ],
             [
              0.8888888888888888,
              "#fdca26"
             ],
             [
              1,
              "#f0f921"
             ]
            ],
            "type": "contour"
           }
          ],
          "contourcarpet": [
           {
            "colorbar": {
             "outlinewidth": 0,
             "ticks": ""
            },
            "type": "contourcarpet"
           }
          ],
          "heatmap": [
           {
            "colorbar": {
             "outlinewidth": 0,
             "ticks": ""
            },
            "colorscale": [
             [
              0,
              "#0d0887"
             ],
             [
              0.1111111111111111,
              "#46039f"
             ],
             [
              0.2222222222222222,
              "#7201a8"
             ],
             [
              0.3333333333333333,
              "#9c179e"
             ],
             [
              0.4444444444444444,
              "#bd3786"
             ],
             [
              0.5555555555555556,
              "#d8576b"
             ],
             [
              0.6666666666666666,
              "#ed7953"
             ],
             [
              0.7777777777777778,
              "#fb9f3a"
             ],
             [
              0.8888888888888888,
              "#fdca26"
             ],
             [
              1,
              "#f0f921"
             ]
            ],
            "type": "heatmap"
           }
          ],
          "heatmapgl": [
           {
            "colorbar": {
             "outlinewidth": 0,
             "ticks": ""
            },
            "colorscale": [
             [
              0,
              "#0d0887"
             ],
             [
              0.1111111111111111,
              "#46039f"
             ],
             [
              0.2222222222222222,
              "#7201a8"
             ],
             [
              0.3333333333333333,
              "#9c179e"
             ],
             [
              0.4444444444444444,
              "#bd3786"
             ],
             [
              0.5555555555555556,
              "#d8576b"
             ],
             [
              0.6666666666666666,
              "#ed7953"
             ],
             [
              0.7777777777777778,
              "#fb9f3a"
             ],
             [
              0.8888888888888888,
              "#fdca26"
             ],
             [
              1,
              "#f0f921"
             ]
            ],
            "type": "heatmapgl"
           }
          ],
          "histogram": [
           {
            "marker": {
             "colorbar": {
              "outlinewidth": 0,
              "ticks": ""
             }
            },
            "type": "histogram"
           }
          ],
          "histogram2d": [
           {
            "colorbar": {
             "outlinewidth": 0,
             "ticks": ""
            },
            "colorscale": [
             [
              0,
              "#0d0887"
             ],
             [
              0.1111111111111111,
              "#46039f"
             ],
             [
              0.2222222222222222,
              "#7201a8"
             ],
             [
              0.3333333333333333,
              "#9c179e"
             ],
             [
              0.4444444444444444,
              "#bd3786"
             ],
             [
              0.5555555555555556,
              "#d8576b"
             ],
             [
              0.6666666666666666,
              "#ed7953"
             ],
             [
              0.7777777777777778,
              "#fb9f3a"
             ],
             [
              0.8888888888888888,
              "#fdca26"
             ],
             [
              1,
              "#f0f921"
             ]
            ],
            "type": "histogram2d"
           }
          ],
          "histogram2dcontour": [
           {
            "colorbar": {
             "outlinewidth": 0,
             "ticks": ""
            },
            "colorscale": [
             [
              0,
              "#0d0887"
             ],
             [
              0.1111111111111111,
              "#46039f"
             ],
             [
              0.2222222222222222,
              "#7201a8"
             ],
             [
              0.3333333333333333,
              "#9c179e"
             ],
             [
              0.4444444444444444,
              "#bd3786"
             ],
             [
              0.5555555555555556,
              "#d8576b"
             ],
             [
              0.6666666666666666,
              "#ed7953"
             ],
             [
              0.7777777777777778,
              "#fb9f3a"
             ],
             [
              0.8888888888888888,
              "#fdca26"
             ],
             [
              1,
              "#f0f921"
             ]
            ],
            "type": "histogram2dcontour"
           }
          ],
          "mesh3d": [
           {
            "colorbar": {
             "outlinewidth": 0,
             "ticks": ""
            },
            "type": "mesh3d"
           }
          ],
          "parcoords": [
           {
            "line": {
             "colorbar": {
              "outlinewidth": 0,
              "ticks": ""
             }
            },
            "type": "parcoords"
           }
          ],
          "pie": [
           {
            "automargin": true,
            "type": "pie"
           }
          ],
          "scatter": [
           {
            "marker": {
             "colorbar": {
              "outlinewidth": 0,
              "ticks": ""
             }
            },
            "type": "scatter"
           }
          ],
          "scatter3d": [
           {
            "line": {
             "colorbar": {
              "outlinewidth": 0,
              "ticks": ""
             }
            },
            "marker": {
             "colorbar": {
              "outlinewidth": 0,
              "ticks": ""
             }
            },
            "type": "scatter3d"
           }
          ],
          "scattercarpet": [
           {
            "marker": {
             "colorbar": {
              "outlinewidth": 0,
              "ticks": ""
             }
            },
            "type": "scattercarpet"
           }
          ],
          "scattergeo": [
           {
            "marker": {
             "colorbar": {
              "outlinewidth": 0,
              "ticks": ""
             }
            },
            "type": "scattergeo"
           }
          ],
          "scattergl": [
           {
            "marker": {
             "colorbar": {
              "outlinewidth": 0,
              "ticks": ""
             }
            },
            "type": "scattergl"
           }
          ],
          "scattermapbox": [
           {
            "marker": {
             "colorbar": {
              "outlinewidth": 0,
              "ticks": ""
             }
            },
            "type": "scattermapbox"
           }
          ],
          "scatterpolar": [
           {
            "marker": {
             "colorbar": {
              "outlinewidth": 0,
              "ticks": ""
             }
            },
            "type": "scatterpolar"
           }
          ],
          "scatterpolargl": [
           {
            "marker": {
             "colorbar": {
              "outlinewidth": 0,
              "ticks": ""
             }
            },
            "type": "scatterpolargl"
           }
          ],
          "scatterternary": [
           {
            "marker": {
             "colorbar": {
              "outlinewidth": 0,
              "ticks": ""
             }
            },
            "type": "scatterternary"
           }
          ],
          "surface": [
           {
            "colorbar": {
             "outlinewidth": 0,
             "ticks": ""
            },
            "colorscale": [
             [
              0,
              "#0d0887"
             ],
             [
              0.1111111111111111,
              "#46039f"
             ],
             [
              0.2222222222222222,
              "#7201a8"
             ],
             [
              0.3333333333333333,
              "#9c179e"
             ],
             [
              0.4444444444444444,
              "#bd3786"
             ],
             [
              0.5555555555555556,
              "#d8576b"
             ],
             [
              0.6666666666666666,
              "#ed7953"
             ],
             [
              0.7777777777777778,
              "#fb9f3a"
             ],
             [
              0.8888888888888888,
              "#fdca26"
             ],
             [
              1,
              "#f0f921"
             ]
            ],
            "type": "surface"
           }
          ],
          "table": [
           {
            "cells": {
             "fill": {
              "color": "#EBF0F8"
             },
             "line": {
              "color": "white"
             }
            },
            "header": {
             "fill": {
              "color": "#C8D4E3"
             },
             "line": {
              "color": "white"
             }
            },
            "type": "table"
           }
          ]
         },
         "layout": {
          "annotationdefaults": {
           "arrowcolor": "#2a3f5f",
           "arrowhead": 0,
           "arrowwidth": 1
          },
          "coloraxis": {
           "colorbar": {
            "outlinewidth": 0,
            "ticks": ""
           }
          },
          "colorscale": {
           "diverging": [
            [
             0,
             "#8e0152"
            ],
            [
             0.1,
             "#c51b7d"
            ],
            [
             0.2,
             "#de77ae"
            ],
            [
             0.3,
             "#f1b6da"
            ],
            [
             0.4,
             "#fde0ef"
            ],
            [
             0.5,
             "#f7f7f7"
            ],
            [
             0.6,
             "#e6f5d0"
            ],
            [
             0.7,
             "#b8e186"
            ],
            [
             0.8,
             "#7fbc41"
            ],
            [
             0.9,
             "#4d9221"
            ],
            [
             1,
             "#276419"
            ]
           ],
           "sequential": [
            [
             0,
             "#0d0887"
            ],
            [
             0.1111111111111111,
             "#46039f"
            ],
            [
             0.2222222222222222,
             "#7201a8"
            ],
            [
             0.3333333333333333,
             "#9c179e"
            ],
            [
             0.4444444444444444,
             "#bd3786"
            ],
            [
             0.5555555555555556,
             "#d8576b"
            ],
            [
             0.6666666666666666,
             "#ed7953"
            ],
            [
             0.7777777777777778,
             "#fb9f3a"
            ],
            [
             0.8888888888888888,
             "#fdca26"
            ],
            [
             1,
             "#f0f921"
            ]
           ],
           "sequentialminus": [
            [
             0,
             "#0d0887"
            ],
            [
             0.1111111111111111,
             "#46039f"
            ],
            [
             0.2222222222222222,
             "#7201a8"
            ],
            [
             0.3333333333333333,
             "#9c179e"
            ],
            [
             0.4444444444444444,
             "#bd3786"
            ],
            [
             0.5555555555555556,
             "#d8576b"
            ],
            [
             0.6666666666666666,
             "#ed7953"
            ],
            [
             0.7777777777777778,
             "#fb9f3a"
            ],
            [
             0.8888888888888888,
             "#fdca26"
            ],
            [
             1,
             "#f0f921"
            ]
           ]
          },
          "colorway": [
           "#636efa",
           "#EF553B",
           "#00cc96",
           "#ab63fa",
           "#FFA15A",
           "#19d3f3",
           "#FF6692",
           "#B6E880",
           "#FF97FF",
           "#FECB52"
          ],
          "font": {
           "color": "#2a3f5f"
          },
          "geo": {
           "bgcolor": "white",
           "lakecolor": "white",
           "landcolor": "#E5ECF6",
           "showlakes": true,
           "showland": true,
           "subunitcolor": "white"
          },
          "hoverlabel": {
           "align": "left"
          },
          "hovermode": "closest",
          "mapbox": {
           "style": "light"
          },
          "paper_bgcolor": "white",
          "plot_bgcolor": "#E5ECF6",
          "polar": {
           "angularaxis": {
            "gridcolor": "white",
            "linecolor": "white",
            "ticks": ""
           },
           "bgcolor": "#E5ECF6",
           "radialaxis": {
            "gridcolor": "white",
            "linecolor": "white",
            "ticks": ""
           }
          },
          "scene": {
           "xaxis": {
            "backgroundcolor": "#E5ECF6",
            "gridcolor": "white",
            "gridwidth": 2,
            "linecolor": "white",
            "showbackground": true,
            "ticks": "",
            "zerolinecolor": "white"
           },
           "yaxis": {
            "backgroundcolor": "#E5ECF6",
            "gridcolor": "white",
            "gridwidth": 2,
            "linecolor": "white",
            "showbackground": true,
            "ticks": "",
            "zerolinecolor": "white"
           },
           "zaxis": {
            "backgroundcolor": "#E5ECF6",
            "gridcolor": "white",
            "gridwidth": 2,
            "linecolor": "white",
            "showbackground": true,
            "ticks": "",
            "zerolinecolor": "white"
           }
          },
          "shapedefaults": {
           "line": {
            "color": "#2a3f5f"
           }
          },
          "ternary": {
           "aaxis": {
            "gridcolor": "white",
            "linecolor": "white",
            "ticks": ""
           },
           "baxis": {
            "gridcolor": "white",
            "linecolor": "white",
            "ticks": ""
           },
           "bgcolor": "#E5ECF6",
           "caxis": {
            "gridcolor": "white",
            "linecolor": "white",
            "ticks": ""
           }
          },
          "title": {
           "x": 0.05
          },
          "xaxis": {
           "automargin": true,
           "gridcolor": "white",
           "linecolor": "white",
           "ticks": "",
           "title": {
            "standoff": 15
           },
           "zerolinecolor": "white",
           "zerolinewidth": 2
          },
          "yaxis": {
           "automargin": true,
           "gridcolor": "white",
           "linecolor": "white",
           "ticks": "",
           "title": {
            "standoff": 15
           },
           "zerolinecolor": "white",
           "zerolinewidth": 2
          }
         }
        },
        "title": {
         "text": "Distribution of Alexa Ratings"
        }
       }
      },
      "text/html": [
       "<div>\n",
       "        \n",
       "        \n",
       "            <div id=\"70ec41b2-755a-403f-a122-8b78d69edb81\" class=\"plotly-graph-div\" style=\"height:525px; width:100%;\"></div>\n",
       "            <script type=\"text/javascript\">\n",
       "                require([\"plotly\"], function(Plotly) {\n",
       "                    window.PLOTLYENV=window.PLOTLYENV || {};\n",
       "                    \n",
       "                if (document.getElementById(\"70ec41b2-755a-403f-a122-8b78d69edb81\")) {\n",
       "                    Plotly.newPlot(\n",
       "                        '70ec41b2-755a-403f-a122-8b78d69edb81',\n",
       "                        [{\"domain\": {\"x\": [0.0, 1.0], \"y\": [0.0, 1.0]}, \"hoverlabel\": {\"namelength\": 0}, \"hovertemplate\": \"label=%{label}<br>value=%{value}\", \"labels\": [5, 4, 1, 3, 2], \"legendgroup\": \"\", \"name\": \"\", \"showlegend\": true, \"type\": \"funnelarea\", \"values\": [2286, 455, 161, 152, 96]}],\n",
       "                        {\"legend\": {\"tracegroupgap\": 0}, \"template\": {\"data\": {\"bar\": [{\"error_x\": {\"color\": \"#2a3f5f\"}, \"error_y\": {\"color\": \"#2a3f5f\"}, \"marker\": {\"line\": {\"color\": \"#E5ECF6\", \"width\": 0.5}}, \"type\": \"bar\"}], \"barpolar\": [{\"marker\": {\"line\": {\"color\": \"#E5ECF6\", \"width\": 0.5}}, \"type\": \"barpolar\"}], \"carpet\": [{\"aaxis\": {\"endlinecolor\": \"#2a3f5f\", \"gridcolor\": \"white\", \"linecolor\": \"white\", \"minorgridcolor\": \"white\", \"startlinecolor\": \"#2a3f5f\"}, \"baxis\": {\"endlinecolor\": \"#2a3f5f\", \"gridcolor\": \"white\", \"linecolor\": \"white\", \"minorgridcolor\": \"white\", \"startlinecolor\": \"#2a3f5f\"}, \"type\": \"carpet\"}], \"choropleth\": [{\"colorbar\": {\"outlinewidth\": 0, \"ticks\": \"\"}, \"type\": \"choropleth\"}], \"contour\": [{\"colorbar\": {\"outlinewidth\": 0, \"ticks\": \"\"}, \"colorscale\": [[0.0, \"#0d0887\"], [0.1111111111111111, \"#46039f\"], [0.2222222222222222, \"#7201a8\"], [0.3333333333333333, \"#9c179e\"], [0.4444444444444444, \"#bd3786\"], [0.5555555555555556, \"#d8576b\"], [0.6666666666666666, \"#ed7953\"], [0.7777777777777778, \"#fb9f3a\"], [0.8888888888888888, \"#fdca26\"], [1.0, \"#f0f921\"]], \"type\": \"contour\"}], \"contourcarpet\": [{\"colorbar\": {\"outlinewidth\": 0, \"ticks\": \"\"}, \"type\": \"contourcarpet\"}], \"heatmap\": [{\"colorbar\": {\"outlinewidth\": 0, \"ticks\": \"\"}, \"colorscale\": [[0.0, \"#0d0887\"], [0.1111111111111111, \"#46039f\"], [0.2222222222222222, \"#7201a8\"], [0.3333333333333333, \"#9c179e\"], [0.4444444444444444, \"#bd3786\"], [0.5555555555555556, \"#d8576b\"], [0.6666666666666666, \"#ed7953\"], [0.7777777777777778, \"#fb9f3a\"], [0.8888888888888888, \"#fdca26\"], [1.0, \"#f0f921\"]], \"type\": \"heatmap\"}], \"heatmapgl\": [{\"colorbar\": {\"outlinewidth\": 0, \"ticks\": \"\"}, \"colorscale\": [[0.0, \"#0d0887\"], [0.1111111111111111, \"#46039f\"], [0.2222222222222222, \"#7201a8\"], [0.3333333333333333, \"#9c179e\"], [0.4444444444444444, \"#bd3786\"], [0.5555555555555556, \"#d8576b\"], [0.6666666666666666, \"#ed7953\"], [0.7777777777777778, \"#fb9f3a\"], [0.8888888888888888, \"#fdca26\"], [1.0, \"#f0f921\"]], \"type\": \"heatmapgl\"}], \"histogram\": [{\"marker\": {\"colorbar\": {\"outlinewidth\": 0, \"ticks\": \"\"}}, \"type\": \"histogram\"}], \"histogram2d\": [{\"colorbar\": {\"outlinewidth\": 0, \"ticks\": \"\"}, \"colorscale\": [[0.0, \"#0d0887\"], [0.1111111111111111, \"#46039f\"], [0.2222222222222222, \"#7201a8\"], [0.3333333333333333, \"#9c179e\"], [0.4444444444444444, \"#bd3786\"], [0.5555555555555556, \"#d8576b\"], [0.6666666666666666, \"#ed7953\"], [0.7777777777777778, \"#fb9f3a\"], [0.8888888888888888, \"#fdca26\"], [1.0, \"#f0f921\"]], \"type\": \"histogram2d\"}], \"histogram2dcontour\": [{\"colorbar\": {\"outlinewidth\": 0, \"ticks\": \"\"}, \"colorscale\": [[0.0, \"#0d0887\"], [0.1111111111111111, \"#46039f\"], [0.2222222222222222, \"#7201a8\"], [0.3333333333333333, \"#9c179e\"], [0.4444444444444444, \"#bd3786\"], [0.5555555555555556, \"#d8576b\"], [0.6666666666666666, \"#ed7953\"], [0.7777777777777778, \"#fb9f3a\"], [0.8888888888888888, \"#fdca26\"], [1.0, \"#f0f921\"]], \"type\": \"histogram2dcontour\"}], \"mesh3d\": [{\"colorbar\": {\"outlinewidth\": 0, \"ticks\": \"\"}, \"type\": \"mesh3d\"}], \"parcoords\": [{\"line\": {\"colorbar\": {\"outlinewidth\": 0, \"ticks\": \"\"}}, \"type\": \"parcoords\"}], \"pie\": [{\"automargin\": true, \"type\": \"pie\"}], \"scatter\": [{\"marker\": {\"colorbar\": {\"outlinewidth\": 0, \"ticks\": \"\"}}, \"type\": \"scatter\"}], \"scatter3d\": [{\"line\": {\"colorbar\": {\"outlinewidth\": 0, \"ticks\": \"\"}}, \"marker\": {\"colorbar\": {\"outlinewidth\": 0, \"ticks\": \"\"}}, \"type\": \"scatter3d\"}], \"scattercarpet\": [{\"marker\": {\"colorbar\": {\"outlinewidth\": 0, \"ticks\": \"\"}}, \"type\": \"scattercarpet\"}], \"scattergeo\": [{\"marker\": {\"colorbar\": {\"outlinewidth\": 0, \"ticks\": \"\"}}, \"type\": \"scattergeo\"}], \"scattergl\": [{\"marker\": {\"colorbar\": {\"outlinewidth\": 0, \"ticks\": \"\"}}, \"type\": \"scattergl\"}], \"scattermapbox\": [{\"marker\": {\"colorbar\": {\"outlinewidth\": 0, \"ticks\": \"\"}}, \"type\": \"scattermapbox\"}], \"scatterpolar\": [{\"marker\": {\"colorbar\": {\"outlinewidth\": 0, \"ticks\": \"\"}}, \"type\": \"scatterpolar\"}], \"scatterpolargl\": [{\"marker\": {\"colorbar\": {\"outlinewidth\": 0, \"ticks\": \"\"}}, \"type\": \"scatterpolargl\"}], \"scatterternary\": [{\"marker\": {\"colorbar\": {\"outlinewidth\": 0, \"ticks\": \"\"}}, \"type\": \"scatterternary\"}], \"surface\": [{\"colorbar\": {\"outlinewidth\": 0, \"ticks\": \"\"}, \"colorscale\": [[0.0, \"#0d0887\"], [0.1111111111111111, \"#46039f\"], [0.2222222222222222, \"#7201a8\"], [0.3333333333333333, \"#9c179e\"], [0.4444444444444444, \"#bd3786\"], [0.5555555555555556, \"#d8576b\"], [0.6666666666666666, \"#ed7953\"], [0.7777777777777778, \"#fb9f3a\"], [0.8888888888888888, \"#fdca26\"], [1.0, \"#f0f921\"]], \"type\": \"surface\"}], \"table\": [{\"cells\": {\"fill\": {\"color\": \"#EBF0F8\"}, \"line\": {\"color\": \"white\"}}, \"header\": {\"fill\": {\"color\": \"#C8D4E3\"}, \"line\": {\"color\": \"white\"}}, \"type\": \"table\"}]}, \"layout\": {\"annotationdefaults\": {\"arrowcolor\": \"#2a3f5f\", \"arrowhead\": 0, \"arrowwidth\": 1}, \"coloraxis\": {\"colorbar\": {\"outlinewidth\": 0, \"ticks\": \"\"}}, \"colorscale\": {\"diverging\": [[0, \"#8e0152\"], [0.1, \"#c51b7d\"], [0.2, \"#de77ae\"], [0.3, \"#f1b6da\"], [0.4, \"#fde0ef\"], [0.5, \"#f7f7f7\"], [0.6, \"#e6f5d0\"], [0.7, \"#b8e186\"], [0.8, \"#7fbc41\"], [0.9, \"#4d9221\"], [1, \"#276419\"]], \"sequential\": [[0.0, \"#0d0887\"], [0.1111111111111111, \"#46039f\"], [0.2222222222222222, \"#7201a8\"], [0.3333333333333333, \"#9c179e\"], [0.4444444444444444, \"#bd3786\"], [0.5555555555555556, \"#d8576b\"], [0.6666666666666666, \"#ed7953\"], [0.7777777777777778, \"#fb9f3a\"], [0.8888888888888888, \"#fdca26\"], [1.0, \"#f0f921\"]], \"sequentialminus\": [[0.0, \"#0d0887\"], [0.1111111111111111, \"#46039f\"], [0.2222222222222222, \"#7201a8\"], [0.3333333333333333, \"#9c179e\"], [0.4444444444444444, \"#bd3786\"], [0.5555555555555556, \"#d8576b\"], [0.6666666666666666, \"#ed7953\"], [0.7777777777777778, \"#fb9f3a\"], [0.8888888888888888, \"#fdca26\"], [1.0, \"#f0f921\"]]}, \"colorway\": [\"#636efa\", \"#EF553B\", \"#00cc96\", \"#ab63fa\", \"#FFA15A\", \"#19d3f3\", \"#FF6692\", \"#B6E880\", \"#FF97FF\", \"#FECB52\"], \"font\": {\"color\": \"#2a3f5f\"}, \"geo\": {\"bgcolor\": \"white\", \"lakecolor\": \"white\", \"landcolor\": \"#E5ECF6\", \"showlakes\": true, \"showland\": true, \"subunitcolor\": \"white\"}, \"hoverlabel\": {\"align\": \"left\"}, \"hovermode\": \"closest\", \"mapbox\": {\"style\": \"light\"}, \"paper_bgcolor\": \"white\", \"plot_bgcolor\": \"#E5ECF6\", \"polar\": {\"angularaxis\": {\"gridcolor\": \"white\", \"linecolor\": \"white\", \"ticks\": \"\"}, \"bgcolor\": \"#E5ECF6\", \"radialaxis\": {\"gridcolor\": \"white\", \"linecolor\": \"white\", \"ticks\": \"\"}}, \"scene\": {\"xaxis\": {\"backgroundcolor\": \"#E5ECF6\", \"gridcolor\": \"white\", \"gridwidth\": 2, \"linecolor\": \"white\", \"showbackground\": true, \"ticks\": \"\", \"zerolinecolor\": \"white\"}, \"yaxis\": {\"backgroundcolor\": \"#E5ECF6\", \"gridcolor\": \"white\", \"gridwidth\": 2, \"linecolor\": \"white\", \"showbackground\": true, \"ticks\": \"\", \"zerolinecolor\": \"white\"}, \"zaxis\": {\"backgroundcolor\": \"#E5ECF6\", \"gridcolor\": \"white\", \"gridwidth\": 2, \"linecolor\": \"white\", \"showbackground\": true, \"ticks\": \"\", \"zerolinecolor\": \"white\"}}, \"shapedefaults\": {\"line\": {\"color\": \"#2a3f5f\"}}, \"ternary\": {\"aaxis\": {\"gridcolor\": \"white\", \"linecolor\": \"white\", \"ticks\": \"\"}, \"baxis\": {\"gridcolor\": \"white\", \"linecolor\": \"white\", \"ticks\": \"\"}, \"bgcolor\": \"#E5ECF6\", \"caxis\": {\"gridcolor\": \"white\", \"linecolor\": \"white\", \"ticks\": \"\"}}, \"title\": {\"x\": 0.05}, \"xaxis\": {\"automargin\": true, \"gridcolor\": \"white\", \"linecolor\": \"white\", \"ticks\": \"\", \"title\": {\"standoff\": 15}, \"zerolinecolor\": \"white\", \"zerolinewidth\": 2}, \"yaxis\": {\"automargin\": true, \"gridcolor\": \"white\", \"linecolor\": \"white\", \"ticks\": \"\", \"title\": {\"standoff\": 15}, \"zerolinecolor\": \"white\", \"zerolinewidth\": 2}}}, \"title\": {\"text\": \"Distribution of Alexa Ratings\"}},\n",
       "                        {\"responsive\": true}\n",
       "                    ).then(function(){\n",
       "                            \n",
       "var gd = document.getElementById('70ec41b2-755a-403f-a122-8b78d69edb81');\n",
       "var x = new MutationObserver(function (mutations, observer) {{\n",
       "        var display = window.getComputedStyle(gd).display;\n",
       "        if (!display || display === 'none') {{\n",
       "            console.log([gd, 'removed!']);\n",
       "            Plotly.purge(gd);\n",
       "            observer.disconnect();\n",
       "        }}\n",
       "}});\n",
       "\n",
       "// Listen for the removal of the full notebook cells\n",
       "var notebookContainer = gd.closest('#notebook-container');\n",
       "if (notebookContainer) {{\n",
       "    x.observe(notebookContainer, {childList: true});\n",
       "}}\n",
       "\n",
       "// Listen for the clearing of the current output cell\n",
       "var outputEl = gd.closest('.output');\n",
       "if (outputEl) {{\n",
       "    x.observe(outputEl, {childList: true});\n",
       "}}\n",
       "\n",
       "                        })\n",
       "                };\n",
       "                });\n",
       "            </script>\n",
       "        </div>"
      ]
     },
     "metadata": {},
     "output_type": "display_data"
    }
   ],
   "source": [
    "ratings=df['rating'].value_counts()\n",
    "\n",
    "import plotly.express as px\n",
    "fig = px.funnel_area(names=ratings.index,\n",
    "                    values=ratings.values,\n",
    "                    title='Distribution of Alexa Ratings')\n",
    "fig.show()"
   ]
  },
  {
   "cell_type": "code",
   "execution_count": 36,
   "metadata": {},
   "outputs": [
    {
     "data": {
      "application/vnd.plotly.v1+json": {
       "config": {
        "plotlyServerURL": "https://plot.ly"
       },
       "data": [
        {
         "domain": {
          "x": [
           0,
           1
          ],
          "y": [
           0,
           1
          ]
         },
         "hoverlabel": {
          "namelength": 0
         },
         "hovertemplate": "label=%{label}<br>value=%{value}",
         "labels": [
          1,
          0
         ],
         "legendgroup": "",
         "name": "",
         "showlegend": true,
         "type": "pie",
         "values": [
          2893,
          257
         ]
        }
       ],
       "layout": {
        "legend": {
         "tracegroupgap": 0
        },
        "template": {
         "data": {
          "bar": [
           {
            "error_x": {
             "color": "#2a3f5f"
            },
            "error_y": {
             "color": "#2a3f5f"
            },
            "marker": {
             "line": {
              "color": "#E5ECF6",
              "width": 0.5
             }
            },
            "type": "bar"
           }
          ],
          "barpolar": [
           {
            "marker": {
             "line": {
              "color": "#E5ECF6",
              "width": 0.5
             }
            },
            "type": "barpolar"
           }
          ],
          "carpet": [
           {
            "aaxis": {
             "endlinecolor": "#2a3f5f",
             "gridcolor": "white",
             "linecolor": "white",
             "minorgridcolor": "white",
             "startlinecolor": "#2a3f5f"
            },
            "baxis": {
             "endlinecolor": "#2a3f5f",
             "gridcolor": "white",
             "linecolor": "white",
             "minorgridcolor": "white",
             "startlinecolor": "#2a3f5f"
            },
            "type": "carpet"
           }
          ],
          "choropleth": [
           {
            "colorbar": {
             "outlinewidth": 0,
             "ticks": ""
            },
            "type": "choropleth"
           }
          ],
          "contour": [
           {
            "colorbar": {
             "outlinewidth": 0,
             "ticks": ""
            },
            "colorscale": [
             [
              0,
              "#0d0887"
             ],
             [
              0.1111111111111111,
              "#46039f"
             ],
             [
              0.2222222222222222,
              "#7201a8"
             ],
             [
              0.3333333333333333,
              "#9c179e"
             ],
             [
              0.4444444444444444,
              "#bd3786"
             ],
             [
              0.5555555555555556,
              "#d8576b"
             ],
             [
              0.6666666666666666,
              "#ed7953"
             ],
             [
              0.7777777777777778,
              "#fb9f3a"
             ],
             [
              0.8888888888888888,
              "#fdca26"
             ],
             [
              1,
              "#f0f921"
             ]
            ],
            "type": "contour"
           }
          ],
          "contourcarpet": [
           {
            "colorbar": {
             "outlinewidth": 0,
             "ticks": ""
            },
            "type": "contourcarpet"
           }
          ],
          "heatmap": [
           {
            "colorbar": {
             "outlinewidth": 0,
             "ticks": ""
            },
            "colorscale": [
             [
              0,
              "#0d0887"
             ],
             [
              0.1111111111111111,
              "#46039f"
             ],
             [
              0.2222222222222222,
              "#7201a8"
             ],
             [
              0.3333333333333333,
              "#9c179e"
             ],
             [
              0.4444444444444444,
              "#bd3786"
             ],
             [
              0.5555555555555556,
              "#d8576b"
             ],
             [
              0.6666666666666666,
              "#ed7953"
             ],
             [
              0.7777777777777778,
              "#fb9f3a"
             ],
             [
              0.8888888888888888,
              "#fdca26"
             ],
             [
              1,
              "#f0f921"
             ]
            ],
            "type": "heatmap"
           }
          ],
          "heatmapgl": [
           {
            "colorbar": {
             "outlinewidth": 0,
             "ticks": ""
            },
            "colorscale": [
             [
              0,
              "#0d0887"
             ],
             [
              0.1111111111111111,
              "#46039f"
             ],
             [
              0.2222222222222222,
              "#7201a8"
             ],
             [
              0.3333333333333333,
              "#9c179e"
             ],
             [
              0.4444444444444444,
              "#bd3786"
             ],
             [
              0.5555555555555556,
              "#d8576b"
             ],
             [
              0.6666666666666666,
              "#ed7953"
             ],
             [
              0.7777777777777778,
              "#fb9f3a"
             ],
             [
              0.8888888888888888,
              "#fdca26"
             ],
             [
              1,
              "#f0f921"
             ]
            ],
            "type": "heatmapgl"
           }
          ],
          "histogram": [
           {
            "marker": {
             "colorbar": {
              "outlinewidth": 0,
              "ticks": ""
             }
            },
            "type": "histogram"
           }
          ],
          "histogram2d": [
           {
            "colorbar": {
             "outlinewidth": 0,
             "ticks": ""
            },
            "colorscale": [
             [
              0,
              "#0d0887"
             ],
             [
              0.1111111111111111,
              "#46039f"
             ],
             [
              0.2222222222222222,
              "#7201a8"
             ],
             [
              0.3333333333333333,
              "#9c179e"
             ],
             [
              0.4444444444444444,
              "#bd3786"
             ],
             [
              0.5555555555555556,
              "#d8576b"
             ],
             [
              0.6666666666666666,
              "#ed7953"
             ],
             [
              0.7777777777777778,
              "#fb9f3a"
             ],
             [
              0.8888888888888888,
              "#fdca26"
             ],
             [
              1,
              "#f0f921"
             ]
            ],
            "type": "histogram2d"
           }
          ],
          "histogram2dcontour": [
           {
            "colorbar": {
             "outlinewidth": 0,
             "ticks": ""
            },
            "colorscale": [
             [
              0,
              "#0d0887"
             ],
             [
              0.1111111111111111,
              "#46039f"
             ],
             [
              0.2222222222222222,
              "#7201a8"
             ],
             [
              0.3333333333333333,
              "#9c179e"
             ],
             [
              0.4444444444444444,
              "#bd3786"
             ],
             [
              0.5555555555555556,
              "#d8576b"
             ],
             [
              0.6666666666666666,
              "#ed7953"
             ],
             [
              0.7777777777777778,
              "#fb9f3a"
             ],
             [
              0.8888888888888888,
              "#fdca26"
             ],
             [
              1,
              "#f0f921"
             ]
            ],
            "type": "histogram2dcontour"
           }
          ],
          "mesh3d": [
           {
            "colorbar": {
             "outlinewidth": 0,
             "ticks": ""
            },
            "type": "mesh3d"
           }
          ],
          "parcoords": [
           {
            "line": {
             "colorbar": {
              "outlinewidth": 0,
              "ticks": ""
             }
            },
            "type": "parcoords"
           }
          ],
          "pie": [
           {
            "automargin": true,
            "type": "pie"
           }
          ],
          "scatter": [
           {
            "marker": {
             "colorbar": {
              "outlinewidth": 0,
              "ticks": ""
             }
            },
            "type": "scatter"
           }
          ],
          "scatter3d": [
           {
            "line": {
             "colorbar": {
              "outlinewidth": 0,
              "ticks": ""
             }
            },
            "marker": {
             "colorbar": {
              "outlinewidth": 0,
              "ticks": ""
             }
            },
            "type": "scatter3d"
           }
          ],
          "scattercarpet": [
           {
            "marker": {
             "colorbar": {
              "outlinewidth": 0,
              "ticks": ""
             }
            },
            "type": "scattercarpet"
           }
          ],
          "scattergeo": [
           {
            "marker": {
             "colorbar": {
              "outlinewidth": 0,
              "ticks": ""
             }
            },
            "type": "scattergeo"
           }
          ],
          "scattergl": [
           {
            "marker": {
             "colorbar": {
              "outlinewidth": 0,
              "ticks": ""
             }
            },
            "type": "scattergl"
           }
          ],
          "scattermapbox": [
           {
            "marker": {
             "colorbar": {
              "outlinewidth": 0,
              "ticks": ""
             }
            },
            "type": "scattermapbox"
           }
          ],
          "scatterpolar": [
           {
            "marker": {
             "colorbar": {
              "outlinewidth": 0,
              "ticks": ""
             }
            },
            "type": "scatterpolar"
           }
          ],
          "scatterpolargl": [
           {
            "marker": {
             "colorbar": {
              "outlinewidth": 0,
              "ticks": ""
             }
            },
            "type": "scatterpolargl"
           }
          ],
          "scatterternary": [
           {
            "marker": {
             "colorbar": {
              "outlinewidth": 0,
              "ticks": ""
             }
            },
            "type": "scatterternary"
           }
          ],
          "surface": [
           {
            "colorbar": {
             "outlinewidth": 0,
             "ticks": ""
            },
            "colorscale": [
             [
              0,
              "#0d0887"
             ],
             [
              0.1111111111111111,
              "#46039f"
             ],
             [
              0.2222222222222222,
              "#7201a8"
             ],
             [
              0.3333333333333333,
              "#9c179e"
             ],
             [
              0.4444444444444444,
              "#bd3786"
             ],
             [
              0.5555555555555556,
              "#d8576b"
             ],
             [
              0.6666666666666666,
              "#ed7953"
             ],
             [
              0.7777777777777778,
              "#fb9f3a"
             ],
             [
              0.8888888888888888,
              "#fdca26"
             ],
             [
              1,
              "#f0f921"
             ]
            ],
            "type": "surface"
           }
          ],
          "table": [
           {
            "cells": {
             "fill": {
              "color": "#EBF0F8"
             },
             "line": {
              "color": "white"
             }
            },
            "header": {
             "fill": {
              "color": "#C8D4E3"
             },
             "line": {
              "color": "white"
             }
            },
            "type": "table"
           }
          ]
         },
         "layout": {
          "annotationdefaults": {
           "arrowcolor": "#2a3f5f",
           "arrowhead": 0,
           "arrowwidth": 1
          },
          "coloraxis": {
           "colorbar": {
            "outlinewidth": 0,
            "ticks": ""
           }
          },
          "colorscale": {
           "diverging": [
            [
             0,
             "#8e0152"
            ],
            [
             0.1,
             "#c51b7d"
            ],
            [
             0.2,
             "#de77ae"
            ],
            [
             0.3,
             "#f1b6da"
            ],
            [
             0.4,
             "#fde0ef"
            ],
            [
             0.5,
             "#f7f7f7"
            ],
            [
             0.6,
             "#e6f5d0"
            ],
            [
             0.7,
             "#b8e186"
            ],
            [
             0.8,
             "#7fbc41"
            ],
            [
             0.9,
             "#4d9221"
            ],
            [
             1,
             "#276419"
            ]
           ],
           "sequential": [
            [
             0,
             "#0d0887"
            ],
            [
             0.1111111111111111,
             "#46039f"
            ],
            [
             0.2222222222222222,
             "#7201a8"
            ],
            [
             0.3333333333333333,
             "#9c179e"
            ],
            [
             0.4444444444444444,
             "#bd3786"
            ],
            [
             0.5555555555555556,
             "#d8576b"
            ],
            [
             0.6666666666666666,
             "#ed7953"
            ],
            [
             0.7777777777777778,
             "#fb9f3a"
            ],
            [
             0.8888888888888888,
             "#fdca26"
            ],
            [
             1,
             "#f0f921"
            ]
           ],
           "sequentialminus": [
            [
             0,
             "#0d0887"
            ],
            [
             0.1111111111111111,
             "#46039f"
            ],
            [
             0.2222222222222222,
             "#7201a8"
            ],
            [
             0.3333333333333333,
             "#9c179e"
            ],
            [
             0.4444444444444444,
             "#bd3786"
            ],
            [
             0.5555555555555556,
             "#d8576b"
            ],
            [
             0.6666666666666666,
             "#ed7953"
            ],
            [
             0.7777777777777778,
             "#fb9f3a"
            ],
            [
             0.8888888888888888,
             "#fdca26"
            ],
            [
             1,
             "#f0f921"
            ]
           ]
          },
          "colorway": [
           "#636efa",
           "#EF553B",
           "#00cc96",
           "#ab63fa",
           "#FFA15A",
           "#19d3f3",
           "#FF6692",
           "#B6E880",
           "#FF97FF",
           "#FECB52"
          ],
          "font": {
           "color": "#2a3f5f"
          },
          "geo": {
           "bgcolor": "white",
           "lakecolor": "white",
           "landcolor": "#E5ECF6",
           "showlakes": true,
           "showland": true,
           "subunitcolor": "white"
          },
          "hoverlabel": {
           "align": "left"
          },
          "hovermode": "closest",
          "mapbox": {
           "style": "light"
          },
          "paper_bgcolor": "white",
          "plot_bgcolor": "#E5ECF6",
          "polar": {
           "angularaxis": {
            "gridcolor": "white",
            "linecolor": "white",
            "ticks": ""
           },
           "bgcolor": "#E5ECF6",
           "radialaxis": {
            "gridcolor": "white",
            "linecolor": "white",
            "ticks": ""
           }
          },
          "scene": {
           "xaxis": {
            "backgroundcolor": "#E5ECF6",
            "gridcolor": "white",
            "gridwidth": 2,
            "linecolor": "white",
            "showbackground": true,
            "ticks": "",
            "zerolinecolor": "white"
           },
           "yaxis": {
            "backgroundcolor": "#E5ECF6",
            "gridcolor": "white",
            "gridwidth": 2,
            "linecolor": "white",
            "showbackground": true,
            "ticks": "",
            "zerolinecolor": "white"
           },
           "zaxis": {
            "backgroundcolor": "#E5ECF6",
            "gridcolor": "white",
            "gridwidth": 2,
            "linecolor": "white",
            "showbackground": true,
            "ticks": "",
            "zerolinecolor": "white"
           }
          },
          "shapedefaults": {
           "line": {
            "color": "#2a3f5f"
           }
          },
          "ternary": {
           "aaxis": {
            "gridcolor": "white",
            "linecolor": "white",
            "ticks": ""
           },
           "baxis": {
            "gridcolor": "white",
            "linecolor": "white",
            "ticks": ""
           },
           "bgcolor": "#E5ECF6",
           "caxis": {
            "gridcolor": "white",
            "linecolor": "white",
            "ticks": ""
           }
          },
          "title": {
           "x": 0.05
          },
          "xaxis": {
           "automargin": true,
           "gridcolor": "white",
           "linecolor": "white",
           "ticks": "",
           "title": {
            "standoff": 15
           },
           "zerolinecolor": "white",
           "zerolinewidth": 2
          },
          "yaxis": {
           "automargin": true,
           "gridcolor": "white",
           "linecolor": "white",
           "ticks": "",
           "title": {
            "standoff": 15
           },
           "zerolinecolor": "white",
           "zerolinewidth": 2
          }
         }
        },
        "title": {
         "text": "Distribution of Feedback"
        }
       }
      },
      "text/html": [
       "<div>\n",
       "        \n",
       "        \n",
       "            <div id=\"e6b42522-3984-4655-8f4e-bb367a411eb5\" class=\"plotly-graph-div\" style=\"height:525px; width:100%;\"></div>\n",
       "            <script type=\"text/javascript\">\n",
       "                require([\"plotly\"], function(Plotly) {\n",
       "                    window.PLOTLYENV=window.PLOTLYENV || {};\n",
       "                    \n",
       "                if (document.getElementById(\"e6b42522-3984-4655-8f4e-bb367a411eb5\")) {\n",
       "                    Plotly.newPlot(\n",
       "                        'e6b42522-3984-4655-8f4e-bb367a411eb5',\n",
       "                        [{\"domain\": {\"x\": [0.0, 1.0], \"y\": [0.0, 1.0]}, \"hoverlabel\": {\"namelength\": 0}, \"hovertemplate\": \"label=%{label}<br>value=%{value}\", \"labels\": [1, 0], \"legendgroup\": \"\", \"name\": \"\", \"showlegend\": true, \"type\": \"pie\", \"values\": [2893, 257]}],\n",
       "                        {\"legend\": {\"tracegroupgap\": 0}, \"template\": {\"data\": {\"bar\": [{\"error_x\": {\"color\": \"#2a3f5f\"}, \"error_y\": {\"color\": \"#2a3f5f\"}, \"marker\": {\"line\": {\"color\": \"#E5ECF6\", \"width\": 0.5}}, \"type\": \"bar\"}], \"barpolar\": [{\"marker\": {\"line\": {\"color\": \"#E5ECF6\", \"width\": 0.5}}, \"type\": \"barpolar\"}], \"carpet\": [{\"aaxis\": {\"endlinecolor\": \"#2a3f5f\", \"gridcolor\": \"white\", \"linecolor\": \"white\", \"minorgridcolor\": \"white\", \"startlinecolor\": \"#2a3f5f\"}, \"baxis\": {\"endlinecolor\": \"#2a3f5f\", \"gridcolor\": \"white\", \"linecolor\": \"white\", \"minorgridcolor\": \"white\", \"startlinecolor\": \"#2a3f5f\"}, \"type\": \"carpet\"}], \"choropleth\": [{\"colorbar\": {\"outlinewidth\": 0, \"ticks\": \"\"}, \"type\": \"choropleth\"}], \"contour\": [{\"colorbar\": {\"outlinewidth\": 0, \"ticks\": \"\"}, \"colorscale\": [[0.0, \"#0d0887\"], [0.1111111111111111, \"#46039f\"], [0.2222222222222222, \"#7201a8\"], [0.3333333333333333, \"#9c179e\"], [0.4444444444444444, \"#bd3786\"], [0.5555555555555556, \"#d8576b\"], [0.6666666666666666, \"#ed7953\"], [0.7777777777777778, \"#fb9f3a\"], [0.8888888888888888, \"#fdca26\"], [1.0, \"#f0f921\"]], \"type\": \"contour\"}], \"contourcarpet\": [{\"colorbar\": {\"outlinewidth\": 0, \"ticks\": \"\"}, \"type\": \"contourcarpet\"}], \"heatmap\": [{\"colorbar\": {\"outlinewidth\": 0, \"ticks\": \"\"}, \"colorscale\": [[0.0, \"#0d0887\"], [0.1111111111111111, \"#46039f\"], [0.2222222222222222, \"#7201a8\"], [0.3333333333333333, \"#9c179e\"], [0.4444444444444444, \"#bd3786\"], [0.5555555555555556, \"#d8576b\"], [0.6666666666666666, \"#ed7953\"], [0.7777777777777778, \"#fb9f3a\"], [0.8888888888888888, \"#fdca26\"], [1.0, \"#f0f921\"]], \"type\": \"heatmap\"}], \"heatmapgl\": [{\"colorbar\": {\"outlinewidth\": 0, \"ticks\": \"\"}, \"colorscale\": [[0.0, \"#0d0887\"], [0.1111111111111111, \"#46039f\"], [0.2222222222222222, \"#7201a8\"], [0.3333333333333333, \"#9c179e\"], [0.4444444444444444, \"#bd3786\"], [0.5555555555555556, \"#d8576b\"], [0.6666666666666666, \"#ed7953\"], [0.7777777777777778, \"#fb9f3a\"], [0.8888888888888888, \"#fdca26\"], [1.0, \"#f0f921\"]], \"type\": \"heatmapgl\"}], \"histogram\": [{\"marker\": {\"colorbar\": {\"outlinewidth\": 0, \"ticks\": \"\"}}, \"type\": \"histogram\"}], \"histogram2d\": [{\"colorbar\": {\"outlinewidth\": 0, \"ticks\": \"\"}, \"colorscale\": [[0.0, \"#0d0887\"], [0.1111111111111111, \"#46039f\"], [0.2222222222222222, \"#7201a8\"], [0.3333333333333333, \"#9c179e\"], [0.4444444444444444, \"#bd3786\"], [0.5555555555555556, \"#d8576b\"], [0.6666666666666666, \"#ed7953\"], [0.7777777777777778, \"#fb9f3a\"], [0.8888888888888888, \"#fdca26\"], [1.0, \"#f0f921\"]], \"type\": \"histogram2d\"}], \"histogram2dcontour\": [{\"colorbar\": {\"outlinewidth\": 0, \"ticks\": \"\"}, \"colorscale\": [[0.0, \"#0d0887\"], [0.1111111111111111, \"#46039f\"], [0.2222222222222222, \"#7201a8\"], [0.3333333333333333, \"#9c179e\"], [0.4444444444444444, \"#bd3786\"], [0.5555555555555556, \"#d8576b\"], [0.6666666666666666, \"#ed7953\"], [0.7777777777777778, \"#fb9f3a\"], [0.8888888888888888, \"#fdca26\"], [1.0, \"#f0f921\"]], \"type\": \"histogram2dcontour\"}], \"mesh3d\": [{\"colorbar\": {\"outlinewidth\": 0, \"ticks\": \"\"}, \"type\": \"mesh3d\"}], \"parcoords\": [{\"line\": {\"colorbar\": {\"outlinewidth\": 0, \"ticks\": \"\"}}, \"type\": \"parcoords\"}], \"pie\": [{\"automargin\": true, \"type\": \"pie\"}], \"scatter\": [{\"marker\": {\"colorbar\": {\"outlinewidth\": 0, \"ticks\": \"\"}}, \"type\": \"scatter\"}], \"scatter3d\": [{\"line\": {\"colorbar\": {\"outlinewidth\": 0, \"ticks\": \"\"}}, \"marker\": {\"colorbar\": {\"outlinewidth\": 0, \"ticks\": \"\"}}, \"type\": \"scatter3d\"}], \"scattercarpet\": [{\"marker\": {\"colorbar\": {\"outlinewidth\": 0, \"ticks\": \"\"}}, \"type\": \"scattercarpet\"}], \"scattergeo\": [{\"marker\": {\"colorbar\": {\"outlinewidth\": 0, \"ticks\": \"\"}}, \"type\": \"scattergeo\"}], \"scattergl\": [{\"marker\": {\"colorbar\": {\"outlinewidth\": 0, \"ticks\": \"\"}}, \"type\": \"scattergl\"}], \"scattermapbox\": [{\"marker\": {\"colorbar\": {\"outlinewidth\": 0, \"ticks\": \"\"}}, \"type\": \"scattermapbox\"}], \"scatterpolar\": [{\"marker\": {\"colorbar\": {\"outlinewidth\": 0, \"ticks\": \"\"}}, \"type\": \"scatterpolar\"}], \"scatterpolargl\": [{\"marker\": {\"colorbar\": {\"outlinewidth\": 0, \"ticks\": \"\"}}, \"type\": \"scatterpolargl\"}], \"scatterternary\": [{\"marker\": {\"colorbar\": {\"outlinewidth\": 0, \"ticks\": \"\"}}, \"type\": \"scatterternary\"}], \"surface\": [{\"colorbar\": {\"outlinewidth\": 0, \"ticks\": \"\"}, \"colorscale\": [[0.0, \"#0d0887\"], [0.1111111111111111, \"#46039f\"], [0.2222222222222222, \"#7201a8\"], [0.3333333333333333, \"#9c179e\"], [0.4444444444444444, \"#bd3786\"], [0.5555555555555556, \"#d8576b\"], [0.6666666666666666, \"#ed7953\"], [0.7777777777777778, \"#fb9f3a\"], [0.8888888888888888, \"#fdca26\"], [1.0, \"#f0f921\"]], \"type\": \"surface\"}], \"table\": [{\"cells\": {\"fill\": {\"color\": \"#EBF0F8\"}, \"line\": {\"color\": \"white\"}}, \"header\": {\"fill\": {\"color\": \"#C8D4E3\"}, \"line\": {\"color\": \"white\"}}, \"type\": \"table\"}]}, \"layout\": {\"annotationdefaults\": {\"arrowcolor\": \"#2a3f5f\", \"arrowhead\": 0, \"arrowwidth\": 1}, \"coloraxis\": {\"colorbar\": {\"outlinewidth\": 0, \"ticks\": \"\"}}, \"colorscale\": {\"diverging\": [[0, \"#8e0152\"], [0.1, \"#c51b7d\"], [0.2, \"#de77ae\"], [0.3, \"#f1b6da\"], [0.4, \"#fde0ef\"], [0.5, \"#f7f7f7\"], [0.6, \"#e6f5d0\"], [0.7, \"#b8e186\"], [0.8, \"#7fbc41\"], [0.9, \"#4d9221\"], [1, \"#276419\"]], \"sequential\": [[0.0, \"#0d0887\"], [0.1111111111111111, \"#46039f\"], [0.2222222222222222, \"#7201a8\"], [0.3333333333333333, \"#9c179e\"], [0.4444444444444444, \"#bd3786\"], [0.5555555555555556, \"#d8576b\"], [0.6666666666666666, \"#ed7953\"], [0.7777777777777778, \"#fb9f3a\"], [0.8888888888888888, \"#fdca26\"], [1.0, \"#f0f921\"]], \"sequentialminus\": [[0.0, \"#0d0887\"], [0.1111111111111111, \"#46039f\"], [0.2222222222222222, \"#7201a8\"], [0.3333333333333333, \"#9c179e\"], [0.4444444444444444, \"#bd3786\"], [0.5555555555555556, \"#d8576b\"], [0.6666666666666666, \"#ed7953\"], [0.7777777777777778, \"#fb9f3a\"], [0.8888888888888888, \"#fdca26\"], [1.0, \"#f0f921\"]]}, \"colorway\": [\"#636efa\", \"#EF553B\", \"#00cc96\", \"#ab63fa\", \"#FFA15A\", \"#19d3f3\", \"#FF6692\", \"#B6E880\", \"#FF97FF\", \"#FECB52\"], \"font\": {\"color\": \"#2a3f5f\"}, \"geo\": {\"bgcolor\": \"white\", \"lakecolor\": \"white\", \"landcolor\": \"#E5ECF6\", \"showlakes\": true, \"showland\": true, \"subunitcolor\": \"white\"}, \"hoverlabel\": {\"align\": \"left\"}, \"hovermode\": \"closest\", \"mapbox\": {\"style\": \"light\"}, \"paper_bgcolor\": \"white\", \"plot_bgcolor\": \"#E5ECF6\", \"polar\": {\"angularaxis\": {\"gridcolor\": \"white\", \"linecolor\": \"white\", \"ticks\": \"\"}, \"bgcolor\": \"#E5ECF6\", \"radialaxis\": {\"gridcolor\": \"white\", \"linecolor\": \"white\", \"ticks\": \"\"}}, \"scene\": {\"xaxis\": {\"backgroundcolor\": \"#E5ECF6\", \"gridcolor\": \"white\", \"gridwidth\": 2, \"linecolor\": \"white\", \"showbackground\": true, \"ticks\": \"\", \"zerolinecolor\": \"white\"}, \"yaxis\": {\"backgroundcolor\": \"#E5ECF6\", \"gridcolor\": \"white\", \"gridwidth\": 2, \"linecolor\": \"white\", \"showbackground\": true, \"ticks\": \"\", \"zerolinecolor\": \"white\"}, \"zaxis\": {\"backgroundcolor\": \"#E5ECF6\", \"gridcolor\": \"white\", \"gridwidth\": 2, \"linecolor\": \"white\", \"showbackground\": true, \"ticks\": \"\", \"zerolinecolor\": \"white\"}}, \"shapedefaults\": {\"line\": {\"color\": \"#2a3f5f\"}}, \"ternary\": {\"aaxis\": {\"gridcolor\": \"white\", \"linecolor\": \"white\", \"ticks\": \"\"}, \"baxis\": {\"gridcolor\": \"white\", \"linecolor\": \"white\", \"ticks\": \"\"}, \"bgcolor\": \"#E5ECF6\", \"caxis\": {\"gridcolor\": \"white\", \"linecolor\": \"white\", \"ticks\": \"\"}}, \"title\": {\"x\": 0.05}, \"xaxis\": {\"automargin\": true, \"gridcolor\": \"white\", \"linecolor\": \"white\", \"ticks\": \"\", \"title\": {\"standoff\": 15}, \"zerolinecolor\": \"white\", \"zerolinewidth\": 2}, \"yaxis\": {\"automargin\": true, \"gridcolor\": \"white\", \"linecolor\": \"white\", \"ticks\": \"\", \"title\": {\"standoff\": 15}, \"zerolinecolor\": \"white\", \"zerolinewidth\": 2}}}, \"title\": {\"text\": \"Distribution of Feedback\"}},\n",
       "                        {\"responsive\": true}\n",
       "                    ).then(function(){\n",
       "                            \n",
       "var gd = document.getElementById('e6b42522-3984-4655-8f4e-bb367a411eb5');\n",
       "var x = new MutationObserver(function (mutations, observer) {{\n",
       "        var display = window.getComputedStyle(gd).display;\n",
       "        if (!display || display === 'none') {{\n",
       "            console.log([gd, 'removed!']);\n",
       "            Plotly.purge(gd);\n",
       "            observer.disconnect();\n",
       "        }}\n",
       "}});\n",
       "\n",
       "// Listen for the removal of the full notebook cells\n",
       "var notebookContainer = gd.closest('#notebook-container');\n",
       "if (notebookContainer) {{\n",
       "    x.observe(notebookContainer, {childList: true});\n",
       "}}\n",
       "\n",
       "// Listen for the clearing of the current output cell\n",
       "var outputEl = gd.closest('.output');\n",
       "if (outputEl) {{\n",
       "    x.observe(outputEl, {childList: true});\n",
       "}}\n",
       "\n",
       "                        })\n",
       "                };\n",
       "                });\n",
       "            </script>\n",
       "        </div>"
      ]
     },
     "metadata": {},
     "output_type": "display_data"
    }
   ],
   "source": [
    "feedback=df['feedback'].value_counts()\n",
    "fig = px.pie(df, values=feedback.values, names=feedback.index,\n",
    "            title='Distribution of Feedback')\n",
    "fig.show()"
   ]
  },
  {
   "cell_type": "code",
   "execution_count": 35,
   "metadata": {},
   "outputs": [
    {
     "data": {
      "application/vnd.plotly.v1+json": {
       "config": {
        "plotlyServerURL": "https://plot.ly"
       },
       "data": [
        {
         "alignmentgroup": "True",
         "bingroup": "x",
         "hoverlabel": {
          "namelength": 0
         },
         "hovertemplate": "Review Length=%{x}<br>count=%{y}",
         "legendgroup": "",
         "marker": {
          "color": "#636efa"
         },
         "name": "",
         "offsetgroup": "",
         "orientation": "v",
         "showlegend": false,
         "type": "histogram",
         "x": [
          13,
          9,
          195,
          172,
          5,
          172,
          365,
          221,
          11,
          114,
          63,
          169,
          290,
          18,
          24,
          25,
          67,
          216,
          86,
          451,
          246,
          385,
          214,
          58,
          179,
          15,
          152,
          25,
          133,
          23,
          74,
          9,
          183,
          308,
          23,
          310,
          148,
          42,
          78,
          483,
          95,
          168,
          14,
          84,
          5,
          138,
          163,
          74,
          18,
          208,
          46,
          118,
          108,
          116,
          18,
          78,
          73,
          31,
          37,
          170,
          1,
          84,
          98,
          41,
          187,
          26,
          165,
          31,
          37,
          166,
          66,
          23,
          54,
          10,
          25,
          12,
          706,
          52,
          13,
          29,
          243,
          43,
          111,
          185,
          12,
          1,
          11,
          30,
          78,
          127,
          155,
          30,
          21,
          80,
          590,
          53,
          60,
          268,
          8,
          68,
          216,
          8,
          25,
          94,
          273,
          62,
          52,
          163,
          313,
          59,
          36,
          53,
          271,
          127,
          149,
          329,
          75,
          36,
          51,
          44,
          232,
          120,
          36,
          83,
          51,
          61,
          174,
          75,
          120,
          306,
          13,
          171,
          359,
          23,
          18,
          306,
          13,
          7,
          64,
          169,
          589,
          18,
          82,
          4,
          83,
          211,
          213,
          148,
          109,
          96,
          284,
          7,
          27,
          221,
          79,
          254,
          522,
          86,
          876,
          21,
          53,
          106,
          87,
          78,
          407,
          15,
          79,
          62,
          50,
          173,
          10,
          45,
          53,
          128,
          121,
          13,
          20,
          13,
          17,
          90,
          83,
          11,
          236,
          1,
          467,
          26,
          30,
          338,
          568,
          10,
          128,
          79,
          173,
          31,
          125,
          19,
          10,
          665,
          67,
          79,
          14,
          292,
          50,
          60,
          61,
          114,
          50,
          16,
          247,
          19,
          17,
          123,
          441,
          18,
          97,
          54,
          281,
          33,
          11,
          1,
          4,
          33,
          15,
          120,
          36,
          22,
          11,
          22,
          42,
          61,
          603,
          106,
          462,
          307,
          30,
          10,
          131,
          37,
          31,
          86,
          18,
          274,
          26,
          157,
          136,
          238,
          67,
          126,
          368,
          338,
          174,
          192,
          30,
          15,
          960,
          28,
          383,
          153,
          954,
          44,
          58,
          187,
          20,
          256,
          8,
          12,
          48,
          12,
          429,
          168,
          94,
          390,
          26,
          8,
          16,
          336,
          94,
          171,
          11,
          35,
          103,
          20,
          15,
          124,
          50,
          75,
          166,
          114,
          99,
          164,
          31,
          8,
          65,
          49,
          51,
          75,
          39,
          124,
          161,
          79,
          120,
          79,
          24,
          54,
          75,
          63,
          392,
          53,
          32,
          149,
          184,
          142,
          81,
          165,
          284,
          121,
          38,
          191,
          140,
          147,
          69,
          131,
          11,
          5,
          104,
          333,
          36,
          125,
          47,
          22,
          99,
          63,
          85,
          7,
          8,
          19,
          38,
          71,
          51,
          146,
          54,
          22,
          143,
          61,
          14,
          12,
          41,
          64,
          49,
          60,
          109,
          143,
          42,
          53,
          250,
          16,
          111,
          253,
          17,
          35,
          163,
          154,
          174,
          311,
          148,
          104,
          47,
          19,
          181,
          11,
          85,
          62,
          8,
          41,
          1,
          66,
          159,
          28,
          13,
          45,
          48,
          130,
          27,
          58,
          7,
          38,
          69,
          31,
          241,
          69,
          78,
          100,
          22,
          117,
          272,
          27,
          205,
          58,
          19,
          33,
          91,
          343,
          9,
          29,
          97,
          142,
          1,
          73,
          48,
          53,
          25,
          18,
          57,
          18,
          197,
          68,
          250,
          6,
          620,
          108,
          215,
          83,
          33,
          59,
          106,
          168,
          89,
          62,
          11,
          22,
          187,
          129,
          6,
          12,
          402,
          141,
          49,
          110,
          4,
          33,
          200,
          76,
          11,
          43,
          33,
          5,
          110,
          91,
          10,
          84,
          102,
          630,
          356,
          44,
          37,
          54,
          34,
          32,
          24,
          431,
          20,
          8,
          58,
          216,
          65,
          36,
          14,
          42,
          24,
          53,
          582,
          49,
          125,
          4,
          137,
          75,
          8,
          26,
          38,
          10,
          111,
          38,
          70,
          11,
          525,
          119,
          360,
          486,
          179,
          296,
          159,
          25,
          240,
          71,
          62,
          134,
          72,
          106,
          89,
          306,
          169,
          208,
          10,
          8,
          286,
          18,
          11,
          77,
          23,
          8,
          53,
          155,
          241,
          66,
          21,
          285,
          43,
          124,
          74,
          17,
          156,
          140,
          64,
          76,
          1,
          8,
          16,
          190,
          13,
          188,
          11,
          274,
          121,
          94,
          26,
          79,
          107,
          7,
          17,
          51,
          96,
          95,
          125,
          76,
          123,
          23,
          30,
          399,
          94,
          111,
          19,
          49,
          55,
          34,
          235,
          184,
          136,
          192,
          375,
          56,
          54,
          63,
          128,
          1954,
          255,
          35,
          78,
          205,
          69,
          33,
          132,
          684,
          30,
          318,
          102,
          40,
          267,
          60,
          134,
          113,
          68,
          172,
          138,
          8,
          136,
          23,
          30,
          207,
          476,
          12,
          288,
          5,
          25,
          19,
          81,
          17,
          46,
          54,
          32,
          30,
          343,
          29,
          833,
          16,
          90,
          23,
          72,
          147,
          36,
          60,
          120,
          183,
          28,
          166,
          66,
          304,
          172,
          25,
          23,
          553,
          376,
          269,
          20,
          7,
          170,
          397,
          87,
          14,
          398,
          122,
          326,
          114,
          43,
          22,
          39,
          245,
          43,
          36,
          39,
          27,
          7,
          19,
          103,
          14,
          175,
          12,
          87,
          414,
          12,
          20,
          39,
          11,
          9,
          174,
          1,
          11,
          8,
          13,
          15,
          7,
          149,
          122,
          91,
          104,
          50,
          123,
          14,
          89,
          73,
          10,
          104,
          220,
          104,
          108,
          116,
          167,
          79,
          149,
          64,
          12,
          51,
          227,
          26,
          583,
          107,
          184,
          90,
          39,
          79,
          13,
          11,
          204,
          315,
          152,
          49,
          50,
          97,
          18,
          8,
          165,
          172,
          365,
          221,
          11,
          114,
          63,
          169,
          290,
          18,
          24,
          25,
          67,
          216,
          86,
          451,
          246,
          385,
          214,
          58,
          179,
          15,
          152,
          25,
          133,
          23,
          74,
          9,
          183,
          308,
          23,
          310,
          148,
          42,
          78,
          483,
          95,
          168,
          14,
          84,
          5,
          138,
          163,
          74,
          18,
          208,
          46,
          118,
          108,
          116,
          18,
          78,
          73,
          31,
          37,
          170,
          1,
          84,
          98,
          41,
          187,
          26,
          165,
          31,
          37,
          166,
          66,
          23,
          54,
          10,
          25,
          12,
          706,
          52,
          13,
          29,
          243,
          43,
          111,
          185,
          12,
          1,
          11,
          30,
          78,
          127,
          155,
          30,
          21,
          80,
          590,
          53,
          60,
          268,
          8,
          68,
          216,
          8,
          25,
          94,
          273,
          62,
          52,
          163,
          313,
          59,
          36,
          53,
          271,
          127,
          149,
          329,
          75,
          36,
          51,
          44,
          232,
          120,
          36,
          83,
          51,
          61,
          174,
          75,
          120,
          306,
          13,
          171,
          359,
          23,
          18,
          306,
          13,
          7,
          64,
          169,
          589,
          18,
          82,
          4,
          83,
          211,
          213,
          148,
          109,
          96,
          284,
          7,
          27,
          221,
          79,
          254,
          522,
          86,
          876,
          21,
          53,
          106,
          87,
          78,
          407,
          15,
          79,
          62,
          50,
          173,
          10,
          45,
          53,
          128,
          121,
          13,
          20,
          13,
          17,
          90,
          83,
          11,
          236,
          1,
          467,
          26,
          30,
          338,
          568,
          10,
          128,
          79,
          173,
          31,
          125,
          19,
          10,
          665,
          67,
          79,
          14,
          292,
          50,
          60,
          61,
          114,
          50,
          16,
          247,
          19,
          17,
          123,
          441,
          18,
          97,
          54,
          281,
          33,
          11,
          1,
          4,
          33,
          15,
          120,
          36,
          22,
          11,
          22,
          42,
          61,
          603,
          106,
          462,
          307,
          30,
          10,
          131,
          37,
          31,
          86,
          18,
          274,
          26,
          157,
          136,
          238,
          67,
          126,
          368,
          338,
          174,
          192,
          30,
          15,
          960,
          28,
          383,
          153,
          954,
          44,
          58,
          187,
          20,
          256,
          8,
          12,
          48,
          12,
          429,
          168,
          94,
          390,
          26,
          8,
          16,
          336,
          94,
          171,
          11,
          35,
          103,
          20,
          15,
          124,
          50,
          75,
          166,
          114,
          99,
          164,
          31,
          8,
          65,
          49,
          51,
          75,
          39,
          124,
          161,
          79,
          120,
          79,
          24,
          54,
          75,
          63,
          392,
          53,
          32,
          149,
          184,
          142,
          81,
          165,
          284,
          121,
          38,
          191,
          140,
          147,
          69,
          131,
          11,
          5,
          104,
          333,
          36,
          125,
          47,
          22,
          99,
          63,
          85,
          7,
          8,
          19,
          38,
          71,
          51,
          146,
          54,
          22,
          143,
          61,
          14,
          12,
          41,
          64,
          49,
          60,
          11,
          20,
          13,
          84,
          74,
          71,
          218,
          42,
          108,
          139,
          415,
          646,
          773,
          177,
          193,
          227,
          46,
          179,
          69,
          161,
          88,
          512,
          317,
          100,
          18,
          36,
          172,
          249,
          35,
          750,
          32,
          184,
          7,
          300,
          79,
          24,
          89,
          99,
          52,
          20,
          229,
          117,
          31,
          139,
          102,
          23,
          279,
          119,
          226,
          1,
          18,
          26,
          7,
          493,
          260,
          210,
          58,
          210,
          416,
          903,
          15,
          604,
          452,
          98,
          256,
          4,
          9,
          1,
          496,
          174,
          66,
          156,
          70,
          54,
          1,
          446,
          10,
          80,
          383,
          12,
          30,
          248,
          13,
          537,
          396,
          18,
          90,
          438,
          48,
          102,
          252,
          476,
          301,
          23,
          9,
          51,
          30,
          114,
          27,
          43,
          282,
          227,
          316,
          56,
          8,
          1,
          1,
          424,
          121,
          70,
          142,
          124,
          217,
          34,
          81,
          205,
          59,
          210,
          32,
          14,
          95,
          269,
          30,
          115,
          23,
          300,
          239,
          38,
          11,
          152,
          193,
          34,
          21,
          13,
          116,
          6,
          241,
          53,
          50,
          45,
          41,
          91,
          144,
          234,
          135,
          47,
          191,
          100,
          618,
          24,
          245,
          12,
          430,
          387,
          126,
          3,
          37,
          187,
          27,
          370,
          340,
          13,
          26,
          131,
          775,
          23,
          10,
          179,
          16,
          170,
          437,
          54,
          270,
          382,
          216,
          34,
          42,
          141,
          420,
          7,
          79,
          353,
          48,
          37,
          54,
          10,
          333,
          44,
          727,
          114,
          50,
          180,
          433,
          84,
          39,
          117,
          158,
          10,
          204,
          202,
          62,
          428,
          389,
          189,
          101,
          87,
          46,
          176,
          166,
          375,
          183,
          295,
          117,
          125,
          8,
          251,
          116,
          243,
          14,
          20,
          20,
          85,
          96,
          69,
          279,
          33,
          68,
          67,
          622,
          237,
          1,
          239,
          116,
          438,
          215,
          135,
          88,
          43,
          200,
          33,
          220,
          17,
          13,
          206,
          1039,
          9,
          119,
          35,
          316,
          166,
          21,
          119,
          43,
          139,
          23,
          81,
          192,
          20,
          5,
          154,
          34,
          367,
          284,
          27,
          525,
          823,
          268,
          205,
          17,
          147,
          240,
          201,
          205,
          239,
          303,
          152,
          1,
          2393,
          249,
          8,
          149,
          124,
          71,
          166,
          949,
          146,
          12,
          833,
          43,
          83,
          124,
          99,
          49,
          57,
          27,
          70,
          192,
          151,
          212,
          276,
          281,
          53,
          676,
          195,
          188,
          169,
          525,
          244,
          241,
          1,
          484,
          112,
          114,
          215,
          89,
          1,
          328,
          65,
          270,
          322,
          519,
          7,
          35,
          109,
          496,
          229,
          62,
          397,
          560,
          144,
          65,
          181,
          357,
          15,
          577,
          1142,
          319,
          51,
          1833,
          79,
          1,
          88,
          594,
          344,
          1,
          145,
          27,
          7,
          210,
          189,
          77,
          25,
          684,
          304,
          325,
          90,
          137,
          459,
          66,
          32,
          48,
          9,
          96,
          109,
          76,
          272,
          85,
          8,
          142,
          192,
          54,
          101,
          153,
          287,
          8,
          1,
          47,
          537,
          51,
          442,
          78,
          22,
          13,
          212,
          207,
          166,
          100,
          168,
          96,
          164,
          19,
          108,
          325,
          107,
          66,
          978,
          34,
          296,
          115,
          96,
          239,
          345,
          1,
          770,
          30,
          124,
          86,
          224,
          666,
          67,
          61,
          25,
          10,
          53,
          412,
          180,
          1,
          107,
          47,
          207,
          16,
          65,
          27,
          9,
          590,
          158,
          47,
          311,
          464,
          103,
          14,
          198,
          187,
          580,
          367,
          60,
          220,
          8,
          32,
          36,
          272,
          10,
          77,
          37,
          103,
          97,
          91,
          395,
          11,
          106,
          101,
          143,
          62,
          12,
          25,
          242,
          71,
          49,
          24,
          93,
          201,
          61,
          82,
          95,
          53,
          321,
          240,
          138,
          1,
          194,
          291,
          8,
          96,
          26,
          52,
          45,
          50,
          861,
          23,
          204,
          8,
          69,
          187,
          38,
          38,
          151,
          76,
          241,
          211,
          223,
          250,
          53,
          54,
          13,
          8,
          57,
          125,
          55,
          84,
          153,
          3,
          36,
          131,
          30,
          32,
          18,
          77,
          18,
          70,
          9,
          44,
          259,
          258,
          1,
          32,
          541,
          976,
          64,
          388,
          18,
          34,
          40,
          668,
          18,
          32,
          33,
          334,
          53,
          290,
          13,
          501,
          16,
          1,
          56,
          273,
          72,
          1,
          364,
          18,
          168,
          256,
          130,
          131,
          12,
          7,
          99,
          66,
          88,
          589,
          87,
          23,
          11,
          285,
          47,
          64,
          39,
          592,
          308,
          8,
          34,
          1311,
          137,
          36,
          67,
          102,
          12,
          242,
          591,
          41,
          1,
          72,
          101,
          325,
          150,
          238,
          137,
          936,
          32,
          138,
          91,
          775,
          153,
          65,
          237,
          281,
          111,
          306,
          200,
          143,
          167,
          46,
          255,
          343,
          359,
          69,
          287,
          34,
          372,
          9,
          73,
          218,
          81,
          10,
          46,
          61,
          179,
          77,
          14,
          94,
          4,
          132,
          535,
          23,
          182,
          96,
          179,
          7,
          405,
          102,
          205,
          149,
          94,
          303,
          22,
          15,
          122,
          192,
          54,
          12,
          72,
          331,
          23,
          33,
          10,
          122,
          23,
          78,
          51,
          30,
          98,
          123,
          416,
          72,
          10,
          68,
          106,
          26,
          2,
          167,
          147,
          216,
          9,
          55,
          60,
          27,
          238,
          214,
          8,
          143,
          53,
          132,
          16,
          57,
          336,
          7,
          187,
          39,
          77,
          4,
          270,
          62,
          55,
          22,
          44,
          299,
          26,
          176,
          87,
          13,
          306,
          265,
          59,
          96,
          1,
          209,
          161,
          78,
          70,
          17,
          13,
          272,
          63,
          179,
          31,
          206,
          113,
          91,
          116,
          24,
          827,
          103,
          385,
          221,
          38,
          113,
          205,
          103,
          126,
          99,
          155,
          93,
          64,
          21,
          15,
          219,
          92,
          1,
          414,
          82,
          1,
          134,
          93,
          159,
          92,
          25,
          620,
          88,
          175,
          97,
          133,
          162,
          39,
          210,
          362,
          718,
          313,
          12,
          230,
          29,
          96,
          227,
          282,
          295,
          725,
          101,
          9,
          789,
          88,
          34,
          133,
          11,
          139,
          82,
          54,
          160,
          7,
          66,
          5,
          39,
          423,
          61,
          118,
          72,
          1,
          684,
          135,
          19,
          84,
          86,
          901,
          75,
          997,
          433,
          88,
          104,
          104,
          58,
          17,
          165,
          190,
          96,
          39,
          162,
          1360,
          30,
          48,
          92,
          130,
          37,
          22,
          31,
          22,
          46,
          84,
          197,
          40,
          68,
          141,
          86,
          43,
          141,
          1126,
          86,
          33,
          3,
          93,
          154,
          120,
          133,
          156,
          33,
          73,
          27,
          59,
          42,
          141,
          47,
          134,
          49,
          73,
          350,
          28,
          66,
          168,
          21,
          98,
          45,
          10,
          291,
          168,
          44,
          64,
          170,
          250,
          221,
          91,
          405,
          211,
          390,
          22,
          16,
          26,
          16,
          205,
          107,
          67,
          8,
          109,
          352,
          58,
          320,
          38,
          297,
          15,
          182,
          251,
          182,
          105,
          40,
          69,
          24,
          124,
          33,
          13,
          114,
          795,
          240,
          217,
          61,
          200,
          232,
          69,
          73,
          464,
          39,
          29,
          29,
          93,
          10,
          55,
          48,
          133,
          150,
          593,
          152,
          59,
          168,
          319,
          123,
          16,
          69,
          97,
          2,
          43,
          164,
          136,
          442,
          91,
          42,
          287,
          612,
          73,
          118,
          188,
          43,
          64,
          473,
          149,
          114,
          1,
          8,
          194,
          575,
          68,
          97,
          52,
          51,
          137,
          56,
          318,
          22,
          237,
          882,
          190,
          140,
          101,
          19,
          40,
          112,
          661,
          1,
          159,
          172,
          62,
          94,
          72,
          1,
          1296,
          460,
          146,
          171,
          1309,
          1,
          93,
          51,
          289,
          163,
          65,
          15,
          259,
          689,
          1686,
          103,
          40,
          473,
          99,
          134,
          114,
          131,
          1330,
          509,
          28,
          172,
          595,
          517,
          225,
          76,
          454,
          197,
          1,
          714,
          2851,
          108,
          16,
          1,
          13,
          1124,
          179,
          64,
          7,
          476,
          27,
          151,
          75,
          70,
          99,
          31,
          1,
          381,
          18,
          220,
          83,
          1,
          589,
          690,
          282,
          10,
          63,
          300,
          42,
          189,
          316,
          720,
          1,
          129,
          104,
          242,
          532,
          32,
          75,
          106,
          8,
          52,
          108,
          99,
          72,
          18,
          70,
          66,
          61,
          274,
          40,
          95,
          22,
          102,
          147,
          303,
          65,
          1,
          55,
          34,
          5,
          97,
          13,
          40,
          45,
          36,
          102,
          11,
          719,
          11,
          10,
          16,
          380,
          93,
          538,
          411,
          35,
          334,
          13,
          272,
          201,
          5,
          521,
          58,
          210,
          130,
          20,
          56,
          1,
          12,
          66,
          1,
          14,
          44,
          80,
          17,
          53,
          53,
          7,
          71,
          121,
          247,
          38,
          177,
          47,
          47,
          78,
          17,
          11,
          239,
          45,
          8,
          17,
          272,
          131,
          1,
          96,
          18,
          45,
          30,
          123,
          122,
          22,
          98,
          60,
          1,
          111,
          24,
          82,
          201,
          39,
          107,
          21,
          210,
          156,
          23,
          284,
          56,
          293,
          69,
          134,
          113,
          11,
          42,
          100,
          29,
          137,
          167,
          22,
          91,
          54,
          22,
          22,
          45,
          16,
          254,
          78,
          42,
          30,
          7,
          9,
          104,
          50,
          2,
          187,
          23,
          23,
          14,
          47,
          213,
          66,
          1,
          69,
          194,
          35,
          27,
          9,
          37,
          14,
          114,
          40,
          1,
          11,
          57,
          112,
          229,
          36,
          16,
          300,
          39,
          61,
          33,
          21,
          45,
          13,
          365,
          71,
          118,
          54,
          63,
          20,
          84,
          27,
          33,
          75,
          1,
          88,
          86,
          56,
          224,
          626,
          57,
          224,
          125,
          11,
          12,
          118,
          29,
          1564,
          10,
          10,
          83,
          4,
          8,
          23,
          31,
          7,
          56,
          1,
          89,
          14,
          14,
          134,
          49,
          4,
          327,
          95,
          5,
          32,
          107,
          98,
          18,
          54,
          78,
          60,
          8,
          18,
          22,
          52,
          67,
          160,
          71,
          112,
          59,
          66,
          50,
          248,
          152,
          264,
          9,
          180,
          81,
          106,
          45,
          93,
          54,
          38,
          13,
          157,
          25,
          22,
          125,
          211,
          44,
          77,
          40,
          107,
          111,
          30,
          66,
          49,
          50,
          116,
          56,
          51,
          11,
          7,
          10,
          181,
          277,
          23,
          79,
          43,
          260,
          60,
          39,
          91,
          219,
          76,
          174,
          89,
          11,
          85,
          45,
          155,
          132,
          202,
          15,
          44,
          55,
          76,
          12,
          211,
          41,
          446,
          319,
          15,
          61,
          115,
          124,
          66,
          82,
          52,
          30,
          28,
          45,
          12,
          130,
          98,
          79,
          32,
          87,
          34,
          147,
          47,
          60,
          57,
          29,
          50,
          14,
          14,
          38,
          112,
          1,
          79,
          194,
          83,
          88,
          46,
          163,
          65,
          33,
          23,
          31,
          120,
          75,
          21,
          19,
          111,
          460,
          18,
          269,
          152,
          217,
          13,
          8,
          76,
          219,
          9,
          65,
          61,
          199,
          10,
          67,
          333,
          17,
          67,
          14,
          24,
          25,
          46,
          76,
          43,
          235,
          76,
          16,
          36,
          21,
          113,
          40,
          10,
          38,
          21,
          80,
          67,
          465,
          207,
          58,
          174,
          242,
          95,
          16,
          75,
          5,
          38,
          73,
          364,
          126,
          77,
          43,
          29,
          143,
          57,
          21,
          1,
          68,
          100,
          76,
          27,
          164,
          2,
          18,
          9,
          289,
          58,
          15,
          165,
          29,
          95,
          83,
          19,
          50,
          26,
          12,
          152,
          80,
          14,
          135,
          16,
          1,
          154,
          189,
          43,
          153,
          5,
          451,
          47,
          49,
          107,
          65,
          40,
          21,
          24,
          26,
          429,
          79,
          101,
          30,
          11,
          17,
          25,
          42,
          698,
          60,
          12,
          43,
          56,
          132,
          21,
          22,
          42,
          27,
          570,
          38,
          88,
          343,
          75,
          174,
          306,
          31,
          26,
          113,
          327,
          30,
          117,
          30,
          652,
          13,
          87,
          223,
          481,
          31,
          23,
          22,
          1,
          53,
          13,
          14,
          57,
          22,
          78,
          674,
          39,
          9,
          24,
          154,
          407,
          33,
          24,
          1,
          39,
          31,
          20,
          53,
          20,
          31,
          129,
          219,
          38,
          55,
          60,
          58,
          33,
          323,
          203,
          22,
          19,
          62,
          111,
          13,
          19,
          114,
          102,
          38,
          33,
          40,
          11,
          62,
          277,
          32,
          22,
          201,
          740,
          557,
          33,
          270,
          186,
          36,
          38,
          32,
          71,
          1,
          84,
          92,
          44,
          29,
          72,
          250,
          92,
          82,
          16,
          17,
          105,
          20,
          30,
          89,
          80,
          107,
          12,
          76,
          4,
          21,
          15,
          197,
          13,
          18,
          58,
          20,
          180,
          428,
          196,
          99,
          125,
          27,
          19,
          123,
          47,
          109,
          19,
          16,
          80,
          255,
          11,
          13,
          25,
          288,
          97,
          134,
          69,
          107,
          67,
          91,
          213,
          371,
          18,
          7,
          309,
          78,
          80,
          207,
          112,
          1,
          1,
          31,
          53,
          66,
          193,
          24,
          42,
          43,
          71,
          86,
          82,
          82,
          70,
          7,
          19,
          34,
          59,
          68,
          46,
          207,
          71,
          54,
          81,
          203,
          40,
          10,
          25,
          157,
          37,
          6,
          280,
          146,
          106,
          120,
          1,
          127,
          29,
          340,
          106,
          32,
          325,
          221,
          160,
          13,
          216,
          673,
          52,
          557,
          71,
          163,
          196,
          31,
          11,
          151,
          393,
          116,
          551,
          176,
          43,
          25,
          300,
          46,
          104,
          12,
          62,
          106,
          95,
          233,
          120,
          37,
          632,
          59,
          54,
          8,
          27,
          772,
          33,
          157,
          86,
          259,
          98,
          84,
          98,
          100,
          361,
          196,
          33,
          103,
          240,
          59,
          188,
          51,
          164,
          95,
          12,
          24,
          145,
          110,
          177,
          40,
          54,
          31,
          57,
          53,
          1,
          141,
          14,
          127,
          7,
          50,
          67,
          11,
          17,
          175,
          118,
          56,
          31,
          210,
          20,
          32,
          11,
          148,
          252,
          77,
          66,
          35,
          108,
          37,
          85,
          41,
          66,
          401,
          174,
          193,
          56,
          1,
          55,
          39,
          126,
          62,
          125,
          1,
          84,
          52,
          1,
          128,
          125,
          1,
          88,
          47,
          352,
          41,
          26,
          16,
          102,
          10,
          36,
          56,
          15,
          98,
          39,
          5,
          1,
          117,
          42,
          7,
          50,
          135,
          441,
          380,
          4,
          27,
          122,
          152,
          80,
          14,
          135,
          16,
          1,
          154,
          189,
          43,
          153,
          5,
          451,
          47,
          49,
          107,
          65,
          40,
          21,
          24,
          26,
          429,
          79,
          101,
          30,
          11,
          17,
          25,
          42,
          698,
          60,
          12,
          43,
          56,
          132,
          21,
          22,
          42,
          27,
          570,
          38,
          88,
          343,
          75,
          174,
          306,
          31,
          26,
          113,
          327,
          30,
          117,
          30,
          652,
          13,
          87,
          223,
          481,
          31,
          23,
          22,
          1,
          53,
          13,
          14,
          57,
          22,
          78,
          674,
          39,
          9,
          24,
          154,
          407,
          33,
          24,
          1,
          39,
          31,
          20,
          53,
          20,
          31,
          129,
          219,
          38,
          55,
          60,
          58,
          33,
          323,
          203,
          22,
          19,
          62,
          111,
          13,
          19,
          114,
          102,
          38,
          33,
          40,
          11,
          62,
          277,
          32,
          22,
          201,
          740,
          557,
          33,
          270,
          186,
          36,
          38,
          32,
          71,
          1,
          84,
          92,
          44,
          29,
          72,
          250,
          92,
          82,
          16,
          17,
          105,
          20,
          30,
          89,
          80,
          107,
          12,
          76,
          4,
          21,
          15,
          197,
          13,
          18,
          58,
          20,
          180,
          428,
          196,
          99,
          125,
          27,
          19,
          123,
          47,
          109,
          19,
          16,
          80,
          255,
          11,
          13,
          25,
          288,
          97,
          134,
          69,
          107,
          67,
          91,
          213,
          371,
          18,
          7,
          309,
          78,
          80,
          207,
          112,
          1,
          1,
          31,
          53,
          66,
          193,
          24,
          42,
          43,
          71,
          86,
          82,
          82,
          70,
          7,
          19,
          34,
          59,
          68,
          46,
          207,
          71,
          54,
          81,
          203,
          40,
          10,
          25,
          157,
          37,
          6,
          280,
          146,
          106,
          120,
          1,
          127,
          29,
          340,
          106,
          32,
          325,
          221,
          160,
          13,
          216,
          673,
          52,
          557,
          71,
          163,
          196,
          31,
          11,
          151,
          393,
          116,
          551,
          176,
          43,
          25,
          300,
          46,
          104,
          12,
          62,
          106,
          95,
          233,
          120,
          37,
          632,
          59,
          54,
          8,
          27,
          772,
          33,
          157,
          86,
          259,
          98,
          84,
          98,
          100,
          361,
          196,
          33,
          103,
          240,
          59,
          188,
          51,
          164,
          95,
          12,
          24,
          145,
          110,
          177,
          40,
          54,
          31,
          57,
          53,
          1,
          141,
          14,
          127,
          7,
          50,
          67,
          11,
          17,
          175,
          118,
          56,
          31,
          210,
          20,
          32,
          11,
          148,
          252,
          77,
          66,
          35,
          108,
          37,
          85,
          41,
          66,
          401,
          174,
          193,
          56,
          1,
          55,
          39,
          126,
          62,
          125,
          1,
          84,
          52,
          1,
          128,
          125,
          1,
          88,
          47,
          352,
          41,
          26,
          16,
          102,
          10,
          36,
          56,
          15,
          98,
          39,
          5,
          1,
          117,
          42,
          7,
          50,
          135,
          441,
          380,
          4
         ],
         "xaxis": "x",
         "yaxis": "y"
        }
       ],
       "layout": {
        "barmode": "relative",
        "legend": {
         "tracegroupgap": 0
        },
        "template": {
         "data": {
          "bar": [
           {
            "error_x": {
             "color": "#2a3f5f"
            },
            "error_y": {
             "color": "#2a3f5f"
            },
            "marker": {
             "line": {
              "color": "#E5ECF6",
              "width": 0.5
             }
            },
            "type": "bar"
           }
          ],
          "barpolar": [
           {
            "marker": {
             "line": {
              "color": "#E5ECF6",
              "width": 0.5
             }
            },
            "type": "barpolar"
           }
          ],
          "carpet": [
           {
            "aaxis": {
             "endlinecolor": "#2a3f5f",
             "gridcolor": "white",
             "linecolor": "white",
             "minorgridcolor": "white",
             "startlinecolor": "#2a3f5f"
            },
            "baxis": {
             "endlinecolor": "#2a3f5f",
             "gridcolor": "white",
             "linecolor": "white",
             "minorgridcolor": "white",
             "startlinecolor": "#2a3f5f"
            },
            "type": "carpet"
           }
          ],
          "choropleth": [
           {
            "colorbar": {
             "outlinewidth": 0,
             "ticks": ""
            },
            "type": "choropleth"
           }
          ],
          "contour": [
           {
            "colorbar": {
             "outlinewidth": 0,
             "ticks": ""
            },
            "colorscale": [
             [
              0,
              "#0d0887"
             ],
             [
              0.1111111111111111,
              "#46039f"
             ],
             [
              0.2222222222222222,
              "#7201a8"
             ],
             [
              0.3333333333333333,
              "#9c179e"
             ],
             [
              0.4444444444444444,
              "#bd3786"
             ],
             [
              0.5555555555555556,
              "#d8576b"
             ],
             [
              0.6666666666666666,
              "#ed7953"
             ],
             [
              0.7777777777777778,
              "#fb9f3a"
             ],
             [
              0.8888888888888888,
              "#fdca26"
             ],
             [
              1,
              "#f0f921"
             ]
            ],
            "type": "contour"
           }
          ],
          "contourcarpet": [
           {
            "colorbar": {
             "outlinewidth": 0,
             "ticks": ""
            },
            "type": "contourcarpet"
           }
          ],
          "heatmap": [
           {
            "colorbar": {
             "outlinewidth": 0,
             "ticks": ""
            },
            "colorscale": [
             [
              0,
              "#0d0887"
             ],
             [
              0.1111111111111111,
              "#46039f"
             ],
             [
              0.2222222222222222,
              "#7201a8"
             ],
             [
              0.3333333333333333,
              "#9c179e"
             ],
             [
              0.4444444444444444,
              "#bd3786"
             ],
             [
              0.5555555555555556,
              "#d8576b"
             ],
             [
              0.6666666666666666,
              "#ed7953"
             ],
             [
              0.7777777777777778,
              "#fb9f3a"
             ],
             [
              0.8888888888888888,
              "#fdca26"
             ],
             [
              1,
              "#f0f921"
             ]
            ],
            "type": "heatmap"
           }
          ],
          "heatmapgl": [
           {
            "colorbar": {
             "outlinewidth": 0,
             "ticks": ""
            },
            "colorscale": [
             [
              0,
              "#0d0887"
             ],
             [
              0.1111111111111111,
              "#46039f"
             ],
             [
              0.2222222222222222,
              "#7201a8"
             ],
             [
              0.3333333333333333,
              "#9c179e"
             ],
             [
              0.4444444444444444,
              "#bd3786"
             ],
             [
              0.5555555555555556,
              "#d8576b"
             ],
             [
              0.6666666666666666,
              "#ed7953"
             ],
             [
              0.7777777777777778,
              "#fb9f3a"
             ],
             [
              0.8888888888888888,
              "#fdca26"
             ],
             [
              1,
              "#f0f921"
             ]
            ],
            "type": "heatmapgl"
           }
          ],
          "histogram": [
           {
            "marker": {
             "colorbar": {
              "outlinewidth": 0,
              "ticks": ""
             }
            },
            "type": "histogram"
           }
          ],
          "histogram2d": [
           {
            "colorbar": {
             "outlinewidth": 0,
             "ticks": ""
            },
            "colorscale": [
             [
              0,
              "#0d0887"
             ],
             [
              0.1111111111111111,
              "#46039f"
             ],
             [
              0.2222222222222222,
              "#7201a8"
             ],
             [
              0.3333333333333333,
              "#9c179e"
             ],
             [
              0.4444444444444444,
              "#bd3786"
             ],
             [
              0.5555555555555556,
              "#d8576b"
             ],
             [
              0.6666666666666666,
              "#ed7953"
             ],
             [
              0.7777777777777778,
              "#fb9f3a"
             ],
             [
              0.8888888888888888,
              "#fdca26"
             ],
             [
              1,
              "#f0f921"
             ]
            ],
            "type": "histogram2d"
           }
          ],
          "histogram2dcontour": [
           {
            "colorbar": {
             "outlinewidth": 0,
             "ticks": ""
            },
            "colorscale": [
             [
              0,
              "#0d0887"
             ],
             [
              0.1111111111111111,
              "#46039f"
             ],
             [
              0.2222222222222222,
              "#7201a8"
             ],
             [
              0.3333333333333333,
              "#9c179e"
             ],
             [
              0.4444444444444444,
              "#bd3786"
             ],
             [
              0.5555555555555556,
              "#d8576b"
             ],
             [
              0.6666666666666666,
              "#ed7953"
             ],
             [
              0.7777777777777778,
              "#fb9f3a"
             ],
             [
              0.8888888888888888,
              "#fdca26"
             ],
             [
              1,
              "#f0f921"
             ]
            ],
            "type": "histogram2dcontour"
           }
          ],
          "mesh3d": [
           {
            "colorbar": {
             "outlinewidth": 0,
             "ticks": ""
            },
            "type": "mesh3d"
           }
          ],
          "parcoords": [
           {
            "line": {
             "colorbar": {
              "outlinewidth": 0,
              "ticks": ""
             }
            },
            "type": "parcoords"
           }
          ],
          "pie": [
           {
            "automargin": true,
            "type": "pie"
           }
          ],
          "scatter": [
           {
            "marker": {
             "colorbar": {
              "outlinewidth": 0,
              "ticks": ""
             }
            },
            "type": "scatter"
           }
          ],
          "scatter3d": [
           {
            "line": {
             "colorbar": {
              "outlinewidth": 0,
              "ticks": ""
             }
            },
            "marker": {
             "colorbar": {
              "outlinewidth": 0,
              "ticks": ""
             }
            },
            "type": "scatter3d"
           }
          ],
          "scattercarpet": [
           {
            "marker": {
             "colorbar": {
              "outlinewidth": 0,
              "ticks": ""
             }
            },
            "type": "scattercarpet"
           }
          ],
          "scattergeo": [
           {
            "marker": {
             "colorbar": {
              "outlinewidth": 0,
              "ticks": ""
             }
            },
            "type": "scattergeo"
           }
          ],
          "scattergl": [
           {
            "marker": {
             "colorbar": {
              "outlinewidth": 0,
              "ticks": ""
             }
            },
            "type": "scattergl"
           }
          ],
          "scattermapbox": [
           {
            "marker": {
             "colorbar": {
              "outlinewidth": 0,
              "ticks": ""
             }
            },
            "type": "scattermapbox"
           }
          ],
          "scatterpolar": [
           {
            "marker": {
             "colorbar": {
              "outlinewidth": 0,
              "ticks": ""
             }
            },
            "type": "scatterpolar"
           }
          ],
          "scatterpolargl": [
           {
            "marker": {
             "colorbar": {
              "outlinewidth": 0,
              "ticks": ""
             }
            },
            "type": "scatterpolargl"
           }
          ],
          "scatterternary": [
           {
            "marker": {
             "colorbar": {
              "outlinewidth": 0,
              "ticks": ""
             }
            },
            "type": "scatterternary"
           }
          ],
          "surface": [
           {
            "colorbar": {
             "outlinewidth": 0,
             "ticks": ""
            },
            "colorscale": [
             [
              0,
              "#0d0887"
             ],
             [
              0.1111111111111111,
              "#46039f"
             ],
             [
              0.2222222222222222,
              "#7201a8"
             ],
             [
              0.3333333333333333,
              "#9c179e"
             ],
             [
              0.4444444444444444,
              "#bd3786"
             ],
             [
              0.5555555555555556,
              "#d8576b"
             ],
             [
              0.6666666666666666,
              "#ed7953"
             ],
             [
              0.7777777777777778,
              "#fb9f3a"
             ],
             [
              0.8888888888888888,
              "#fdca26"
             ],
             [
              1,
              "#f0f921"
             ]
            ],
            "type": "surface"
           }
          ],
          "table": [
           {
            "cells": {
             "fill": {
              "color": "#EBF0F8"
             },
             "line": {
              "color": "white"
             }
            },
            "header": {
             "fill": {
              "color": "#C8D4E3"
             },
             "line": {
              "color": "white"
             }
            },
            "type": "table"
           }
          ]
         },
         "layout": {
          "annotationdefaults": {
           "arrowcolor": "#2a3f5f",
           "arrowhead": 0,
           "arrowwidth": 1
          },
          "coloraxis": {
           "colorbar": {
            "outlinewidth": 0,
            "ticks": ""
           }
          },
          "colorscale": {
           "diverging": [
            [
             0,
             "#8e0152"
            ],
            [
             0.1,
             "#c51b7d"
            ],
            [
             0.2,
             "#de77ae"
            ],
            [
             0.3,
             "#f1b6da"
            ],
            [
             0.4,
             "#fde0ef"
            ],
            [
             0.5,
             "#f7f7f7"
            ],
            [
             0.6,
             "#e6f5d0"
            ],
            [
             0.7,
             "#b8e186"
            ],
            [
             0.8,
             "#7fbc41"
            ],
            [
             0.9,
             "#4d9221"
            ],
            [
             1,
             "#276419"
            ]
           ],
           "sequential": [
            [
             0,
             "#0d0887"
            ],
            [
             0.1111111111111111,
             "#46039f"
            ],
            [
             0.2222222222222222,
             "#7201a8"
            ],
            [
             0.3333333333333333,
             "#9c179e"
            ],
            [
             0.4444444444444444,
             "#bd3786"
            ],
            [
             0.5555555555555556,
             "#d8576b"
            ],
            [
             0.6666666666666666,
             "#ed7953"
            ],
            [
             0.7777777777777778,
             "#fb9f3a"
            ],
            [
             0.8888888888888888,
             "#fdca26"
            ],
            [
             1,
             "#f0f921"
            ]
           ],
           "sequentialminus": [
            [
             0,
             "#0d0887"
            ],
            [
             0.1111111111111111,
             "#46039f"
            ],
            [
             0.2222222222222222,
             "#7201a8"
            ],
            [
             0.3333333333333333,
             "#9c179e"
            ],
            [
             0.4444444444444444,
             "#bd3786"
            ],
            [
             0.5555555555555556,
             "#d8576b"
            ],
            [
             0.6666666666666666,
             "#ed7953"
            ],
            [
             0.7777777777777778,
             "#fb9f3a"
            ],
            [
             0.8888888888888888,
             "#fdca26"
            ],
            [
             1,
             "#f0f921"
            ]
           ]
          },
          "colorway": [
           "#636efa",
           "#EF553B",
           "#00cc96",
           "#ab63fa",
           "#FFA15A",
           "#19d3f3",
           "#FF6692",
           "#B6E880",
           "#FF97FF",
           "#FECB52"
          ],
          "font": {
           "color": "#2a3f5f"
          },
          "geo": {
           "bgcolor": "white",
           "lakecolor": "white",
           "landcolor": "#E5ECF6",
           "showlakes": true,
           "showland": true,
           "subunitcolor": "white"
          },
          "hoverlabel": {
           "align": "left"
          },
          "hovermode": "closest",
          "mapbox": {
           "style": "light"
          },
          "paper_bgcolor": "white",
          "plot_bgcolor": "#E5ECF6",
          "polar": {
           "angularaxis": {
            "gridcolor": "white",
            "linecolor": "white",
            "ticks": ""
           },
           "bgcolor": "#E5ECF6",
           "radialaxis": {
            "gridcolor": "white",
            "linecolor": "white",
            "ticks": ""
           }
          },
          "scene": {
           "xaxis": {
            "backgroundcolor": "#E5ECF6",
            "gridcolor": "white",
            "gridwidth": 2,
            "linecolor": "white",
            "showbackground": true,
            "ticks": "",
            "zerolinecolor": "white"
           },
           "yaxis": {
            "backgroundcolor": "#E5ECF6",
            "gridcolor": "white",
            "gridwidth": 2,
            "linecolor": "white",
            "showbackground": true,
            "ticks": "",
            "zerolinecolor": "white"
           },
           "zaxis": {
            "backgroundcolor": "#E5ECF6",
            "gridcolor": "white",
            "gridwidth": 2,
            "linecolor": "white",
            "showbackground": true,
            "ticks": "",
            "zerolinecolor": "white"
           }
          },
          "shapedefaults": {
           "line": {
            "color": "#2a3f5f"
           }
          },
          "ternary": {
           "aaxis": {
            "gridcolor": "white",
            "linecolor": "white",
            "ticks": ""
           },
           "baxis": {
            "gridcolor": "white",
            "linecolor": "white",
            "ticks": ""
           },
           "bgcolor": "#E5ECF6",
           "caxis": {
            "gridcolor": "white",
            "linecolor": "white",
            "ticks": ""
           }
          },
          "title": {
           "x": 0.05
          },
          "xaxis": {
           "automargin": true,
           "gridcolor": "white",
           "linecolor": "white",
           "ticks": "",
           "title": {
            "standoff": 15
           },
           "zerolinecolor": "white",
           "zerolinewidth": 2
          },
          "yaxis": {
           "automargin": true,
           "gridcolor": "white",
           "linecolor": "white",
           "ticks": "",
           "title": {
            "standoff": 15
           },
           "zerolinecolor": "white",
           "zerolinewidth": 2
          }
         }
        },
        "title": {
         "text": "Distribution of Length of Reviews"
        },
        "xaxis": {
         "anchor": "y",
         "domain": [
          0,
          1
         ],
         "title": {
          "text": "Review Length"
         }
        },
        "yaxis": {
         "anchor": "x",
         "domain": [
          0,
          1
         ],
         "title": {
          "text": "count"
         }
        }
       }
      },
      "text/html": [
       "<div>\n",
       "        \n",
       "        \n",
       "            <div id=\"5a7c73a8-52c7-4d00-a916-fc0bf595efce\" class=\"plotly-graph-div\" style=\"height:525px; width:100%;\"></div>\n",
       "            <script type=\"text/javascript\">\n",
       "                require([\"plotly\"], function(Plotly) {\n",
       "                    window.PLOTLYENV=window.PLOTLYENV || {};\n",
       "                    \n",
       "                if (document.getElementById(\"5a7c73a8-52c7-4d00-a916-fc0bf595efce\")) {\n",
       "                    Plotly.newPlot(\n",
       "                        '5a7c73a8-52c7-4d00-a916-fc0bf595efce',\n",
       "                        [{\"alignmentgroup\": \"True\", \"bingroup\": \"x\", \"hoverlabel\": {\"namelength\": 0}, \"hovertemplate\": \"Review Length=%{x}<br>count=%{y}\", \"legendgroup\": \"\", \"marker\": {\"color\": \"#636efa\"}, \"name\": \"\", \"offsetgroup\": \"\", \"orientation\": \"v\", \"showlegend\": false, \"type\": \"histogram\", \"x\": [13, 9, 195, 172, 5, 172, 365, 221, 11, 114, 63, 169, 290, 18, 24, 25, 67, 216, 86, 451, 246, 385, 214, 58, 179, 15, 152, 25, 133, 23, 74, 9, 183, 308, 23, 310, 148, 42, 78, 483, 95, 168, 14, 84, 5, 138, 163, 74, 18, 208, 46, 118, 108, 116, 18, 78, 73, 31, 37, 170, 1, 84, 98, 41, 187, 26, 165, 31, 37, 166, 66, 23, 54, 10, 25, 12, 706, 52, 13, 29, 243, 43, 111, 185, 12, 1, 11, 30, 78, 127, 155, 30, 21, 80, 590, 53, 60, 268, 8, 68, 216, 8, 25, 94, 273, 62, 52, 163, 313, 59, 36, 53, 271, 127, 149, 329, 75, 36, 51, 44, 232, 120, 36, 83, 51, 61, 174, 75, 120, 306, 13, 171, 359, 23, 18, 306, 13, 7, 64, 169, 589, 18, 82, 4, 83, 211, 213, 148, 109, 96, 284, 7, 27, 221, 79, 254, 522, 86, 876, 21, 53, 106, 87, 78, 407, 15, 79, 62, 50, 173, 10, 45, 53, 128, 121, 13, 20, 13, 17, 90, 83, 11, 236, 1, 467, 26, 30, 338, 568, 10, 128, 79, 173, 31, 125, 19, 10, 665, 67, 79, 14, 292, 50, 60, 61, 114, 50, 16, 247, 19, 17, 123, 441, 18, 97, 54, 281, 33, 11, 1, 4, 33, 15, 120, 36, 22, 11, 22, 42, 61, 603, 106, 462, 307, 30, 10, 131, 37, 31, 86, 18, 274, 26, 157, 136, 238, 67, 126, 368, 338, 174, 192, 30, 15, 960, 28, 383, 153, 954, 44, 58, 187, 20, 256, 8, 12, 48, 12, 429, 168, 94, 390, 26, 8, 16, 336, 94, 171, 11, 35, 103, 20, 15, 124, 50, 75, 166, 114, 99, 164, 31, 8, 65, 49, 51, 75, 39, 124, 161, 79, 120, 79, 24, 54, 75, 63, 392, 53, 32, 149, 184, 142, 81, 165, 284, 121, 38, 191, 140, 147, 69, 131, 11, 5, 104, 333, 36, 125, 47, 22, 99, 63, 85, 7, 8, 19, 38, 71, 51, 146, 54, 22, 143, 61, 14, 12, 41, 64, 49, 60, 109, 143, 42, 53, 250, 16, 111, 253, 17, 35, 163, 154, 174, 311, 148, 104, 47, 19, 181, 11, 85, 62, 8, 41, 1, 66, 159, 28, 13, 45, 48, 130, 27, 58, 7, 38, 69, 31, 241, 69, 78, 100, 22, 117, 272, 27, 205, 58, 19, 33, 91, 343, 9, 29, 97, 142, 1, 73, 48, 53, 25, 18, 57, 18, 197, 68, 250, 6, 620, 108, 215, 83, 33, 59, 106, 168, 89, 62, 11, 22, 187, 129, 6, 12, 402, 141, 49, 110, 4, 33, 200, 76, 11, 43, 33, 5, 110, 91, 10, 84, 102, 630, 356, 44, 37, 54, 34, 32, 24, 431, 20, 8, 58, 216, 65, 36, 14, 42, 24, 53, 582, 49, 125, 4, 137, 75, 8, 26, 38, 10, 111, 38, 70, 11, 525, 119, 360, 486, 179, 296, 159, 25, 240, 71, 62, 134, 72, 106, 89, 306, 169, 208, 10, 8, 286, 18, 11, 77, 23, 8, 53, 155, 241, 66, 21, 285, 43, 124, 74, 17, 156, 140, 64, 76, 1, 8, 16, 190, 13, 188, 11, 274, 121, 94, 26, 79, 107, 7, 17, 51, 96, 95, 125, 76, 123, 23, 30, 399, 94, 111, 19, 49, 55, 34, 235, 184, 136, 192, 375, 56, 54, 63, 128, 1954, 255, 35, 78, 205, 69, 33, 132, 684, 30, 318, 102, 40, 267, 60, 134, 113, 68, 172, 138, 8, 136, 23, 30, 207, 476, 12, 288, 5, 25, 19, 81, 17, 46, 54, 32, 30, 343, 29, 833, 16, 90, 23, 72, 147, 36, 60, 120, 183, 28, 166, 66, 304, 172, 25, 23, 553, 376, 269, 20, 7, 170, 397, 87, 14, 398, 122, 326, 114, 43, 22, 39, 245, 43, 36, 39, 27, 7, 19, 103, 14, 175, 12, 87, 414, 12, 20, 39, 11, 9, 174, 1, 11, 8, 13, 15, 7, 149, 122, 91, 104, 50, 123, 14, 89, 73, 10, 104, 220, 104, 108, 116, 167, 79, 149, 64, 12, 51, 227, 26, 583, 107, 184, 90, 39, 79, 13, 11, 204, 315, 152, 49, 50, 97, 18, 8, 165, 172, 365, 221, 11, 114, 63, 169, 290, 18, 24, 25, 67, 216, 86, 451, 246, 385, 214, 58, 179, 15, 152, 25, 133, 23, 74, 9, 183, 308, 23, 310, 148, 42, 78, 483, 95, 168, 14, 84, 5, 138, 163, 74, 18, 208, 46, 118, 108, 116, 18, 78, 73, 31, 37, 170, 1, 84, 98, 41, 187, 26, 165, 31, 37, 166, 66, 23, 54, 10, 25, 12, 706, 52, 13, 29, 243, 43, 111, 185, 12, 1, 11, 30, 78, 127, 155, 30, 21, 80, 590, 53, 60, 268, 8, 68, 216, 8, 25, 94, 273, 62, 52, 163, 313, 59, 36, 53, 271, 127, 149, 329, 75, 36, 51, 44, 232, 120, 36, 83, 51, 61, 174, 75, 120, 306, 13, 171, 359, 23, 18, 306, 13, 7, 64, 169, 589, 18, 82, 4, 83, 211, 213, 148, 109, 96, 284, 7, 27, 221, 79, 254, 522, 86, 876, 21, 53, 106, 87, 78, 407, 15, 79, 62, 50, 173, 10, 45, 53, 128, 121, 13, 20, 13, 17, 90, 83, 11, 236, 1, 467, 26, 30, 338, 568, 10, 128, 79, 173, 31, 125, 19, 10, 665, 67, 79, 14, 292, 50, 60, 61, 114, 50, 16, 247, 19, 17, 123, 441, 18, 97, 54, 281, 33, 11, 1, 4, 33, 15, 120, 36, 22, 11, 22, 42, 61, 603, 106, 462, 307, 30, 10, 131, 37, 31, 86, 18, 274, 26, 157, 136, 238, 67, 126, 368, 338, 174, 192, 30, 15, 960, 28, 383, 153, 954, 44, 58, 187, 20, 256, 8, 12, 48, 12, 429, 168, 94, 390, 26, 8, 16, 336, 94, 171, 11, 35, 103, 20, 15, 124, 50, 75, 166, 114, 99, 164, 31, 8, 65, 49, 51, 75, 39, 124, 161, 79, 120, 79, 24, 54, 75, 63, 392, 53, 32, 149, 184, 142, 81, 165, 284, 121, 38, 191, 140, 147, 69, 131, 11, 5, 104, 333, 36, 125, 47, 22, 99, 63, 85, 7, 8, 19, 38, 71, 51, 146, 54, 22, 143, 61, 14, 12, 41, 64, 49, 60, 11, 20, 13, 84, 74, 71, 218, 42, 108, 139, 415, 646, 773, 177, 193, 227, 46, 179, 69, 161, 88, 512, 317, 100, 18, 36, 172, 249, 35, 750, 32, 184, 7, 300, 79, 24, 89, 99, 52, 20, 229, 117, 31, 139, 102, 23, 279, 119, 226, 1, 18, 26, 7, 493, 260, 210, 58, 210, 416, 903, 15, 604, 452, 98, 256, 4, 9, 1, 496, 174, 66, 156, 70, 54, 1, 446, 10, 80, 383, 12, 30, 248, 13, 537, 396, 18, 90, 438, 48, 102, 252, 476, 301, 23, 9, 51, 30, 114, 27, 43, 282, 227, 316, 56, 8, 1, 1, 424, 121, 70, 142, 124, 217, 34, 81, 205, 59, 210, 32, 14, 95, 269, 30, 115, 23, 300, 239, 38, 11, 152, 193, 34, 21, 13, 116, 6, 241, 53, 50, 45, 41, 91, 144, 234, 135, 47, 191, 100, 618, 24, 245, 12, 430, 387, 126, 3, 37, 187, 27, 370, 340, 13, 26, 131, 775, 23, 10, 179, 16, 170, 437, 54, 270, 382, 216, 34, 42, 141, 420, 7, 79, 353, 48, 37, 54, 10, 333, 44, 727, 114, 50, 180, 433, 84, 39, 117, 158, 10, 204, 202, 62, 428, 389, 189, 101, 87, 46, 176, 166, 375, 183, 295, 117, 125, 8, 251, 116, 243, 14, 20, 20, 85, 96, 69, 279, 33, 68, 67, 622, 237, 1, 239, 116, 438, 215, 135, 88, 43, 200, 33, 220, 17, 13, 206, 1039, 9, 119, 35, 316, 166, 21, 119, 43, 139, 23, 81, 192, 20, 5, 154, 34, 367, 284, 27, 525, 823, 268, 205, 17, 147, 240, 201, 205, 239, 303, 152, 1, 2393, 249, 8, 149, 124, 71, 166, 949, 146, 12, 833, 43, 83, 124, 99, 49, 57, 27, 70, 192, 151, 212, 276, 281, 53, 676, 195, 188, 169, 525, 244, 241, 1, 484, 112, 114, 215, 89, 1, 328, 65, 270, 322, 519, 7, 35, 109, 496, 229, 62, 397, 560, 144, 65, 181, 357, 15, 577, 1142, 319, 51, 1833, 79, 1, 88, 594, 344, 1, 145, 27, 7, 210, 189, 77, 25, 684, 304, 325, 90, 137, 459, 66, 32, 48, 9, 96, 109, 76, 272, 85, 8, 142, 192, 54, 101, 153, 287, 8, 1, 47, 537, 51, 442, 78, 22, 13, 212, 207, 166, 100, 168, 96, 164, 19, 108, 325, 107, 66, 978, 34, 296, 115, 96, 239, 345, 1, 770, 30, 124, 86, 224, 666, 67, 61, 25, 10, 53, 412, 180, 1, 107, 47, 207, 16, 65, 27, 9, 590, 158, 47, 311, 464, 103, 14, 198, 187, 580, 367, 60, 220, 8, 32, 36, 272, 10, 77, 37, 103, 97, 91, 395, 11, 106, 101, 143, 62, 12, 25, 242, 71, 49, 24, 93, 201, 61, 82, 95, 53, 321, 240, 138, 1, 194, 291, 8, 96, 26, 52, 45, 50, 861, 23, 204, 8, 69, 187, 38, 38, 151, 76, 241, 211, 223, 250, 53, 54, 13, 8, 57, 125, 55, 84, 153, 3, 36, 131, 30, 32, 18, 77, 18, 70, 9, 44, 259, 258, 1, 32, 541, 976, 64, 388, 18, 34, 40, 668, 18, 32, 33, 334, 53, 290, 13, 501, 16, 1, 56, 273, 72, 1, 364, 18, 168, 256, 130, 131, 12, 7, 99, 66, 88, 589, 87, 23, 11, 285, 47, 64, 39, 592, 308, 8, 34, 1311, 137, 36, 67, 102, 12, 242, 591, 41, 1, 72, 101, 325, 150, 238, 137, 936, 32, 138, 91, 775, 153, 65, 237, 281, 111, 306, 200, 143, 167, 46, 255, 343, 359, 69, 287, 34, 372, 9, 73, 218, 81, 10, 46, 61, 179, 77, 14, 94, 4, 132, 535, 23, 182, 96, 179, 7, 405, 102, 205, 149, 94, 303, 22, 15, 122, 192, 54, 12, 72, 331, 23, 33, 10, 122, 23, 78, 51, 30, 98, 123, 416, 72, 10, 68, 106, 26, 2, 167, 147, 216, 9, 55, 60, 27, 238, 214, 8, 143, 53, 132, 16, 57, 336, 7, 187, 39, 77, 4, 270, 62, 55, 22, 44, 299, 26, 176, 87, 13, 306, 265, 59, 96, 1, 209, 161, 78, 70, 17, 13, 272, 63, 179, 31, 206, 113, 91, 116, 24, 827, 103, 385, 221, 38, 113, 205, 103, 126, 99, 155, 93, 64, 21, 15, 219, 92, 1, 414, 82, 1, 134, 93, 159, 92, 25, 620, 88, 175, 97, 133, 162, 39, 210, 362, 718, 313, 12, 230, 29, 96, 227, 282, 295, 725, 101, 9, 789, 88, 34, 133, 11, 139, 82, 54, 160, 7, 66, 5, 39, 423, 61, 118, 72, 1, 684, 135, 19, 84, 86, 901, 75, 997, 433, 88, 104, 104, 58, 17, 165, 190, 96, 39, 162, 1360, 30, 48, 92, 130, 37, 22, 31, 22, 46, 84, 197, 40, 68, 141, 86, 43, 141, 1126, 86, 33, 3, 93, 154, 120, 133, 156, 33, 73, 27, 59, 42, 141, 47, 134, 49, 73, 350, 28, 66, 168, 21, 98, 45, 10, 291, 168, 44, 64, 170, 250, 221, 91, 405, 211, 390, 22, 16, 26, 16, 205, 107, 67, 8, 109, 352, 58, 320, 38, 297, 15, 182, 251, 182, 105, 40, 69, 24, 124, 33, 13, 114, 795, 240, 217, 61, 200, 232, 69, 73, 464, 39, 29, 29, 93, 10, 55, 48, 133, 150, 593, 152, 59, 168, 319, 123, 16, 69, 97, 2, 43, 164, 136, 442, 91, 42, 287, 612, 73, 118, 188, 43, 64, 473, 149, 114, 1, 8, 194, 575, 68, 97, 52, 51, 137, 56, 318, 22, 237, 882, 190, 140, 101, 19, 40, 112, 661, 1, 159, 172, 62, 94, 72, 1, 1296, 460, 146, 171, 1309, 1, 93, 51, 289, 163, 65, 15, 259, 689, 1686, 103, 40, 473, 99, 134, 114, 131, 1330, 509, 28, 172, 595, 517, 225, 76, 454, 197, 1, 714, 2851, 108, 16, 1, 13, 1124, 179, 64, 7, 476, 27, 151, 75, 70, 99, 31, 1, 381, 18, 220, 83, 1, 589, 690, 282, 10, 63, 300, 42, 189, 316, 720, 1, 129, 104, 242, 532, 32, 75, 106, 8, 52, 108, 99, 72, 18, 70, 66, 61, 274, 40, 95, 22, 102, 147, 303, 65, 1, 55, 34, 5, 97, 13, 40, 45, 36, 102, 11, 719, 11, 10, 16, 380, 93, 538, 411, 35, 334, 13, 272, 201, 5, 521, 58, 210, 130, 20, 56, 1, 12, 66, 1, 14, 44, 80, 17, 53, 53, 7, 71, 121, 247, 38, 177, 47, 47, 78, 17, 11, 239, 45, 8, 17, 272, 131, 1, 96, 18, 45, 30, 123, 122, 22, 98, 60, 1, 111, 24, 82, 201, 39, 107, 21, 210, 156, 23, 284, 56, 293, 69, 134, 113, 11, 42, 100, 29, 137, 167, 22, 91, 54, 22, 22, 45, 16, 254, 78, 42, 30, 7, 9, 104, 50, 2, 187, 23, 23, 14, 47, 213, 66, 1, 69, 194, 35, 27, 9, 37, 14, 114, 40, 1, 11, 57, 112, 229, 36, 16, 300, 39, 61, 33, 21, 45, 13, 365, 71, 118, 54, 63, 20, 84, 27, 33, 75, 1, 88, 86, 56, 224, 626, 57, 224, 125, 11, 12, 118, 29, 1564, 10, 10, 83, 4, 8, 23, 31, 7, 56, 1, 89, 14, 14, 134, 49, 4, 327, 95, 5, 32, 107, 98, 18, 54, 78, 60, 8, 18, 22, 52, 67, 160, 71, 112, 59, 66, 50, 248, 152, 264, 9, 180, 81, 106, 45, 93, 54, 38, 13, 157, 25, 22, 125, 211, 44, 77, 40, 107, 111, 30, 66, 49, 50, 116, 56, 51, 11, 7, 10, 181, 277, 23, 79, 43, 260, 60, 39, 91, 219, 76, 174, 89, 11, 85, 45, 155, 132, 202, 15, 44, 55, 76, 12, 211, 41, 446, 319, 15, 61, 115, 124, 66, 82, 52, 30, 28, 45, 12, 130, 98, 79, 32, 87, 34, 147, 47, 60, 57, 29, 50, 14, 14, 38, 112, 1, 79, 194, 83, 88, 46, 163, 65, 33, 23, 31, 120, 75, 21, 19, 111, 460, 18, 269, 152, 217, 13, 8, 76, 219, 9, 65, 61, 199, 10, 67, 333, 17, 67, 14, 24, 25, 46, 76, 43, 235, 76, 16, 36, 21, 113, 40, 10, 38, 21, 80, 67, 465, 207, 58, 174, 242, 95, 16, 75, 5, 38, 73, 364, 126, 77, 43, 29, 143, 57, 21, 1, 68, 100, 76, 27, 164, 2, 18, 9, 289, 58, 15, 165, 29, 95, 83, 19, 50, 26, 12, 152, 80, 14, 135, 16, 1, 154, 189, 43, 153, 5, 451, 47, 49, 107, 65, 40, 21, 24, 26, 429, 79, 101, 30, 11, 17, 25, 42, 698, 60, 12, 43, 56, 132, 21, 22, 42, 27, 570, 38, 88, 343, 75, 174, 306, 31, 26, 113, 327, 30, 117, 30, 652, 13, 87, 223, 481, 31, 23, 22, 1, 53, 13, 14, 57, 22, 78, 674, 39, 9, 24, 154, 407, 33, 24, 1, 39, 31, 20, 53, 20, 31, 129, 219, 38, 55, 60, 58, 33, 323, 203, 22, 19, 62, 111, 13, 19, 114, 102, 38, 33, 40, 11, 62, 277, 32, 22, 201, 740, 557, 33, 270, 186, 36, 38, 32, 71, 1, 84, 92, 44, 29, 72, 250, 92, 82, 16, 17, 105, 20, 30, 89, 80, 107, 12, 76, 4, 21, 15, 197, 13, 18, 58, 20, 180, 428, 196, 99, 125, 27, 19, 123, 47, 109, 19, 16, 80, 255, 11, 13, 25, 288, 97, 134, 69, 107, 67, 91, 213, 371, 18, 7, 309, 78, 80, 207, 112, 1, 1, 31, 53, 66, 193, 24, 42, 43, 71, 86, 82, 82, 70, 7, 19, 34, 59, 68, 46, 207, 71, 54, 81, 203, 40, 10, 25, 157, 37, 6, 280, 146, 106, 120, 1, 127, 29, 340, 106, 32, 325, 221, 160, 13, 216, 673, 52, 557, 71, 163, 196, 31, 11, 151, 393, 116, 551, 176, 43, 25, 300, 46, 104, 12, 62, 106, 95, 233, 120, 37, 632, 59, 54, 8, 27, 772, 33, 157, 86, 259, 98, 84, 98, 100, 361, 196, 33, 103, 240, 59, 188, 51, 164, 95, 12, 24, 145, 110, 177, 40, 54, 31, 57, 53, 1, 141, 14, 127, 7, 50, 67, 11, 17, 175, 118, 56, 31, 210, 20, 32, 11, 148, 252, 77, 66, 35, 108, 37, 85, 41, 66, 401, 174, 193, 56, 1, 55, 39, 126, 62, 125, 1, 84, 52, 1, 128, 125, 1, 88, 47, 352, 41, 26, 16, 102, 10, 36, 56, 15, 98, 39, 5, 1, 117, 42, 7, 50, 135, 441, 380, 4, 27, 122, 152, 80, 14, 135, 16, 1, 154, 189, 43, 153, 5, 451, 47, 49, 107, 65, 40, 21, 24, 26, 429, 79, 101, 30, 11, 17, 25, 42, 698, 60, 12, 43, 56, 132, 21, 22, 42, 27, 570, 38, 88, 343, 75, 174, 306, 31, 26, 113, 327, 30, 117, 30, 652, 13, 87, 223, 481, 31, 23, 22, 1, 53, 13, 14, 57, 22, 78, 674, 39, 9, 24, 154, 407, 33, 24, 1, 39, 31, 20, 53, 20, 31, 129, 219, 38, 55, 60, 58, 33, 323, 203, 22, 19, 62, 111, 13, 19, 114, 102, 38, 33, 40, 11, 62, 277, 32, 22, 201, 740, 557, 33, 270, 186, 36, 38, 32, 71, 1, 84, 92, 44, 29, 72, 250, 92, 82, 16, 17, 105, 20, 30, 89, 80, 107, 12, 76, 4, 21, 15, 197, 13, 18, 58, 20, 180, 428, 196, 99, 125, 27, 19, 123, 47, 109, 19, 16, 80, 255, 11, 13, 25, 288, 97, 134, 69, 107, 67, 91, 213, 371, 18, 7, 309, 78, 80, 207, 112, 1, 1, 31, 53, 66, 193, 24, 42, 43, 71, 86, 82, 82, 70, 7, 19, 34, 59, 68, 46, 207, 71, 54, 81, 203, 40, 10, 25, 157, 37, 6, 280, 146, 106, 120, 1, 127, 29, 340, 106, 32, 325, 221, 160, 13, 216, 673, 52, 557, 71, 163, 196, 31, 11, 151, 393, 116, 551, 176, 43, 25, 300, 46, 104, 12, 62, 106, 95, 233, 120, 37, 632, 59, 54, 8, 27, 772, 33, 157, 86, 259, 98, 84, 98, 100, 361, 196, 33, 103, 240, 59, 188, 51, 164, 95, 12, 24, 145, 110, 177, 40, 54, 31, 57, 53, 1, 141, 14, 127, 7, 50, 67, 11, 17, 175, 118, 56, 31, 210, 20, 32, 11, 148, 252, 77, 66, 35, 108, 37, 85, 41, 66, 401, 174, 193, 56, 1, 55, 39, 126, 62, 125, 1, 84, 52, 1, 128, 125, 1, 88, 47, 352, 41, 26, 16, 102, 10, 36, 56, 15, 98, 39, 5, 1, 117, 42, 7, 50, 135, 441, 380, 4], \"xaxis\": \"x\", \"yaxis\": \"y\"}],\n",
       "                        {\"barmode\": \"relative\", \"legend\": {\"tracegroupgap\": 0}, \"template\": {\"data\": {\"bar\": [{\"error_x\": {\"color\": \"#2a3f5f\"}, \"error_y\": {\"color\": \"#2a3f5f\"}, \"marker\": {\"line\": {\"color\": \"#E5ECF6\", \"width\": 0.5}}, \"type\": \"bar\"}], \"barpolar\": [{\"marker\": {\"line\": {\"color\": \"#E5ECF6\", \"width\": 0.5}}, \"type\": \"barpolar\"}], \"carpet\": [{\"aaxis\": {\"endlinecolor\": \"#2a3f5f\", \"gridcolor\": \"white\", \"linecolor\": \"white\", \"minorgridcolor\": \"white\", \"startlinecolor\": \"#2a3f5f\"}, \"baxis\": {\"endlinecolor\": \"#2a3f5f\", \"gridcolor\": \"white\", \"linecolor\": \"white\", \"minorgridcolor\": \"white\", \"startlinecolor\": \"#2a3f5f\"}, \"type\": \"carpet\"}], \"choropleth\": [{\"colorbar\": {\"outlinewidth\": 0, \"ticks\": \"\"}, \"type\": \"choropleth\"}], \"contour\": [{\"colorbar\": {\"outlinewidth\": 0, \"ticks\": \"\"}, \"colorscale\": [[0.0, \"#0d0887\"], [0.1111111111111111, \"#46039f\"], [0.2222222222222222, \"#7201a8\"], [0.3333333333333333, \"#9c179e\"], [0.4444444444444444, \"#bd3786\"], [0.5555555555555556, \"#d8576b\"], [0.6666666666666666, \"#ed7953\"], [0.7777777777777778, \"#fb9f3a\"], [0.8888888888888888, \"#fdca26\"], [1.0, \"#f0f921\"]], \"type\": \"contour\"}], \"contourcarpet\": [{\"colorbar\": {\"outlinewidth\": 0, \"ticks\": \"\"}, \"type\": \"contourcarpet\"}], \"heatmap\": [{\"colorbar\": {\"outlinewidth\": 0, \"ticks\": \"\"}, \"colorscale\": [[0.0, \"#0d0887\"], [0.1111111111111111, \"#46039f\"], [0.2222222222222222, \"#7201a8\"], [0.3333333333333333, \"#9c179e\"], [0.4444444444444444, \"#bd3786\"], [0.5555555555555556, \"#d8576b\"], [0.6666666666666666, \"#ed7953\"], [0.7777777777777778, \"#fb9f3a\"], [0.8888888888888888, \"#fdca26\"], [1.0, \"#f0f921\"]], \"type\": \"heatmap\"}], \"heatmapgl\": [{\"colorbar\": {\"outlinewidth\": 0, \"ticks\": \"\"}, \"colorscale\": [[0.0, \"#0d0887\"], [0.1111111111111111, \"#46039f\"], [0.2222222222222222, \"#7201a8\"], [0.3333333333333333, \"#9c179e\"], [0.4444444444444444, \"#bd3786\"], [0.5555555555555556, \"#d8576b\"], [0.6666666666666666, \"#ed7953\"], [0.7777777777777778, \"#fb9f3a\"], [0.8888888888888888, \"#fdca26\"], [1.0, \"#f0f921\"]], \"type\": \"heatmapgl\"}], \"histogram\": [{\"marker\": {\"colorbar\": {\"outlinewidth\": 0, \"ticks\": \"\"}}, \"type\": \"histogram\"}], \"histogram2d\": [{\"colorbar\": {\"outlinewidth\": 0, \"ticks\": \"\"}, \"colorscale\": [[0.0, \"#0d0887\"], [0.1111111111111111, \"#46039f\"], [0.2222222222222222, \"#7201a8\"], [0.3333333333333333, \"#9c179e\"], [0.4444444444444444, \"#bd3786\"], [0.5555555555555556, \"#d8576b\"], [0.6666666666666666, \"#ed7953\"], [0.7777777777777778, \"#fb9f3a\"], [0.8888888888888888, \"#fdca26\"], [1.0, \"#f0f921\"]], \"type\": \"histogram2d\"}], \"histogram2dcontour\": [{\"colorbar\": {\"outlinewidth\": 0, \"ticks\": \"\"}, \"colorscale\": [[0.0, \"#0d0887\"], [0.1111111111111111, \"#46039f\"], [0.2222222222222222, \"#7201a8\"], [0.3333333333333333, \"#9c179e\"], [0.4444444444444444, \"#bd3786\"], [0.5555555555555556, \"#d8576b\"], [0.6666666666666666, \"#ed7953\"], [0.7777777777777778, \"#fb9f3a\"], [0.8888888888888888, \"#fdca26\"], [1.0, \"#f0f921\"]], \"type\": \"histogram2dcontour\"}], \"mesh3d\": [{\"colorbar\": {\"outlinewidth\": 0, \"ticks\": \"\"}, \"type\": \"mesh3d\"}], \"parcoords\": [{\"line\": {\"colorbar\": {\"outlinewidth\": 0, \"ticks\": \"\"}}, \"type\": \"parcoords\"}], \"pie\": [{\"automargin\": true, \"type\": \"pie\"}], \"scatter\": [{\"marker\": {\"colorbar\": {\"outlinewidth\": 0, \"ticks\": \"\"}}, \"type\": \"scatter\"}], \"scatter3d\": [{\"line\": {\"colorbar\": {\"outlinewidth\": 0, \"ticks\": \"\"}}, \"marker\": {\"colorbar\": {\"outlinewidth\": 0, \"ticks\": \"\"}}, \"type\": \"scatter3d\"}], \"scattercarpet\": [{\"marker\": {\"colorbar\": {\"outlinewidth\": 0, \"ticks\": \"\"}}, \"type\": \"scattercarpet\"}], \"scattergeo\": [{\"marker\": {\"colorbar\": {\"outlinewidth\": 0, \"ticks\": \"\"}}, \"type\": \"scattergeo\"}], \"scattergl\": [{\"marker\": {\"colorbar\": {\"outlinewidth\": 0, \"ticks\": \"\"}}, \"type\": \"scattergl\"}], \"scattermapbox\": [{\"marker\": {\"colorbar\": {\"outlinewidth\": 0, \"ticks\": \"\"}}, \"type\": \"scattermapbox\"}], \"scatterpolar\": [{\"marker\": {\"colorbar\": {\"outlinewidth\": 0, \"ticks\": \"\"}}, \"type\": \"scatterpolar\"}], \"scatterpolargl\": [{\"marker\": {\"colorbar\": {\"outlinewidth\": 0, \"ticks\": \"\"}}, \"type\": \"scatterpolargl\"}], \"scatterternary\": [{\"marker\": {\"colorbar\": {\"outlinewidth\": 0, \"ticks\": \"\"}}, \"type\": \"scatterternary\"}], \"surface\": [{\"colorbar\": {\"outlinewidth\": 0, \"ticks\": \"\"}, \"colorscale\": [[0.0, \"#0d0887\"], [0.1111111111111111, \"#46039f\"], [0.2222222222222222, \"#7201a8\"], [0.3333333333333333, \"#9c179e\"], [0.4444444444444444, \"#bd3786\"], [0.5555555555555556, \"#d8576b\"], [0.6666666666666666, \"#ed7953\"], [0.7777777777777778, \"#fb9f3a\"], [0.8888888888888888, \"#fdca26\"], [1.0, \"#f0f921\"]], \"type\": \"surface\"}], \"table\": [{\"cells\": {\"fill\": {\"color\": \"#EBF0F8\"}, \"line\": {\"color\": \"white\"}}, \"header\": {\"fill\": {\"color\": \"#C8D4E3\"}, \"line\": {\"color\": \"white\"}}, \"type\": \"table\"}]}, \"layout\": {\"annotationdefaults\": {\"arrowcolor\": \"#2a3f5f\", \"arrowhead\": 0, \"arrowwidth\": 1}, \"coloraxis\": {\"colorbar\": {\"outlinewidth\": 0, \"ticks\": \"\"}}, \"colorscale\": {\"diverging\": [[0, \"#8e0152\"], [0.1, \"#c51b7d\"], [0.2, \"#de77ae\"], [0.3, \"#f1b6da\"], [0.4, \"#fde0ef\"], [0.5, \"#f7f7f7\"], [0.6, \"#e6f5d0\"], [0.7, \"#b8e186\"], [0.8, \"#7fbc41\"], [0.9, \"#4d9221\"], [1, \"#276419\"]], \"sequential\": [[0.0, \"#0d0887\"], [0.1111111111111111, \"#46039f\"], [0.2222222222222222, \"#7201a8\"], [0.3333333333333333, \"#9c179e\"], [0.4444444444444444, \"#bd3786\"], [0.5555555555555556, \"#d8576b\"], [0.6666666666666666, \"#ed7953\"], [0.7777777777777778, \"#fb9f3a\"], [0.8888888888888888, \"#fdca26\"], [1.0, \"#f0f921\"]], \"sequentialminus\": [[0.0, \"#0d0887\"], [0.1111111111111111, \"#46039f\"], [0.2222222222222222, \"#7201a8\"], [0.3333333333333333, \"#9c179e\"], [0.4444444444444444, \"#bd3786\"], [0.5555555555555556, \"#d8576b\"], [0.6666666666666666, \"#ed7953\"], [0.7777777777777778, \"#fb9f3a\"], [0.8888888888888888, \"#fdca26\"], [1.0, \"#f0f921\"]]}, \"colorway\": [\"#636efa\", \"#EF553B\", \"#00cc96\", \"#ab63fa\", \"#FFA15A\", \"#19d3f3\", \"#FF6692\", \"#B6E880\", \"#FF97FF\", \"#FECB52\"], \"font\": {\"color\": \"#2a3f5f\"}, \"geo\": {\"bgcolor\": \"white\", \"lakecolor\": \"white\", \"landcolor\": \"#E5ECF6\", \"showlakes\": true, \"showland\": true, \"subunitcolor\": \"white\"}, \"hoverlabel\": {\"align\": \"left\"}, \"hovermode\": \"closest\", \"mapbox\": {\"style\": \"light\"}, \"paper_bgcolor\": \"white\", \"plot_bgcolor\": \"#E5ECF6\", \"polar\": {\"angularaxis\": {\"gridcolor\": \"white\", \"linecolor\": \"white\", \"ticks\": \"\"}, \"bgcolor\": \"#E5ECF6\", \"radialaxis\": {\"gridcolor\": \"white\", \"linecolor\": \"white\", \"ticks\": \"\"}}, \"scene\": {\"xaxis\": {\"backgroundcolor\": \"#E5ECF6\", \"gridcolor\": \"white\", \"gridwidth\": 2, \"linecolor\": \"white\", \"showbackground\": true, \"ticks\": \"\", \"zerolinecolor\": \"white\"}, \"yaxis\": {\"backgroundcolor\": \"#E5ECF6\", \"gridcolor\": \"white\", \"gridwidth\": 2, \"linecolor\": \"white\", \"showbackground\": true, \"ticks\": \"\", \"zerolinecolor\": \"white\"}, \"zaxis\": {\"backgroundcolor\": \"#E5ECF6\", \"gridcolor\": \"white\", \"gridwidth\": 2, \"linecolor\": \"white\", \"showbackground\": true, \"ticks\": \"\", \"zerolinecolor\": \"white\"}}, \"shapedefaults\": {\"line\": {\"color\": \"#2a3f5f\"}}, \"ternary\": {\"aaxis\": {\"gridcolor\": \"white\", \"linecolor\": \"white\", \"ticks\": \"\"}, \"baxis\": {\"gridcolor\": \"white\", \"linecolor\": \"white\", \"ticks\": \"\"}, \"bgcolor\": \"#E5ECF6\", \"caxis\": {\"gridcolor\": \"white\", \"linecolor\": \"white\", \"ticks\": \"\"}}, \"title\": {\"x\": 0.05}, \"xaxis\": {\"automargin\": true, \"gridcolor\": \"white\", \"linecolor\": \"white\", \"ticks\": \"\", \"title\": {\"standoff\": 15}, \"zerolinecolor\": \"white\", \"zerolinewidth\": 2}, \"yaxis\": {\"automargin\": true, \"gridcolor\": \"white\", \"linecolor\": \"white\", \"ticks\": \"\", \"title\": {\"standoff\": 15}, \"zerolinecolor\": \"white\", \"zerolinewidth\": 2}}}, \"title\": {\"text\": \"Distribution of Length of Reviews\"}, \"xaxis\": {\"anchor\": \"y\", \"domain\": [0.0, 1.0], \"title\": {\"text\": \"Review Length\"}}, \"yaxis\": {\"anchor\": \"x\", \"domain\": [0.0, 1.0], \"title\": {\"text\": \"count\"}}},\n",
       "                        {\"responsive\": true}\n",
       "                    ).then(function(){\n",
       "                            \n",
       "var gd = document.getElementById('5a7c73a8-52c7-4d00-a916-fc0bf595efce');\n",
       "var x = new MutationObserver(function (mutations, observer) {{\n",
       "        var display = window.getComputedStyle(gd).display;\n",
       "        if (!display || display === 'none') {{\n",
       "            console.log([gd, 'removed!']);\n",
       "            Plotly.purge(gd);\n",
       "            observer.disconnect();\n",
       "        }}\n",
       "}});\n",
       "\n",
       "// Listen for the removal of the full notebook cells\n",
       "var notebookContainer = gd.closest('#notebook-container');\n",
       "if (notebookContainer) {{\n",
       "    x.observe(notebookContainer, {childList: true});\n",
       "}}\n",
       "\n",
       "// Listen for the clearing of the current output cell\n",
       "var outputEl = gd.closest('.output');\n",
       "if (outputEl) {{\n",
       "    x.observe(outputEl, {childList: true});\n",
       "}}\n",
       "\n",
       "                        })\n",
       "                };\n",
       "                });\n",
       "            </script>\n",
       "        </div>"
      ]
     },
     "metadata": {},
     "output_type": "display_data"
    }
   ],
   "source": [
    "reviews=px.histogram(df,x=\"review_length\",title='Distribution of Length of Reviews',labels={\"review_length\":\"Review Length\"})\n",
    "reviews.show()\n"
   ]
  },
  {
   "cell_type": "code",
   "execution_count": null,
   "metadata": {},
   "outputs": [],
   "source": []
  }
 ],
 "metadata": {
  "kernelspec": {
   "display_name": "Python 3",
   "language": "python",
   "name": "python3"
  },
  "language_info": {
   "codemirror_mode": {
    "name": "ipython",
    "version": 3
   },
   "file_extension": ".py",
   "mimetype": "text/x-python",
   "name": "python",
   "nbconvert_exporter": "python",
   "pygments_lexer": "ipython3",
   "version": "3.6.9"
  }
 },
 "nbformat": 4,
 "nbformat_minor": 2
}
