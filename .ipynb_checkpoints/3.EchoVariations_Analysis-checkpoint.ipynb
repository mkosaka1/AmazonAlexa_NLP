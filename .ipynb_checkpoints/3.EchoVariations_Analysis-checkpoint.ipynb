{
 "cells": [
  {
   "cell_type": "code",
   "execution_count": 2,
   "metadata": {},
   "outputs": [],
   "source": [
    "from wordcloud import WordCloud, STOPWORDS\n",
    "import pandas as pd\n",
    "import numpy as np\n",
    "import pickle\n",
    "import seaborn as sns\n",
    "import matplotlib.pyplot as plt\n",
    "from vaderSentiment.vaderSentiment import SentimentIntensityAnalyzer\n",
    "from sklearn.feature_extraction.text import CountVectorizer, TfidfVectorizer\n",
    "from sklearn.model_selection import train_test_split\n",
    "from sklearn.linear_model import LogisticRegression\n",
    "from sklearn.metrics import classification_report, confusion_matrix, roc_auc_score, roc_curve, auc, log_loss"
   ]
  },
  {
   "cell_type": "code",
   "execution_count": 3,
   "metadata": {},
   "outputs": [],
   "source": [
    "with open('alexa_reviews_clean.pkl','rb') as read_file:\n",
    "    df = pickle.load(read_file)"
   ]
  },
  {
   "cell_type": "code",
   "execution_count": 4,
   "metadata": {
    "scrolled": true
   },
   "outputs": [
    {
     "data": {
      "text/html": [
       "<div>\n",
       "<style scoped>\n",
       "    .dataframe tbody tr th:only-of-type {\n",
       "        vertical-align: middle;\n",
       "    }\n",
       "\n",
       "    .dataframe tbody tr th {\n",
       "        vertical-align: top;\n",
       "    }\n",
       "\n",
       "    .dataframe thead th {\n",
       "        text-align: right;\n",
       "    }\n",
       "</style>\n",
       "<table border=\"1\" class=\"dataframe\">\n",
       "  <thead>\n",
       "    <tr style=\"text-align: right;\">\n",
       "      <th></th>\n",
       "      <th>rating</th>\n",
       "      <th>date</th>\n",
       "      <th>variation</th>\n",
       "      <th>verified_reviews</th>\n",
       "      <th>feedback</th>\n",
       "      <th>review_length</th>\n",
       "      <th>new_reviews</th>\n",
       "      <th>sentiment</th>\n",
       "    </tr>\n",
       "  </thead>\n",
       "  <tbody>\n",
       "    <tr>\n",
       "      <th>0</th>\n",
       "      <td>5</td>\n",
       "      <td>31-Jul-18</td>\n",
       "      <td>Charcoal Fabric</td>\n",
       "      <td>Love my Echo!</td>\n",
       "      <td>1</td>\n",
       "      <td>13</td>\n",
       "      <td>love echo</td>\n",
       "      <td>positive</td>\n",
       "    </tr>\n",
       "    <tr>\n",
       "      <th>1</th>\n",
       "      <td>5</td>\n",
       "      <td>31-Jul-18</td>\n",
       "      <td>Charcoal Fabric</td>\n",
       "      <td>Loved it!</td>\n",
       "      <td>1</td>\n",
       "      <td>9</td>\n",
       "      <td>love</td>\n",
       "      <td>positive</td>\n",
       "    </tr>\n",
       "    <tr>\n",
       "      <th>2</th>\n",
       "      <td>4</td>\n",
       "      <td>31-Jul-18</td>\n",
       "      <td>Walnut Finish</td>\n",
       "      <td>Sometimes while playing a game, you can answer...</td>\n",
       "      <td>1</td>\n",
       "      <td>195</td>\n",
       "      <td>sometimes play game answer question correctly ...</td>\n",
       "      <td>positive</td>\n",
       "    </tr>\n",
       "    <tr>\n",
       "      <th>3</th>\n",
       "      <td>5</td>\n",
       "      <td>31-Jul-18</td>\n",
       "      <td>Charcoal Fabric</td>\n",
       "      <td>I have had a lot of fun with this thing. My 4 ...</td>\n",
       "      <td>1</td>\n",
       "      <td>172</td>\n",
       "      <td>lot fun thing 4 yr old learn dinosaur control ...</td>\n",
       "      <td>positive</td>\n",
       "    </tr>\n",
       "    <tr>\n",
       "      <th>4</th>\n",
       "      <td>5</td>\n",
       "      <td>31-Jul-18</td>\n",
       "      <td>Charcoal Fabric</td>\n",
       "      <td>Music</td>\n",
       "      <td>1</td>\n",
       "      <td>5</td>\n",
       "      <td>music</td>\n",
       "      <td>positive</td>\n",
       "    </tr>\n",
       "  </tbody>\n",
       "</table>\n",
       "</div>"
      ],
      "text/plain": [
       "   rating       date         variation  \\\n",
       "0       5  31-Jul-18  Charcoal Fabric    \n",
       "1       5  31-Jul-18  Charcoal Fabric    \n",
       "2       4  31-Jul-18    Walnut Finish    \n",
       "3       5  31-Jul-18  Charcoal Fabric    \n",
       "4       5  31-Jul-18  Charcoal Fabric    \n",
       "\n",
       "                                    verified_reviews  feedback  review_length  \\\n",
       "0                                      Love my Echo!         1             13   \n",
       "1                                          Loved it!         1              9   \n",
       "2  Sometimes while playing a game, you can answer...         1            195   \n",
       "3  I have had a lot of fun with this thing. My 4 ...         1            172   \n",
       "4                                              Music         1              5   \n",
       "\n",
       "                                         new_reviews sentiment  \n",
       "0                                          love echo  positive  \n",
       "1                                               love  positive  \n",
       "2  sometimes play game answer question correctly ...  positive  \n",
       "3  lot fun thing 4 yr old learn dinosaur control ...  positive  \n",
       "4                                              music  positive  "
      ]
     },
     "execution_count": 4,
     "metadata": {},
     "output_type": "execute_result"
    }
   ],
   "source": [
    "df.head()"
   ]
  },
  {
   "cell_type": "markdown",
   "metadata": {},
   "source": [
    "## Variations"
   ]
  },
  {
   "cell_type": "code",
   "execution_count": 5,
   "metadata": {},
   "outputs": [
    {
     "data": {
      "text/plain": [
       "Black  Dot                      516\n",
       "Charcoal Fabric                 430\n",
       "Configuration: Fire TV Stick    350\n",
       "Black  Plus                     270\n",
       "Black  Show                     265\n",
       "Black                           261\n",
       "Black  Spot                     241\n",
       "White  Dot                      184\n",
       "Heather Gray Fabric             157\n",
       "White  Spot                     109\n",
       "White                            91\n",
       "Sandstone Fabric                 90\n",
       "White  Show                      85\n",
       "White  Plus                      78\n",
       "Oak Finish                       14\n",
       "Walnut Finish                     9\n",
       "Name: variation, dtype: int64"
      ]
     },
     "execution_count": 5,
     "metadata": {},
     "output_type": "execute_result"
    }
   ],
   "source": [
    "df['variation'].value_counts()"
   ]
  },
  {
   "cell_type": "code",
   "execution_count": 6,
   "metadata": {
    "scrolled": true
   },
   "outputs": [
    {
     "data": {
      "text/plain": [
       "Black  Dot              516\n",
       "Charcoal Fabric         430\n",
       "Black  Plus             270\n",
       "Black  Show             265\n",
       "Black                   261\n",
       "Black  Spot             241\n",
       "White  Dot              184\n",
       "Heather Gray Fabric     157\n",
       "White  Spot             109\n",
       "White                    91\n",
       "Sandstone Fabric         90\n",
       "White  Show              85\n",
       "White  Plus              78\n",
       "Oak Finish               14\n",
       "Walnut Finish             9\n",
       "Name: variation, dtype: int64"
      ]
     },
     "execution_count": 6,
     "metadata": {},
     "output_type": "execute_result"
    }
   ],
   "source": [
    "df=df[df.variation!='Configuration: Fire TV Stick']\n",
    "df['variation'].value_counts()"
   ]
  },
  {
   "cell_type": "code",
   "execution_count": 7,
   "metadata": {},
   "outputs": [
    {
     "name": "stderr",
     "output_type": "stream",
     "text": [
      "/opt/anaconda3/envs/learn-env/lib/python3.6/site-packages/ipykernel_launcher.py:1: FutureWarning: Passing a negative integer is deprecated in version 1.0 and will not be supported in future version. Instead, use None to not limit the column width.\n",
      "  \"\"\"Entry point for launching an IPython kernel.\n"
     ]
    }
   ],
   "source": [
    "pd.set_option('display.max_colwidth', -1)\n",
    "pd.set_option('display.max_rows', 20)\n"
   ]
  },
  {
   "cell_type": "code",
   "execution_count": 8,
   "metadata": {},
   "outputs": [
    {
     "data": {
      "text/html": [
       "<div>\n",
       "<style scoped>\n",
       "    .dataframe tbody tr th:only-of-type {\n",
       "        vertical-align: middle;\n",
       "    }\n",
       "\n",
       "    .dataframe tbody tr th {\n",
       "        vertical-align: top;\n",
       "    }\n",
       "\n",
       "    .dataframe thead th {\n",
       "        text-align: right;\n",
       "    }\n",
       "</style>\n",
       "<table border=\"1\" class=\"dataframe\">\n",
       "  <thead>\n",
       "    <tr style=\"text-align: right;\">\n",
       "      <th></th>\n",
       "      <th>rating</th>\n",
       "      <th>date</th>\n",
       "      <th>variation</th>\n",
       "      <th>verified_reviews</th>\n",
       "      <th>feedback</th>\n",
       "      <th>review_length</th>\n",
       "      <th>new_reviews</th>\n",
       "      <th>sentiment</th>\n",
       "    </tr>\n",
       "  </thead>\n",
       "  <tbody>\n",
       "    <tr>\n",
       "      <th>693</th>\n",
       "      <td>5</td>\n",
       "      <td>17-May-18</td>\n",
       "      <td>White</td>\n",
       "      <td>Works perfect! There’s no difference at all between this refurb one and my new ones that I have in my house. I’ll be buying the refurbs from here on out</td>\n",
       "      <td>1</td>\n",
       "      <td>152</td>\n",
       "      <td>work perfect there s difference refurb one new one house ill buying refurb</td>\n",
       "      <td>positive</td>\n",
       "    </tr>\n",
       "    <tr>\n",
       "      <th>541</th>\n",
       "      <td>5</td>\n",
       "      <td>16-Jun-18</td>\n",
       "      <td>White</td>\n",
       "      <td>Well I’m a big fan of echoes these ones went I’m my bathrooms.  Works just great as expected 👍🏾</td>\n",
       "      <td>1</td>\n",
       "      <td>95</td>\n",
       "      <td>well -PRON- be big fan echo one go -PRON- be bathroom work great expect</td>\n",
       "      <td>positive</td>\n",
       "    </tr>\n",
       "    <tr>\n",
       "      <th>456</th>\n",
       "      <td>5</td>\n",
       "      <td>2-Jul-18</td>\n",
       "      <td>White</td>\n",
       "      <td>Works great, never had any issues.</td>\n",
       "      <td>1</td>\n",
       "      <td>34</td>\n",
       "      <td>work great never issue</td>\n",
       "      <td>positive</td>\n",
       "    </tr>\n",
       "    <tr>\n",
       "      <th>675</th>\n",
       "      <td>5</td>\n",
       "      <td>20-May-18</td>\n",
       "      <td>White</td>\n",
       "      <td>Best price we could find and it is so useful to have her around to answer questions. It is so handy to not have to find your phone. I also now have an intercom system.</td>\n",
       "      <td>1</td>\n",
       "      <td>167</td>\n",
       "      <td>good price could find useful around answer question handy find phone also intercom system</td>\n",
       "      <td>positive</td>\n",
       "    </tr>\n",
       "    <tr>\n",
       "      <th>441</th>\n",
       "      <td>4</td>\n",
       "      <td>7-Jul-18</td>\n",
       "      <td>White</td>\n",
       "      <td>Love the product.  Use to turn on my lights and answer some quick questions.</td>\n",
       "      <td>1</td>\n",
       "      <td>76</td>\n",
       "      <td>love product use turn light answer quick question</td>\n",
       "      <td>positive</td>\n",
       "    </tr>\n",
       "    <tr>\n",
       "      <th>517</th>\n",
       "      <td>5</td>\n",
       "      <td>21-Jun-18</td>\n",
       "      <td>White</td>\n",
       "      <td>I think I now have 5 of these throughout the house. So convenient to set a timer or check the weather or whatever, wherever.</td>\n",
       "      <td>1</td>\n",
       "      <td>124</td>\n",
       "      <td>think 5 throughout house convenient set timer check weather whatever wherever</td>\n",
       "      <td>positive</td>\n",
       "    </tr>\n",
       "    <tr>\n",
       "      <th>397</th>\n",
       "      <td>5</td>\n",
       "      <td>19-Jul-18</td>\n",
       "      <td>White</td>\n",
       "      <td>Perfect works great no problems with it being refurbished.</td>\n",
       "      <td>1</td>\n",
       "      <td>58</td>\n",
       "      <td>perfect work great problem refurbish</td>\n",
       "      <td>positive</td>\n",
       "    </tr>\n",
       "    <tr>\n",
       "      <th>683</th>\n",
       "      <td>4</td>\n",
       "      <td>19-May-18</td>\n",
       "      <td>White</td>\n",
       "      <td>I had a brand new echo Dot and thought that the refurbished would be just as good. It was quite different from my expectations. Refurbished unit did not even turn on and after a while I realized that the power adapter was faulty. There is no way for me to have Amazon send me a power adapter by itself according to the return options. I love Amazon and buy even my toilet paper through them but this was truly a let down.Update: Amazon contacted me and credited me enough to buy a new power adapter. This is why I shop on Amazon. I can always trust them to deliver on their products.</td>\n",
       "      <td>1</td>\n",
       "      <td>583</td>\n",
       "      <td>brand new echo dot thought refurbish would good quite different expectation refurbish unit even turn realize power adapter faulty way amazon send power adapter accord return option love amazon buy even toilet paper truly let downupdate amazon contacted credit enough buy new power adapter shop amazon always trust deliver product</td>\n",
       "      <td>positive</td>\n",
       "    </tr>\n",
       "    <tr>\n",
       "      <th>390</th>\n",
       "      <td>5</td>\n",
       "      <td>23-Jul-18</td>\n",
       "      <td>White</td>\n",
       "      <td>This was an add on for my echo system, the refurbished product works like new!</td>\n",
       "      <td>1</td>\n",
       "      <td>78</td>\n",
       "      <td>add echo system refurbish product work like new</td>\n",
       "      <td>positive</td>\n",
       "    </tr>\n",
       "    <tr>\n",
       "      <th>526</th>\n",
       "      <td>1</td>\n",
       "      <td>20-Jun-18</td>\n",
       "      <td>White</td>\n",
       "      <td>Not good at all!</td>\n",
       "      <td>0</td>\n",
       "      <td>16</td>\n",
       "      <td>good</td>\n",
       "      <td>negative</td>\n",
       "    </tr>\n",
       "  </tbody>\n",
       "</table>\n",
       "</div>"
      ],
      "text/plain": [
       "     rating       date variation  \\\n",
       "693  5       17-May-18  White      \n",
       "541  5       16-Jun-18  White      \n",
       "456  5       2-Jul-18   White      \n",
       "675  5       20-May-18  White      \n",
       "441  4       7-Jul-18   White      \n",
       "517  5       21-Jun-18  White      \n",
       "397  5       19-Jul-18  White      \n",
       "683  4       19-May-18  White      \n",
       "390  5       23-Jul-18  White      \n",
       "526  1       20-Jun-18  White      \n",
       "\n",
       "                                                                                                                                                                                                                                                                                                                                                                                                                                                                                                                                                                                            verified_reviews  \\\n",
       "693  Works perfect! There’s no difference at all between this refurb one and my new ones that I have in my house. I’ll be buying the refurbs from here on out                                                                                                                                                                                                                                                                                                                                                                                                                                                  \n",
       "541  Well I’m a big fan of echoes these ones went I’m my bathrooms.  Works just great as expected 👍🏾                                                                                                                                                                                                                                                                                                                                                                                                                                                                                                           \n",
       "456  Works great, never had any issues.                                                                                                                                                                                                                                                                                                                                                                                                                                                                                                                                                                        \n",
       "675  Best price we could find and it is so useful to have her around to answer questions. It is so handy to not have to find your phone. I also now have an intercom system.                                                                                                                                                                                                                                                                                                                                                                                                                                   \n",
       "441  Love the product.  Use to turn on my lights and answer some quick questions.                                                                                                                                                                                                                                                                                                                                                                                                                                                                                                                              \n",
       "517  I think I now have 5 of these throughout the house. So convenient to set a timer or check the weather or whatever, wherever.                                                                                                                                                                                                                                                                                                                                                                                                                                                                              \n",
       "397  Perfect works great no problems with it being refurbished.                                                                                                                                                                                                                                                                                                                                                                                                                                                                                                                                                \n",
       "683  I had a brand new echo Dot and thought that the refurbished would be just as good. It was quite different from my expectations. Refurbished unit did not even turn on and after a while I realized that the power adapter was faulty. There is no way for me to have Amazon send me a power adapter by itself according to the return options. I love Amazon and buy even my toilet paper through them but this was truly a let down.Update: Amazon contacted me and credited me enough to buy a new power adapter. This is why I shop on Amazon. I can always trust them to deliver on their products.   \n",
       "390  This was an add on for my echo system, the refurbished product works like new!                                                                                                                                                                                                                                                                                                                                                                                                                                                                                                                            \n",
       "526  Not good at all!                                                                                                                                                                                                                                                                                                                                                                                                                                                                                                                                                                                          \n",
       "\n",
       "     feedback  review_length  \\\n",
       "693  1         152             \n",
       "541  1         95              \n",
       "456  1         34              \n",
       "675  1         167             \n",
       "441  1         76              \n",
       "517  1         124             \n",
       "397  1         58              \n",
       "683  1         583             \n",
       "390  1         78              \n",
       "526  0         16              \n",
       "\n",
       "                                                                                                                                                                                                                                                                                                                                   new_reviews  \\\n",
       "693  work perfect there s difference refurb one new one house ill buying refurb                                                                                                                                                                                                                                                                  \n",
       "541  well -PRON- be big fan echo one go -PRON- be bathroom work great expect                                                                                                                                                                                                                                                                     \n",
       "456  work great never issue                                                                                                                                                                                                                                                                                                                      \n",
       "675  good price could find useful around answer question handy find phone also intercom system                                                                                                                                                                                                                                                   \n",
       "441  love product use turn light answer quick question                                                                                                                                                                                                                                                                                           \n",
       "517  think 5 throughout house convenient set timer check weather whatever wherever                                                                                                                                                                                                                                                               \n",
       "397  perfect work great problem refurbish                                                                                                                                                                                                                                                                                                        \n",
       "683  brand new echo dot thought refurbish would good quite different expectation refurbish unit even turn realize power adapter faulty way amazon send power adapter accord return option love amazon buy even toilet paper truly let downupdate amazon contacted credit enough buy new power adapter shop amazon always trust deliver product   \n",
       "390  add echo system refurbish product work like new                                                                                                                                                                                                                                                                                             \n",
       "526  good                                                                                                                                                                                                                                                                                                                                        \n",
       "\n",
       "    sentiment  \n",
       "693  positive  \n",
       "541  positive  \n",
       "456  positive  \n",
       "675  positive  \n",
       "441  positive  \n",
       "517  positive  \n",
       "397  positive  \n",
       "683  positive  \n",
       "390  positive  \n",
       "526  negative  "
      ]
     },
     "execution_count": 8,
     "metadata": {},
     "output_type": "execute_result"
    }
   ],
   "source": [
    "df[df['variation']=='White'].sample(10)"
   ]
  },
  {
   "cell_type": "code",
   "execution_count": 9,
   "metadata": {},
   "outputs": [],
   "source": [
    "# CHANGE VARIATION NAMES TO NAME OF ECHO MODELS\n",
    "\n",
    "# ECHO 2nd Gen - charcoal fabric, heather gray fabric, \n",
    "# sandstone fabric, oak finish, walnut finish\n",
    "df['model']=np.where(df.variation.str.contains('Charcoal Fabric ') |\n",
    "                     df.variation.str.contains('Heather Gray Fabric ') |\n",
    "                     df.variation.str.contains('Sandstone Fabric ') |\n",
    "                     df.variation.str.contains('Oak Finish ') |\n",
    "                     df.variation.str.contains('Walnut Finish '),'echo',df['variation'])\n",
    "\n",
    "# ECHO DOT - black dot, white dot, black, white\n",
    "df['model']=np.where(df.variation.str.contains('Black  Dot') |\n",
    "                    df.variation.str.contains('White  Dot') |\n",
    "                    df.variation.str.contains('Black') |\n",
    "                    df.variation.str.contains('White'), 'echo dot', df['model'])\n",
    "\n",
    "# ECHO SHOW - black show, white show\n",
    "df['model']=np.where(df.variation.str.contains('Black  Show') |\n",
    "                    df.variation.str.contains('White  Show'), 'echo show', df['model'])\n",
    "\n",
    "# ECHO PLUS - black plus, white plus\n",
    "df['model']=np.where(df.variation.str.contains('Black  Plus') |\n",
    "                    df.variation.str.contains('White  Plus'), 'echo plus', df['model'])\n",
    "\n",
    "# ECHO SPOT - black spot, white spot\n",
    "df['model']=np.where(df.variation.str.contains('Black  Spot') |\n",
    "                    df.variation.str.contains('White  Spot'), 'echo spot', df['model'])\n"
   ]
  },
  {
   "cell_type": "code",
   "execution_count": 10,
   "metadata": {
    "scrolled": true
   },
   "outputs": [
    {
     "data": {
      "text/html": [
       "<div>\n",
       "<style scoped>\n",
       "    .dataframe tbody tr th:only-of-type {\n",
       "        vertical-align: middle;\n",
       "    }\n",
       "\n",
       "    .dataframe tbody tr th {\n",
       "        vertical-align: top;\n",
       "    }\n",
       "\n",
       "    .dataframe thead th {\n",
       "        text-align: right;\n",
       "    }\n",
       "</style>\n",
       "<table border=\"1\" class=\"dataframe\">\n",
       "  <thead>\n",
       "    <tr style=\"text-align: right;\">\n",
       "      <th></th>\n",
       "      <th>rating</th>\n",
       "      <th>date</th>\n",
       "      <th>variation</th>\n",
       "      <th>verified_reviews</th>\n",
       "      <th>feedback</th>\n",
       "      <th>review_length</th>\n",
       "      <th>new_reviews</th>\n",
       "      <th>sentiment</th>\n",
       "      <th>model</th>\n",
       "    </tr>\n",
       "  </thead>\n",
       "  <tbody>\n",
       "    <tr>\n",
       "      <th>3026</th>\n",
       "      <td>4</td>\n",
       "      <td>30-Jul-18</td>\n",
       "      <td>White  Dot</td>\n",
       "      <td>We are still testing this one out and so far, we like it. I was very hesitant about putting a voice activated device in our home and this would be our first. Unfortunately, it sometimes gets our WiFi light bulbs mixed up and won't turn them on but we've been able to manage and fix it. I mean, it's convenient, especially for those unable to reach to turn off lights or electronics that you could hook up to the Dot. I do like that it plays music and has reminders, alarms, etc - I'm just still getting used to the fact that The Man is always listening now.</td>\n",
       "      <td>1</td>\n",
       "      <td>557</td>\n",
       "      <td>still test one far like hesitant putting voice activate device home would first unfortunately sometimes get wifi light bulb mixed will not turn -PRON- have able manage fix mean convenient especially unable reach turn light electronic could hook dot like play music reminder alarm etc -PRON- be still get use fact man always listen</td>\n",
       "      <td>positive</td>\n",
       "      <td>echo dot</td>\n",
       "    </tr>\n",
       "    <tr>\n",
       "      <th>2616</th>\n",
       "      <td>5</td>\n",
       "      <td>30-Jul-18</td>\n",
       "      <td>White  Dot</td>\n",
       "      <td>I love it! I use it for everything. It’s a part of my daily routine</td>\n",
       "      <td>1</td>\n",
       "      <td>67</td>\n",
       "      <td>love use everything part daily routine</td>\n",
       "      <td>positive</td>\n",
       "      <td>echo dot</td>\n",
       "    </tr>\n",
       "    <tr>\n",
       "      <th>146</th>\n",
       "      <td>5</td>\n",
       "      <td>30-Jul-18</td>\n",
       "      <td>Charcoal Fabric</td>\n",
       "      <td>I have had Alexa since the beginning.  I accidentally spilled water on her and have replaced it with the 2nd generation.  I decided I couldn't be without an Echo.  Setup was easy and had it working within minutes.</td>\n",
       "      <td>1</td>\n",
       "      <td>213</td>\n",
       "      <td>alexa since begin accidentally spill water replace 2nd generation decide could not without echo setup easy work within minute</td>\n",
       "      <td>positive</td>\n",
       "      <td>echo</td>\n",
       "    </tr>\n",
       "    <tr>\n",
       "      <th>75</th>\n",
       "      <td>5</td>\n",
       "      <td>30-Jul-18</td>\n",
       "      <td>Charcoal Fabric</td>\n",
       "      <td>It’s awesome</td>\n",
       "      <td>1</td>\n",
       "      <td>12</td>\n",
       "      <td>awesome</td>\n",
       "      <td>positive</td>\n",
       "      <td>echo</td>\n",
       "    </tr>\n",
       "    <tr>\n",
       "      <th>2073</th>\n",
       "      <td>3</td>\n",
       "      <td>5-Jul-18</td>\n",
       "      <td>Black</td>\n",
       "      <td></td>\n",
       "      <td>1</td>\n",
       "      <td>1</td>\n",
       "      <td></td>\n",
       "      <td>negative</td>\n",
       "      <td>echo dot</td>\n",
       "    </tr>\n",
       "    <tr>\n",
       "      <th>833</th>\n",
       "      <td>5</td>\n",
       "      <td>30-Jul-18</td>\n",
       "      <td>Heather Gray Fabric</td>\n",
       "      <td>I love the sound quality of this unit, it is a very clear sound.</td>\n",
       "      <td>1</td>\n",
       "      <td>64</td>\n",
       "      <td>love sound quality unit clear sound</td>\n",
       "      <td>positive</td>\n",
       "      <td>echo</td>\n",
       "    </tr>\n",
       "    <tr>\n",
       "      <th>1708</th>\n",
       "      <td>4</td>\n",
       "      <td>28-Jul-18</td>\n",
       "      <td>Black  Show</td>\n",
       "      <td>I bought this specifically so my wife could look at our Arlo security cameras from the bedroom when I’m at work. The system worked for three days and now it just gives me a error message. Very disappointed due to the fact that they advertise that these systems work together. I gave four stars because it does everything else very well.</td>\n",
       "      <td>1</td>\n",
       "      <td>336</td>\n",
       "      <td>buy specifically wife could look arlo security camera bedroom -PRON- be work system work three day give error message disappoint due fact advertise system work together give four star everything else well</td>\n",
       "      <td>positive</td>\n",
       "      <td>echo show</td>\n",
       "    </tr>\n",
       "    <tr>\n",
       "      <th>890</th>\n",
       "      <td>5</td>\n",
       "      <td>29-Jul-18</td>\n",
       "      <td>Charcoal Fabric</td>\n",
       "      <td>Works as advertised</td>\n",
       "      <td>1</td>\n",
       "      <td>19</td>\n",
       "      <td>work advertise</td>\n",
       "      <td>positive</td>\n",
       "      <td>echo</td>\n",
       "    </tr>\n",
       "    <tr>\n",
       "      <th>1672</th>\n",
       "      <td>5</td>\n",
       "      <td>28-Jul-18</td>\n",
       "      <td>Black  Show</td>\n",
       "      <td>I like the variety of stuff that the echo show offers.</td>\n",
       "      <td>1</td>\n",
       "      <td>54</td>\n",
       "      <td>like variety stuff echo show offer</td>\n",
       "      <td>positive</td>\n",
       "      <td>echo show</td>\n",
       "    </tr>\n",
       "    <tr>\n",
       "      <th>417</th>\n",
       "      <td>5</td>\n",
       "      <td>13-Jul-18</td>\n",
       "      <td>Black</td>\n",
       "      <td>Thanks</td>\n",
       "      <td>1</td>\n",
       "      <td>6</td>\n",
       "      <td>thanks</td>\n",
       "      <td>positive</td>\n",
       "      <td>echo dot</td>\n",
       "    </tr>\n",
       "  </tbody>\n",
       "</table>\n",
       "</div>"
      ],
      "text/plain": [
       "      rating       date             variation  \\\n",
       "3026  4       30-Jul-18  White  Dot             \n",
       "2616  5       30-Jul-18  White  Dot             \n",
       "146   5       30-Jul-18  Charcoal Fabric        \n",
       "75    5       30-Jul-18  Charcoal Fabric        \n",
       "2073  3       5-Jul-18   Black                  \n",
       "833   5       30-Jul-18  Heather Gray Fabric    \n",
       "1708  4       28-Jul-18  Black  Show            \n",
       "890   5       29-Jul-18  Charcoal Fabric        \n",
       "1672  5       28-Jul-18  Black  Show            \n",
       "417   5       13-Jul-18  Black                  \n",
       "\n",
       "                                                                                                                                                                                                                                                                                                                                                                                                                                                                                                                                                                   verified_reviews  \\\n",
       "3026  We are still testing this one out and so far, we like it. I was very hesitant about putting a voice activated device in our home and this would be our first. Unfortunately, it sometimes gets our WiFi light bulbs mixed up and won't turn them on but we've been able to manage and fix it. I mean, it's convenient, especially for those unable to reach to turn off lights or electronics that you could hook up to the Dot. I do like that it plays music and has reminders, alarms, etc - I'm just still getting used to the fact that The Man is always listening now.   \n",
       "2616  I love it! I use it for everything. It’s a part of my daily routine                                                                                                                                                                                                                                                                                                                                                                                                                                                                                                             \n",
       "146   I have had Alexa since the beginning.  I accidentally spilled water on her and have replaced it with the 2nd generation.  I decided I couldn't be without an Echo.  Setup was easy and had it working within minutes.                                                                                                                                                                                                                                                                                                                                                           \n",
       "75    It’s awesome                                                                                                                                                                                                                                                                                                                                                                                                                                                                                                                                                                    \n",
       "2073                                                                                                                                                                                                                                                                                                                                                                                                                                                                                                                                                                                  \n",
       "833   I love the sound quality of this unit, it is a very clear sound.                                                                                                                                                                                                                                                                                                                                                                                                                                                                                                                \n",
       "1708  I bought this specifically so my wife could look at our Arlo security cameras from the bedroom when I’m at work. The system worked for three days and now it just gives me a error message. Very disappointed due to the fact that they advertise that these systems work together. I gave four stars because it does everything else very well.                                                                                                                                                                                                                                \n",
       "890   Works as advertised                                                                                                                                                                                                                                                                                                                                                                                                                                                                                                                                                             \n",
       "1672  I like the variety of stuff that the echo show offers.                                                                                                                                                                                                                                                                                                                                                                                                                                                                                                                          \n",
       "417   Thanks                                                                                                                                                                                                                                                                                                                                                                                                                                                                                                                                                                          \n",
       "\n",
       "      feedback  review_length  \\\n",
       "3026  1         557             \n",
       "2616  1         67              \n",
       "146   1         213             \n",
       "75    1         12              \n",
       "2073  1         1               \n",
       "833   1         64              \n",
       "1708  1         336             \n",
       "890   1         19              \n",
       "1672  1         54              \n",
       "417   1         6               \n",
       "\n",
       "                                                                                                                                                                                                                                                                                                                                     new_reviews  \\\n",
       "3026  still test one far like hesitant putting voice activate device home would first unfortunately sometimes get wifi light bulb mixed will not turn -PRON- have able manage fix mean convenient especially unable reach turn light electronic could hook dot like play music reminder alarm etc -PRON- be still get use fact man always listen   \n",
       "2616  love use everything part daily routine                                                                                                                                                                                                                                                                                                       \n",
       "146   alexa since begin accidentally spill water replace 2nd generation decide could not without echo setup easy work within minute                                                                                                                                                                                                                \n",
       "75    awesome                                                                                                                                                                                                                                                                                                                                      \n",
       "2073                                                                                                                                                                                                                                                                                                                                               \n",
       "833   love sound quality unit clear sound                                                                                                                                                                                                                                                                                                          \n",
       "1708  buy specifically wife could look arlo security camera bedroom -PRON- be work system work three day give error message disappoint due fact advertise system work together give four star everything else well                                                                                                                                 \n",
       "890   work advertise                                                                                                                                                                                                                                                                                                                               \n",
       "1672  like variety stuff echo show offer                                                                                                                                                                                                                                                                                                           \n",
       "417   thanks                                                                                                                                                                                                                                                                                                                                       \n",
       "\n",
       "     sentiment      model  \n",
       "3026  positive  echo dot   \n",
       "2616  positive  echo dot   \n",
       "146   positive  echo       \n",
       "75    positive  echo       \n",
       "2073  negative  echo dot   \n",
       "833   positive  echo       \n",
       "1708  positive  echo show  \n",
       "890   positive  echo       \n",
       "1672  positive  echo show  \n",
       "417   positive  echo dot   "
      ]
     },
     "execution_count": 10,
     "metadata": {},
     "output_type": "execute_result"
    }
   ],
   "source": [
    "df.sample(10)"
   ]
  },
  {
   "cell_type": "code",
   "execution_count": null,
   "metadata": {},
   "outputs": [],
   "source": []
  },
  {
   "cell_type": "markdown",
   "metadata": {},
   "source": [
    "# Corpus"
   ]
  },
  {
   "cell_type": "code",
   "execution_count": null,
   "metadata": {},
   "outputs": [],
   "source": [
    "# CREATE DICTIONARY TO COUNT THE WORDS\n",
    "count_dict_alex = {}\n",
    "\n",
    "for doc in df['new_reviews']:\n",
    "    for word in doc.split():\n",
    "        if word in count_dict_alex.keys():\n",
    "            count_dict_alex[word] +=1\n",
    "        else:\n",
    "            count_dict_alex[word] = 1\n",
    "            \n",
    "for key, value in sorted(count_dict_alex.items(), key=lambda item: item[1]):\n",
    "    print(\"%s: %s\" % (key, value))"
   ]
  },
  {
   "cell_type": "code",
   "execution_count": null,
   "metadata": {},
   "outputs": [],
   "source": [
    "# REMOVE WORDS THAT OCCUR LESS THAN 10 TIMES\n",
    "low_value = 10\n",
    "bad_words = [key for key in count_dict_alex.keys() if count_dict_alex[key] < low_value]"
   ]
  },
  {
   "cell_type": "code",
   "execution_count": null,
   "metadata": {},
   "outputs": [],
   "source": [
    "# CREATE A LIST OF LISTS - EACH DOCUMENT IS A STRING BROKEN INTO A LIST OF WORDS\n",
    "corpus = [doc.split() for doc in df['new_reviews']]\n",
    "clean_list = []\n",
    "for document in corpus:\n",
    "    clean_list.append([word for word in document if word not in bad_words])"
   ]
  },
  {
   "cell_type": "code",
   "execution_count": null,
   "metadata": {
    "scrolled": true
   },
   "outputs": [],
   "source": [
    "clean_list"
   ]
  },
  {
   "cell_type": "code",
   "execution_count": null,
   "metadata": {
    "scrolled": true
   },
   "outputs": [],
   "source": [
    "# USE CLEAN_LIST TO CREATE CORPUS\n",
    "corpus=[]\n",
    "for item in clean_list:\n",
    "    item = ' '.join(item)\n",
    "    corpus.append(item)\n",
    "    \n",
    "corpus"
   ]
  },
  {
   "cell_type": "markdown",
   "metadata": {},
   "source": [
    "# LDA"
   ]
  },
  {
   "cell_type": "code",
   "execution_count": null,
   "metadata": {},
   "outputs": [],
   "source": [
    "import gensim\n",
    "from gensim import corpora\n",
    "from gensim.models import LdaModel, LdaMulticore\n",
    "import gensim.downloader as api\n",
    "from gensim.utils import simple_preprocess, lemmatize\n",
    "from nltk.corpus import stopwords"
   ]
  },
  {
   "cell_type": "code",
   "execution_count": null,
   "metadata": {},
   "outputs": [],
   "source": [
    "clean_list[0][:5]"
   ]
  },
  {
   "cell_type": "code",
   "execution_count": null,
   "metadata": {},
   "outputs": [],
   "source": [
    "# CREATE THE INPUTS OF LDA MODEL: DICTIONARY AND CORPUS\n",
    "corpora_dict = corpora.Dictionary(clean_list)\n",
    "corpus = [corpora_dict.doc2bow(line) for line in clean_list]"
   ]
  },
  {
   "cell_type": "code",
   "execution_count": null,
   "metadata": {},
   "outputs": [],
   "source": [
    "# TRAIN THE LDA MODEL\n",
    "lda_model = LdaModel(corpus=corpus,\n",
    "                         id2word=corpora_dict,\n",
    "                         random_state=100,\n",
    "                         num_topics=3,\n",
    "                         passes=5,\n",
    "                         per_word_topics=True)\n",
    "\n",
    "# See the topics\n",
    "lda_model.print_topics(-1)"
   ]
  },
  {
   "cell_type": "markdown",
   "metadata": {},
   "source": [
    "# Word2Vec"
   ]
  },
  {
   "cell_type": "code",
   "execution_count": null,
   "metadata": {},
   "outputs": [],
   "source": [
    "from gensim.models.word2vec import Word2Vec\n",
    "from multiprocessing import cpu_count\n",
    "import gensim.downloader as api"
   ]
  },
  {
   "cell_type": "code",
   "execution_count": null,
   "metadata": {},
   "outputs": [],
   "source": [
    "# Train Word2Vec model. Defaults result vector size = 100\n",
    "model = Word2Vec(clean_list, min_count = 0, workers=cpu_count())\n",
    "\n",
    "# Get the word vector for given word\n",
    "model['sound']\n",
    "\n",
    "model.most_similar('sound')"
   ]
  },
  {
   "cell_type": "markdown",
   "metadata": {},
   "source": [
    "# Bigram"
   ]
  },
  {
   "cell_type": "code",
   "execution_count": null,
   "metadata": {},
   "outputs": [],
   "source": [
    "dct = corpora.Dictionary(clean_list)\n",
    "corpus = [dct.doc2bow(line) for line in clean_list]\n",
    "\n",
    "# Build the bigram models\n",
    "bigram = gensim.models.phrases.Phrases(clean_list, min_count=3, threshold=10)\n",
    "\n",
    "# Construct bigram\n",
    "print(bigram[clean_list[1]])"
   ]
  },
  {
   "cell_type": "markdown",
   "metadata": {},
   "source": [
    "# Vader"
   ]
  },
  {
   "cell_type": "code",
   "execution_count": null,
   "metadata": {},
   "outputs": [],
   "source": [
    "analyser = SentimentIntensityAnalyzer()"
   ]
  },
  {
   "cell_type": "code",
   "execution_count": null,
   "metadata": {},
   "outputs": [],
   "source": [
    "def sentimentScore(sentences):\n",
    "    analyzer = SentimentIntensityAnalyzer()\n",
    "    results = []\n",
    "    for sentence in sentences:\n",
    "        vs = analyzer.polarity_scores(sentence)\n",
    "        print(str(vs))\n",
    "        results.append(vs) \n",
    "    return results"
   ]
  },
  {
   "cell_type": "code",
   "execution_count": null,
   "metadata": {
    "scrolled": true
   },
   "outputs": [],
   "source": [
    "sentiment = sentimentScore(df['new_reviews'])\n"
   ]
  },
  {
   "cell_type": "code",
   "execution_count": null,
   "metadata": {},
   "outputs": [],
   "source": [
    "sentiment_df = pd.DataFrame(sentiment)\n",
    "sentiment_df.head()"
   ]
  },
  {
   "cell_type": "code",
   "execution_count": null,
   "metadata": {
    "scrolled": true
   },
   "outputs": [],
   "source": [
    "# align index to copy rating column for joining\n",
    "df.index = sentiment_df.index\n",
    "sentiment_df['rating'] = df['rating']\n",
    "echo_vader = pd.concat([df, sentiment_df], axis=1)\n",
    "echo_vader.head()"
   ]
  },
  {
   "cell_type": "code",
   "execution_count": null,
   "metadata": {
    "scrolled": false
   },
   "outputs": [],
   "source": [
    "#postive sentiment\n",
    "color = ['#63ace5']\n",
    "ax = echo_vader.groupby(\"variation\").pos.mean().plot.bar(color = color, figsize = (9, 6))\n",
    "\n",
    "plt.title('Positive Sentiment', fontsize = 20, weight='bold')\n",
    "\n",
    "# plt.xlabel('Variation', fontsize = 16, weight='bold')\n",
    "plt.xticks(rotation='90', fontsize=14, weight='bold')\n",
    "ax.xaxis.label.set_visible(False)\n",
    "\n",
    "plt.ylabel('Sentiment Rating', fontsize=16, weight='bold')\n",
    "ax.set_ylim([0,0.5])\n",
    "plt.yticks(fontsize=14)\n",
    "\n",
    "\n",
    "ax.spines['right'].set_visible(False)\n",
    "ax.spines['top'].set_visible(False)\n",
    "ax.spines['bottom'].set_visible(True)\n",
    "ax.spines['left'].set_visible(True)\n",
    "\n",
    "\n",
    "fig = plt.gcf()\n",
    "plt.show()\n",
    "plt.draw()\n",
    "\n",
    "fig.savefig('postive_sentiment.jpg')\n",
    ";"
   ]
  },
  {
   "cell_type": "code",
   "execution_count": null,
   "metadata": {},
   "outputs": [],
   "source": [
    "#postive sentiment\n",
    "color = ['#005b96']\n",
    "ax = echo_vader.groupby(\"variation\").neg.mean().plot.bar(color = color, figsize = (9, 6))\n",
    "\n",
    "plt.title('Negative Sentiment', fontsize = 20, weight='bold')\n",
    "\n",
    "# plt.xlabel('Variation', fontsize = 16, weight='bold')\n",
    "plt.xticks(rotation='90', fontsize=14, weight='bold')\n",
    "ax.xaxis.label.set_visible(False)\n",
    "\n",
    "plt.ylabel('Sentiment Rating', fontsize=16, weight='bold')\n",
    "ax.set_ylim([0,0.5])\n",
    "plt.yticks(fontsize=14)\n",
    "\n",
    "ax.spines['right'].set_visible(False)\n",
    "ax.spines['top'].set_visible(False)\n",
    "ax.spines['bottom'].set_visible(True)\n",
    "ax.spines['left'].set_visible(True)\n",
    "\n",
    "\n",
    "fig = plt.gcf()\n",
    "plt.show()\n",
    "plt.draw()\n",
    "\n",
    "fig.savefig('negative_sentiment.jpg')\n",
    ";"
   ]
  },
  {
   "cell_type": "code",
   "execution_count": null,
   "metadata": {},
   "outputs": [],
   "source": [
    "group = df.groupby('rating').count()\n",
    "group['date']\n",
    "\n",
    "color = plt.cm.bone(np.linspace(0, 1, 6))\n",
    "ax = group['date'].plot.bar(color='#7c86ac', figsize = (10, 6))\n",
    "\n",
    "plt.title('Echo Ratings', fontsize = 20, weight='bold')\n",
    "plt.xlabel('Ratings', fontsize = 16, weight='bold')\n",
    "plt.ylabel('Count', fontsize=16, weight='bold')\n",
    "\n",
    "plt.xticks(rotation='0', fontsize=14)\n",
    "plt.yticks(fontsize=14)\n",
    "\n",
    "ax.spines['right'].set_visible(False)\n",
    "ax.spines['top'].set_visible(False)\n",
    "ax.spines['bottom'].set_visible(True)\n",
    "ax.spines['left'].set_visible(True)\n",
    "\n",
    "plt.show()\n",
    "\n",
    "#change colour"
   ]
  },
  {
   "cell_type": "markdown",
   "metadata": {},
   "source": [
    "# Sentiment Features"
   ]
  },
  {
   "cell_type": "code",
   "execution_count": null,
   "metadata": {},
   "outputs": [],
   "source": [
    "neg_alexa = df[df['sentiment']=='negative']\n",
    "pos_alexa = df[df['sentiment']=='positive']"
   ]
  },
  {
   "cell_type": "markdown",
   "metadata": {},
   "source": [
    "## Negative"
   ]
  },
  {
   "cell_type": "code",
   "execution_count": null,
   "metadata": {},
   "outputs": [],
   "source": [
    "from sklearn.feature_selection import chi2\n",
    "\n",
    "tfidf_n = TfidfVectorizer(ngram_range=(2, 2))\n",
    "X_tfidf_n = tfidf_n.fit_transform(neg_alexa['new_reviews'])\n",
    "y_n = neg_alexa['rating']\n",
    "chi2score_n = chi2(X_tfidf_n, y_n)[0]"
   ]
  },
  {
   "cell_type": "code",
   "execution_count": null,
   "metadata": {},
   "outputs": [],
   "source": [
    "scores = list(zip(tfidf_n.get_feature_names(), chi2score_n))\n",
    "chi2_n = sorted(scores, key=lambda x:x[1])\n",
    "topchi2_n = list(zip(*chi2_n[-10:]))\n",
    "x_n=range(len(topchi2_n[1]))\n",
    "\n",
    "fig, ax = plt.subplots(figsize=(16,9))\n",
    "ax.barh(x_n, topchi2_n[1], align='center', alpha=1, color='salmon')\n",
    "\n",
    "plt.title('Alexa Negative Feedback', fontsize=24, weight='bold')\n",
    "\n",
    "# x-axis\n",
    "plt.xlabel(\"Feature Score\", fontsize=22, weight='bold')\n",
    "plt.xticks(fontsize=18)\n",
    "\n",
    "#y-axis\n",
    "labels = topchi2_n[0]\n",
    "plt.yticks(x_n, labels, fontsize=18)\n",
    "\n",
    "ax.spines['right'].set_visible(False)\n",
    "ax.spines['top'].set_visible(False)\n",
    "ax.spines['bottom'].set_visible(True)\n",
    "ax.spines['left'].set_visible(True)\n",
    "\n",
    "fig = plt.gcf()\n",
    "plt.show()\n",
    "plt.draw()\n",
    "\n",
    "fig.savefig('alexa_neg.jpg')\n",
    ";"
   ]
  },
  {
   "cell_type": "markdown",
   "metadata": {},
   "source": [
    "## Positive"
   ]
  },
  {
   "cell_type": "code",
   "execution_count": null,
   "metadata": {},
   "outputs": [],
   "source": [
    "tfidf = TfidfVectorizer(ngram_range=(2, 2))\n",
    "X_tfidf = tfidf.fit_transform(pos_alexa['new_reviews'])\n",
    "y = pos_alexa['rating']\n",
    "chi2score = chi2(X_tfidf, y)[0]"
   ]
  },
  {
   "cell_type": "code",
   "execution_count": null,
   "metadata": {},
   "outputs": [],
   "source": [
    "scores = list(zip(tfidf.get_feature_names(), chi2score))\n",
    "chi2 = sorted(scores, key=lambda x:x[1])\n",
    "topchi2 = list(zip(*chi2[-10:]))\n",
    "x=range(len(topchi2[1]))\n",
    "\n",
    "fig, ax = plt.subplots(figsize=(16,9))\n",
    "ax.barh(x,topchi2[1], alpha=1, color='darkseagreen')\n",
    "\n",
    "plt.title('Alexa Postive Feedback', fontsize=24, weight='bold')\n",
    "\n",
    "# x-axis\n",
    "plt.xlabel(\"Feature Score\", fontsize=22, weight='bold')\n",
    "plt.xticks(fontsize=18)\n",
    "\n",
    "#y-axis\n",
    "labels = topchi2[0]\n",
    "plt.yticks(x, labels, fontsize=18)\n",
    "\n",
    "ax.spines['right'].set_visible(False)\n",
    "ax.spines['top'].set_visible(False)\n",
    "ax.spines['bottom'].set_visible(True)\n",
    "ax.spines['left'].set_visible(True)\n",
    "\n",
    "fig = plt.gcf()\n",
    "plt.show()\n",
    "plt.draw()\n",
    "\n",
    "fig.savefig('alexa_positive.jpg')\n",
    ";"
   ]
  },
  {
   "cell_type": "code",
   "execution_count": null,
   "metadata": {},
   "outputs": [],
   "source": []
  }
 ],
 "metadata": {
  "kernelspec": {
   "display_name": "Python 3",
   "language": "python",
   "name": "python3"
  },
  "language_info": {
   "codemirror_mode": {
    "name": "ipython",
    "version": 3
   },
   "file_extension": ".py",
   "mimetype": "text/x-python",
   "name": "python",
   "nbconvert_exporter": "python",
   "pygments_lexer": "ipython3",
   "version": "3.6.9"
  }
 },
 "nbformat": 4,
 "nbformat_minor": 2
}
