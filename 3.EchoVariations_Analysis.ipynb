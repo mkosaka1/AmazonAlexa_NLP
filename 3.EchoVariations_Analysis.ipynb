{
 "cells": [
  {
   "cell_type": "code",
   "execution_count": 1,
   "metadata": {},
   "outputs": [],
   "source": [
    "from wordcloud import WordCloud, STOPWORDS\n",
    "import pandas as pd\n",
    "import numpy as np\n",
    "import pickle\n",
    "import seaborn as sns\n",
    "import matplotlib.pyplot as plt\n",
    "from vaderSentiment.vaderSentiment import SentimentIntensityAnalyzer\n",
    "from sklearn.feature_extraction.text import CountVectorizer, TfidfVectorizer\n",
    "from sklearn.model_selection import train_test_split\n",
    "from sklearn.linear_model import LogisticRegression\n",
    "from sklearn.metrics import classification_report, confusion_matrix, roc_auc_score, roc_curve, auc, log_loss"
   ]
  },
  {
   "cell_type": "code",
   "execution_count": 2,
   "metadata": {},
   "outputs": [],
   "source": [
    "with open('alexa_reviews_clean.pkl','rb') as read_file:\n",
    "    df = pickle.load(read_file)"
   ]
  },
  {
   "cell_type": "code",
   "execution_count": 3,
   "metadata": {
    "scrolled": true
   },
   "outputs": [
    {
     "data": {
      "text/html": [
       "<div>\n",
       "<style scoped>\n",
       "    .dataframe tbody tr th:only-of-type {\n",
       "        vertical-align: middle;\n",
       "    }\n",
       "\n",
       "    .dataframe tbody tr th {\n",
       "        vertical-align: top;\n",
       "    }\n",
       "\n",
       "    .dataframe thead th {\n",
       "        text-align: right;\n",
       "    }\n",
       "</style>\n",
       "<table border=\"1\" class=\"dataframe\">\n",
       "  <thead>\n",
       "    <tr style=\"text-align: right;\">\n",
       "      <th></th>\n",
       "      <th>rating</th>\n",
       "      <th>date</th>\n",
       "      <th>variation</th>\n",
       "      <th>verified_reviews</th>\n",
       "      <th>feedback</th>\n",
       "      <th>review_length</th>\n",
       "      <th>new_reviews</th>\n",
       "      <th>sentiment</th>\n",
       "    </tr>\n",
       "  </thead>\n",
       "  <tbody>\n",
       "    <tr>\n",
       "      <th>0</th>\n",
       "      <td>5</td>\n",
       "      <td>31-Jul-18</td>\n",
       "      <td>Charcoal Fabric</td>\n",
       "      <td>Love my Echo!</td>\n",
       "      <td>1</td>\n",
       "      <td>13</td>\n",
       "      <td>love echo</td>\n",
       "      <td>positive</td>\n",
       "    </tr>\n",
       "    <tr>\n",
       "      <th>1</th>\n",
       "      <td>5</td>\n",
       "      <td>31-Jul-18</td>\n",
       "      <td>Charcoal Fabric</td>\n",
       "      <td>Loved it!</td>\n",
       "      <td>1</td>\n",
       "      <td>9</td>\n",
       "      <td>love</td>\n",
       "      <td>positive</td>\n",
       "    </tr>\n",
       "    <tr>\n",
       "      <th>2</th>\n",
       "      <td>4</td>\n",
       "      <td>31-Jul-18</td>\n",
       "      <td>Walnut Finish</td>\n",
       "      <td>Sometimes while playing a game, you can answer...</td>\n",
       "      <td>1</td>\n",
       "      <td>195</td>\n",
       "      <td>sometimes play game answer question correctly ...</td>\n",
       "      <td>positive</td>\n",
       "    </tr>\n",
       "    <tr>\n",
       "      <th>3</th>\n",
       "      <td>5</td>\n",
       "      <td>31-Jul-18</td>\n",
       "      <td>Charcoal Fabric</td>\n",
       "      <td>I have had a lot of fun with this thing. My 4 ...</td>\n",
       "      <td>1</td>\n",
       "      <td>172</td>\n",
       "      <td>lot fun thing 4 yr old learn dinosaur control ...</td>\n",
       "      <td>positive</td>\n",
       "    </tr>\n",
       "    <tr>\n",
       "      <th>4</th>\n",
       "      <td>5</td>\n",
       "      <td>31-Jul-18</td>\n",
       "      <td>Charcoal Fabric</td>\n",
       "      <td>Music</td>\n",
       "      <td>1</td>\n",
       "      <td>5</td>\n",
       "      <td>music</td>\n",
       "      <td>positive</td>\n",
       "    </tr>\n",
       "  </tbody>\n",
       "</table>\n",
       "</div>"
      ],
      "text/plain": [
       "   rating       date         variation  \\\n",
       "0       5  31-Jul-18  Charcoal Fabric    \n",
       "1       5  31-Jul-18  Charcoal Fabric    \n",
       "2       4  31-Jul-18    Walnut Finish    \n",
       "3       5  31-Jul-18  Charcoal Fabric    \n",
       "4       5  31-Jul-18  Charcoal Fabric    \n",
       "\n",
       "                                    verified_reviews  feedback  review_length  \\\n",
       "0                                      Love my Echo!         1             13   \n",
       "1                                          Loved it!         1              9   \n",
       "2  Sometimes while playing a game, you can answer...         1            195   \n",
       "3  I have had a lot of fun with this thing. My 4 ...         1            172   \n",
       "4                                              Music         1              5   \n",
       "\n",
       "                                         new_reviews sentiment  \n",
       "0                                          love echo  positive  \n",
       "1                                               love  positive  \n",
       "2  sometimes play game answer question correctly ...  positive  \n",
       "3  lot fun thing 4 yr old learn dinosaur control ...  positive  \n",
       "4                                              music  positive  "
      ]
     },
     "execution_count": 3,
     "metadata": {},
     "output_type": "execute_result"
    }
   ],
   "source": [
    "df.head()"
   ]
  },
  {
   "cell_type": "markdown",
   "metadata": {},
   "source": [
    "## Variations"
   ]
  },
  {
   "cell_type": "code",
   "execution_count": 4,
   "metadata": {},
   "outputs": [
    {
     "data": {
      "text/plain": [
       "Black  Dot                      516\n",
       "Charcoal Fabric                 430\n",
       "Configuration: Fire TV Stick    350\n",
       "Black  Plus                     270\n",
       "Black  Show                     265\n",
       "Black                           261\n",
       "Black  Spot                     241\n",
       "White  Dot                      184\n",
       "Heather Gray Fabric             157\n",
       "White  Spot                     109\n",
       "White                            91\n",
       "Sandstone Fabric                 90\n",
       "White  Show                      85\n",
       "White  Plus                      78\n",
       "Oak Finish                       14\n",
       "Walnut Finish                     9\n",
       "Name: variation, dtype: int64"
      ]
     },
     "execution_count": 4,
     "metadata": {},
     "output_type": "execute_result"
    }
   ],
   "source": [
    "df['variation'].value_counts()"
   ]
  },
  {
   "cell_type": "code",
   "execution_count": 5,
   "metadata": {
    "scrolled": true
   },
   "outputs": [
    {
     "data": {
      "text/plain": [
       "Black  Dot              516\n",
       "Charcoal Fabric         430\n",
       "Black  Plus             270\n",
       "Black  Show             265\n",
       "Black                   261\n",
       "Black  Spot             241\n",
       "White  Dot              184\n",
       "Heather Gray Fabric     157\n",
       "White  Spot             109\n",
       "White                    91\n",
       "Sandstone Fabric         90\n",
       "White  Show              85\n",
       "White  Plus              78\n",
       "Oak Finish               14\n",
       "Walnut Finish             9\n",
       "Name: variation, dtype: int64"
      ]
     },
     "execution_count": 5,
     "metadata": {},
     "output_type": "execute_result"
    }
   ],
   "source": [
    "df=df[df.variation!='Configuration: Fire TV Stick']\n",
    "df['variation'].value_counts()"
   ]
  },
  {
   "cell_type": "code",
   "execution_count": 6,
   "metadata": {},
   "outputs": [
    {
     "name": "stderr",
     "output_type": "stream",
     "text": [
      "/opt/anaconda3/envs/learn-env/lib/python3.6/site-packages/ipykernel_launcher.py:1: FutureWarning: Passing a negative integer is deprecated in version 1.0 and will not be supported in future version. Instead, use None to not limit the column width.\n",
      "  \"\"\"Entry point for launching an IPython kernel.\n"
     ]
    }
   ],
   "source": [
    "pd.set_option('display.max_colwidth', -1)\n",
    "pd.set_option('display.max_rows', 20)\n"
   ]
  },
  {
   "cell_type": "code",
   "execution_count": null,
   "metadata": {},
   "outputs": [],
   "source": [
    "df[df['variation']=='White'].sample(10)"
   ]
  },
  {
   "cell_type": "code",
   "execution_count": null,
   "metadata": {},
   "outputs": [],
   "source": [
    "# CHANGE VARIATION NAMES TO NAME OF ECHO MODELS\n",
    "\n",
    "# ECHO 2nd Gen - charcoal fabric, heather gray fabric, \n",
    "# sandstone fabric, oak finish, walnut finish\n",
    "df['variation']= df['variation']\n",
    "\n",
    "# ECHO DOT - black dot, white dot, black, white\n",
    "\n",
    "# ECHO SHOW - black show, white show\n",
    "\n",
    "# ECHO PLUS - black plus, white plus\n",
    "\n",
    "# ECHO SPOT - black spot, white spot\n"
   ]
  },
  {
   "cell_type": "code",
   "execution_count": 13,
   "metadata": {},
   "outputs": [],
   "source": [
    "df['model']=np.where(df.variation.str.contains('Charcoal Fabric ') |\n",
    "                     df.variation.str.contains('Heather Gray Fabric ') |\n",
    "                     df.variation.str.contains('Sandstone Fabric ') |\n",
    "                     df.variation.str.contains('Oak Finish ') |\n",
    "                     df.variation.str.contains('Walnut Finish '),'echo',df['variation'])\n"
   ]
  },
  {
   "cell_type": "code",
   "execution_count": null,
   "metadata": {},
   "outputs": [],
   "source": [
    "df['model']=np.where(df.variation.str.contains('Black  Dot') |\n",
    "                    df.variation.str.contains('White  Dot') |\n",
    "                    df.variation.str.contains('Black') |\n",
    "                    df.variation.str.contains('White'), 'echo dot', df['model'])"
   ]
  },
  {
   "cell_type": "code",
   "execution_count": null,
   "metadata": {},
   "outputs": [],
   "source": [
    "df['model']=np.where(df.variation.str.contains('Black  Show') |\n",
    "                    df.variation.str.contains('White  Show'), 'echo show', df['model'])"
   ]
  },
  {
   "cell_type": "code",
   "execution_count": null,
   "metadata": {},
   "outputs": [],
   "source": [
    "df['model']=np.where(df.variation.str.contains('Black  Plus') |\n",
    "                    df.variation.str.contains('White  Plus'), 'echo plus', df['model'])\n"
   ]
  },
  {
   "cell_type": "code",
   "execution_count": null,
   "metadata": {},
   "outputs": [],
   "source": [
    "df['model']=np.where(df.variation.str.contains('Black  Spot') |\n",
    "                    df.variation.str.contains('White  Spot'), 'echo spot', df['model'])\n"
   ]
  },
  {
   "cell_type": "code",
   "execution_count": 8,
   "metadata": {
    "scrolled": true
   },
   "outputs": [
    {
     "data": {
      "text/html": [
       "<div>\n",
       "<style scoped>\n",
       "    .dataframe tbody tr th:only-of-type {\n",
       "        vertical-align: middle;\n",
       "    }\n",
       "\n",
       "    .dataframe tbody tr th {\n",
       "        vertical-align: top;\n",
       "    }\n",
       "\n",
       "    .dataframe thead th {\n",
       "        text-align: right;\n",
       "    }\n",
       "</style>\n",
       "<table border=\"1\" class=\"dataframe\">\n",
       "  <thead>\n",
       "    <tr style=\"text-align: right;\">\n",
       "      <th></th>\n",
       "      <th>rating</th>\n",
       "      <th>date</th>\n",
       "      <th>variation</th>\n",
       "      <th>verified_reviews</th>\n",
       "      <th>feedback</th>\n",
       "      <th>review_length</th>\n",
       "      <th>new_reviews</th>\n",
       "      <th>sentiment</th>\n",
       "      <th>model</th>\n",
       "    </tr>\n",
       "  </thead>\n",
       "  <tbody>\n",
       "    <tr>\n",
       "      <th>738</th>\n",
       "      <td>5</td>\n",
       "      <td>30-Jul-18</td>\n",
       "      <td>Charcoal Fabric</td>\n",
       "      <td>Tried to play certain broadway shows like Camelot and it gives ne the group Camelot.</td>\n",
       "      <td>1</td>\n",
       "      <td>84</td>\n",
       "      <td>try play certain broadway show like camelot give ne group camelot</td>\n",
       "      <td>positive</td>\n",
       "      <td>Charcoal Fabric</td>\n",
       "    </tr>\n",
       "    <tr>\n",
       "      <th>21</th>\n",
       "      <td>5</td>\n",
       "      <td>30-Jul-18</td>\n",
       "      <td>Charcoal Fabric</td>\n",
       "      <td>We love Alexa! We use her to play music, play radio through iTunes, play podcasts through Anypod, and set reminders. We listen to our flash briefing of news and weather every morning. We rely on our custom lists. We like being able to voice control the volume. We're sure we'll continue to find new uses.Sometimes it's a bit frustrating when Alexa doesn't understand what we're saying.</td>\n",
       "      <td>1</td>\n",
       "      <td>385</td>\n",
       "      <td>love alexa use play music play radio itune play podcast anypod set reminder listen flash briefing news weather every morning rely custom list like able voice control volume sure well continue find new usessometime bit frustrating alexa do not understand say</td>\n",
       "      <td>positive</td>\n",
       "      <td>Charcoal Fabric</td>\n",
       "    </tr>\n",
       "    <tr>\n",
       "      <th>1963</th>\n",
       "      <td>5</td>\n",
       "      <td>25-Jul-18</td>\n",
       "      <td>Black  Plus</td>\n",
       "      <td>No problems whatsoever makes life easy and sounds great.</td>\n",
       "      <td>1</td>\n",
       "      <td>56</td>\n",
       "      <td>problem whatsoever make life easy sound great</td>\n",
       "      <td>positive</td>\n",
       "      <td>echo plus</td>\n",
       "    </tr>\n",
       "    <tr>\n",
       "      <th>410</th>\n",
       "      <td>5</td>\n",
       "      <td>15-Jul-18</td>\n",
       "      <td>Black</td>\n",
       "      <td>I love it works very well</td>\n",
       "      <td>1</td>\n",
       "      <td>25</td>\n",
       "      <td>love work well</td>\n",
       "      <td>positive</td>\n",
       "      <td>Black</td>\n",
       "    </tr>\n",
       "    <tr>\n",
       "      <th>1760</th>\n",
       "      <td>4</td>\n",
       "      <td>30-Jul-18</td>\n",
       "      <td>White  Plus</td>\n",
       "      <td>I did not know it needed to be plugged in to work. So far my experiences have been positive.</td>\n",
       "      <td>1</td>\n",
       "      <td>92</td>\n",
       "      <td>know need plugged work far experience positive</td>\n",
       "      <td>positive</td>\n",
       "      <td>echo plus</td>\n",
       "    </tr>\n",
       "    <tr>\n",
       "      <th>2724</th>\n",
       "      <td>5</td>\n",
       "      <td>30-Jul-18</td>\n",
       "      <td>Black  Dot</td>\n",
       "      <td>AMAZING. It has helped me become better organized, gives me traffic updates, weather updates, and helps me maintain a good, fast morning routine.</td>\n",
       "      <td>1</td>\n",
       "      <td>145</td>\n",
       "      <td>amazing help become well organized give traffic update weather update help maintain good fast morning routine</td>\n",
       "      <td>positive</td>\n",
       "      <td>Black  Dot</td>\n",
       "    </tr>\n",
       "    <tr>\n",
       "      <th>1109</th>\n",
       "      <td>4</td>\n",
       "      <td>30-Jul-18</td>\n",
       "      <td>White  Spot</td>\n",
       "      <td>Echo Spot works well except it does not work with the Ring doorbell as it states on the website. Since they were sold as a pair I thought that it would be app ready.  Unfortunately that is not case.  Perhaps Ring will update so that they can be integrated.</td>\n",
       "      <td>1</td>\n",
       "      <td>256</td>\n",
       "      <td>echo spot work well except work ring doorbell states website since sell pair thought would app ready unfortunately case perhaps re update integrate</td>\n",
       "      <td>positive</td>\n",
       "      <td>White  Spot</td>\n",
       "    </tr>\n",
       "    <tr>\n",
       "      <th>2493</th>\n",
       "      <td>4</td>\n",
       "      <td>30-Jul-18</td>\n",
       "      <td>Black  Dot</td>\n",
       "      <td>I've only got to use it for a couple of weeks before having to go into the hospital, but had good time with it for the short time I did use it. It was fun trying to use Alexa</td>\n",
       "      <td>1</td>\n",
       "      <td>174</td>\n",
       "      <td>-PRON- have get use couple week go hospital good time short time use fun try use alexa</td>\n",
       "      <td>positive</td>\n",
       "      <td>Black  Dot</td>\n",
       "    </tr>\n",
       "    <tr>\n",
       "      <th>2929</th>\n",
       "      <td>5</td>\n",
       "      <td>30-Jul-18</td>\n",
       "      <td>White  Dot</td>\n",
       "      <td>We really love our Echo Dot, we can get questions answered right away and play any music we can think of.</td>\n",
       "      <td>1</td>\n",
       "      <td>105</td>\n",
       "      <td>really love echo dot get question answer right away play music think</td>\n",
       "      <td>positive</td>\n",
       "      <td>White  Dot</td>\n",
       "    </tr>\n",
       "    <tr>\n",
       "      <th>1513</th>\n",
       "      <td>5</td>\n",
       "      <td>30-Jul-18</td>\n",
       "      <td>Black  Show</td>\n",
       "      <td></td>\n",
       "      <td>1</td>\n",
       "      <td>1</td>\n",
       "      <td></td>\n",
       "      <td>positive</td>\n",
       "      <td>Black  Show</td>\n",
       "    </tr>\n",
       "  </tbody>\n",
       "</table>\n",
       "</div>"
      ],
      "text/plain": [
       "      rating       date         variation  \\\n",
       "738   5       30-Jul-18  Charcoal Fabric    \n",
       "21    5       30-Jul-18  Charcoal Fabric    \n",
       "1963  5       25-Jul-18  Black  Plus        \n",
       "410   5       15-Jul-18  Black              \n",
       "1760  4       30-Jul-18  White  Plus        \n",
       "2724  5       30-Jul-18  Black  Dot         \n",
       "1109  4       30-Jul-18  White  Spot        \n",
       "2493  4       30-Jul-18  Black  Dot         \n",
       "2929  5       30-Jul-18  White  Dot         \n",
       "1513  5       30-Jul-18  Black  Show        \n",
       "\n",
       "                                                                                                                                                                                                                                                                                                                                                                                       verified_reviews  \\\n",
       "738   Tried to play certain broadway shows like Camelot and it gives ne the group Camelot.                                                                                                                                                                                                                                                                                                                \n",
       "21    We love Alexa! We use her to play music, play radio through iTunes, play podcasts through Anypod, and set reminders. We listen to our flash briefing of news and weather every morning. We rely on our custom lists. We like being able to voice control the volume. We're sure we'll continue to find new uses.Sometimes it's a bit frustrating when Alexa doesn't understand what we're saying.   \n",
       "1963  No problems whatsoever makes life easy and sounds great.                                                                                                                                                                                                                                                                                                                                            \n",
       "410   I love it works very well                                                                                                                                                                                                                                                                                                                                                                           \n",
       "1760  I did not know it needed to be plugged in to work. So far my experiences have been positive.                                                                                                                                                                                                                                                                                                        \n",
       "2724  AMAZING. It has helped me become better organized, gives me traffic updates, weather updates, and helps me maintain a good, fast morning routine.                                                                                                                                                                                                                                                   \n",
       "1109  Echo Spot works well except it does not work with the Ring doorbell as it states on the website. Since they were sold as a pair I thought that it would be app ready.  Unfortunately that is not case.  Perhaps Ring will update so that they can be integrated.                                                                                                                                    \n",
       "2493  I've only got to use it for a couple of weeks before having to go into the hospital, but had good time with it for the short time I did use it. It was fun trying to use Alexa                                                                                                                                                                                                                      \n",
       "2929  We really love our Echo Dot, we can get questions answered right away and play any music we can think of.                                                                                                                                                                                                                                                                                           \n",
       "1513                                                                                                                                                                                                                                                                                                                                                                                                      \n",
       "\n",
       "      feedback  review_length  \\\n",
       "738   1         84              \n",
       "21    1         385             \n",
       "1963  1         56              \n",
       "410   1         25              \n",
       "1760  1         92              \n",
       "2724  1         145             \n",
       "1109  1         256             \n",
       "2493  1         174             \n",
       "2929  1         105             \n",
       "1513  1         1               \n",
       "\n",
       "                                                                                                                                                                                                                                                            new_reviews  \\\n",
       "738   try play certain broadway show like camelot give ne group camelot                                                                                                                                                                                                   \n",
       "21    love alexa use play music play radio itune play podcast anypod set reminder listen flash briefing news weather every morning rely custom list like able voice control volume sure well continue find new usessometime bit frustrating alexa do not understand say   \n",
       "1963  problem whatsoever make life easy sound great                                                                                                                                                                                                                       \n",
       "410   love work well                                                                                                                                                                                                                                                      \n",
       "1760  know need plugged work far experience positive                                                                                                                                                                                                                      \n",
       "2724  amazing help become well organized give traffic update weather update help maintain good fast morning routine                                                                                                                                                       \n",
       "1109  echo spot work well except work ring doorbell states website since sell pair thought would app ready unfortunately case perhaps re update integrate                                                                                                                 \n",
       "2493  -PRON- have get use couple week go hospital good time short time use fun try use alexa                                                                                                                                                                              \n",
       "2929  really love echo dot get question answer right away play music think                                                                                                                                                                                                \n",
       "1513                                                                                                                                                                                                                                                                      \n",
       "\n",
       "     sentiment             model  \n",
       "738   positive  Charcoal Fabric   \n",
       "21    positive  Charcoal Fabric   \n",
       "1963  positive  echo plus         \n",
       "410   positive  Black             \n",
       "1760  positive  echo plus         \n",
       "2724  positive  Black  Dot        \n",
       "1109  positive  White  Spot       \n",
       "2493  positive  Black  Dot        \n",
       "2929  positive  White  Dot        \n",
       "1513  positive  Black  Show       "
      ]
     },
     "execution_count": 8,
     "metadata": {},
     "output_type": "execute_result"
    }
   ],
   "source": [
    "df.sample(10)"
   ]
  },
  {
   "cell_type": "code",
   "execution_count": null,
   "metadata": {},
   "outputs": [],
   "source": [
    "df[df['variation']=='Black  Show']"
   ]
  },
  {
   "cell_type": "code",
   "execution_count": null,
   "metadata": {},
   "outputs": [],
   "source": []
  },
  {
   "cell_type": "markdown",
   "metadata": {},
   "source": [
    "# Corpus"
   ]
  },
  {
   "cell_type": "code",
   "execution_count": null,
   "metadata": {},
   "outputs": [],
   "source": [
    "# CREATE DICTIONARY TO COUNT THE WORDS\n",
    "count_dict_alex = {}\n",
    "\n",
    "for doc in df['new_reviews']:\n",
    "    for word in doc.split():\n",
    "        if word in count_dict_alex.keys():\n",
    "            count_dict_alex[word] +=1\n",
    "        else:\n",
    "            count_dict_alex[word] = 1\n",
    "            \n",
    "for key, value in sorted(count_dict_alex.items(), key=lambda item: item[1]):\n",
    "    print(\"%s: %s\" % (key, value))"
   ]
  },
  {
   "cell_type": "code",
   "execution_count": null,
   "metadata": {},
   "outputs": [],
   "source": [
    "# REMOVE WORDS THAT OCCUR LESS THAN 10 TIMES\n",
    "low_value = 10\n",
    "bad_words = [key for key in count_dict_alex.keys() if count_dict_alex[key] < low_value]"
   ]
  },
  {
   "cell_type": "code",
   "execution_count": null,
   "metadata": {},
   "outputs": [],
   "source": [
    "# CREATE A LIST OF LISTS - EACH DOCUMENT IS A STRING BROKEN INTO A LIST OF WORDS\n",
    "corpus = [doc.split() for doc in df['new_reviews']]\n",
    "clean_list = []\n",
    "for document in corpus:\n",
    "    clean_list.append([word for word in document if word not in bad_words])"
   ]
  },
  {
   "cell_type": "code",
   "execution_count": null,
   "metadata": {
    "scrolled": true
   },
   "outputs": [],
   "source": [
    "clean_list"
   ]
  },
  {
   "cell_type": "code",
   "execution_count": null,
   "metadata": {
    "scrolled": true
   },
   "outputs": [],
   "source": [
    "# USE CLEAN_LIST TO CREATE CORPUS\n",
    "corpus=[]\n",
    "for item in clean_list:\n",
    "    item = ' '.join(item)\n",
    "    corpus.append(item)\n",
    "    \n",
    "corpus"
   ]
  },
  {
   "cell_type": "markdown",
   "metadata": {},
   "source": [
    "# LDA"
   ]
  },
  {
   "cell_type": "code",
   "execution_count": null,
   "metadata": {},
   "outputs": [],
   "source": [
    "import gensim\n",
    "from gensim import corpora\n",
    "from gensim.models import LdaModel, LdaMulticore\n",
    "import gensim.downloader as api\n",
    "from gensim.utils import simple_preprocess, lemmatize\n",
    "from nltk.corpus import stopwords"
   ]
  },
  {
   "cell_type": "code",
   "execution_count": null,
   "metadata": {},
   "outputs": [],
   "source": [
    "clean_list[0][:5]"
   ]
  },
  {
   "cell_type": "code",
   "execution_count": null,
   "metadata": {},
   "outputs": [],
   "source": [
    "# CREATE THE INPUTS OF LDA MODEL: DICTIONARY AND CORPUS\n",
    "corpora_dict = corpora.Dictionary(clean_list)\n",
    "corpus = [corpora_dict.doc2bow(line) for line in clean_list]"
   ]
  },
  {
   "cell_type": "code",
   "execution_count": null,
   "metadata": {},
   "outputs": [],
   "source": [
    "# TRAIN THE LDA MODEL\n",
    "lda_model = LdaModel(corpus=corpus,\n",
    "                         id2word=corpora_dict,\n",
    "                         random_state=100,\n",
    "                         num_topics=3,\n",
    "                         passes=5,\n",
    "                         per_word_topics=True)\n",
    "\n",
    "# See the topics\n",
    "lda_model.print_topics(-1)"
   ]
  },
  {
   "cell_type": "markdown",
   "metadata": {},
   "source": [
    "# Word2Vec"
   ]
  },
  {
   "cell_type": "code",
   "execution_count": null,
   "metadata": {},
   "outputs": [],
   "source": [
    "from gensim.models.word2vec import Word2Vec\n",
    "from multiprocessing import cpu_count\n",
    "import gensim.downloader as api"
   ]
  },
  {
   "cell_type": "code",
   "execution_count": null,
   "metadata": {},
   "outputs": [],
   "source": [
    "# Train Word2Vec model. Defaults result vector size = 100\n",
    "model = Word2Vec(clean_list, min_count = 0, workers=cpu_count())\n",
    "\n",
    "# Get the word vector for given word\n",
    "model['sound']\n",
    "\n",
    "model.most_similar('sound')"
   ]
  },
  {
   "cell_type": "markdown",
   "metadata": {},
   "source": [
    "# Bigram"
   ]
  },
  {
   "cell_type": "code",
   "execution_count": null,
   "metadata": {},
   "outputs": [],
   "source": [
    "dct = corpora.Dictionary(clean_list)\n",
    "corpus = [dct.doc2bow(line) for line in clean_list]\n",
    "\n",
    "# Build the bigram models\n",
    "bigram = gensim.models.phrases.Phrases(clean_list, min_count=3, threshold=10)\n",
    "\n",
    "# Construct bigram\n",
    "print(bigram[clean_list[1]])"
   ]
  },
  {
   "cell_type": "markdown",
   "metadata": {},
   "source": [
    "# Vader"
   ]
  },
  {
   "cell_type": "code",
   "execution_count": null,
   "metadata": {},
   "outputs": [],
   "source": [
    "analyser = SentimentIntensityAnalyzer()"
   ]
  },
  {
   "cell_type": "code",
   "execution_count": null,
   "metadata": {},
   "outputs": [],
   "source": [
    "def sentimentScore(sentences):\n",
    "    analyzer = SentimentIntensityAnalyzer()\n",
    "    results = []\n",
    "    for sentence in sentences:\n",
    "        vs = analyzer.polarity_scores(sentence)\n",
    "        print(str(vs))\n",
    "        results.append(vs) \n",
    "    return results"
   ]
  },
  {
   "cell_type": "code",
   "execution_count": null,
   "metadata": {
    "scrolled": true
   },
   "outputs": [],
   "source": [
    "sentiment = sentimentScore(df['new_reviews'])\n"
   ]
  },
  {
   "cell_type": "code",
   "execution_count": null,
   "metadata": {},
   "outputs": [],
   "source": [
    "sentiment_df = pd.DataFrame(sentiment)\n",
    "sentiment_df.head()"
   ]
  },
  {
   "cell_type": "code",
   "execution_count": null,
   "metadata": {
    "scrolled": true
   },
   "outputs": [],
   "source": [
    "# align index to copy rating column for joining\n",
    "df.index = sentiment_df.index\n",
    "sentiment_df['rating'] = df['rating']\n",
    "echo_vader = pd.concat([df, sentiment_df], axis=1)\n",
    "echo_vader.head()"
   ]
  },
  {
   "cell_type": "code",
   "execution_count": null,
   "metadata": {
    "scrolled": false
   },
   "outputs": [],
   "source": [
    "#postive sentiment\n",
    "color = ['#63ace5']\n",
    "ax = echo_vader.groupby(\"variation\").pos.mean().plot.bar(color = color, figsize = (9, 6))\n",
    "\n",
    "plt.title('Positive Sentiment', fontsize = 20, weight='bold')\n",
    "\n",
    "# plt.xlabel('Variation', fontsize = 16, weight='bold')\n",
    "plt.xticks(rotation='90', fontsize=14, weight='bold')\n",
    "ax.xaxis.label.set_visible(False)\n",
    "\n",
    "plt.ylabel('Sentiment Rating', fontsize=16, weight='bold')\n",
    "ax.set_ylim([0,0.5])\n",
    "plt.yticks(fontsize=14)\n",
    "\n",
    "\n",
    "ax.spines['right'].set_visible(False)\n",
    "ax.spines['top'].set_visible(False)\n",
    "ax.spines['bottom'].set_visible(True)\n",
    "ax.spines['left'].set_visible(True)\n",
    "\n",
    "\n",
    "fig = plt.gcf()\n",
    "plt.show()\n",
    "plt.draw()\n",
    "\n",
    "fig.savefig('postive_sentiment.jpg')\n",
    ";"
   ]
  },
  {
   "cell_type": "code",
   "execution_count": null,
   "metadata": {},
   "outputs": [],
   "source": [
    "#postive sentiment\n",
    "color = ['#005b96']\n",
    "ax = echo_vader.groupby(\"variation\").neg.mean().plot.bar(color = color, figsize = (9, 6))\n",
    "\n",
    "plt.title('Negative Sentiment', fontsize = 20, weight='bold')\n",
    "\n",
    "# plt.xlabel('Variation', fontsize = 16, weight='bold')\n",
    "plt.xticks(rotation='90', fontsize=14, weight='bold')\n",
    "ax.xaxis.label.set_visible(False)\n",
    "\n",
    "plt.ylabel('Sentiment Rating', fontsize=16, weight='bold')\n",
    "ax.set_ylim([0,0.5])\n",
    "plt.yticks(fontsize=14)\n",
    "\n",
    "ax.spines['right'].set_visible(False)\n",
    "ax.spines['top'].set_visible(False)\n",
    "ax.spines['bottom'].set_visible(True)\n",
    "ax.spines['left'].set_visible(True)\n",
    "\n",
    "\n",
    "fig = plt.gcf()\n",
    "plt.show()\n",
    "plt.draw()\n",
    "\n",
    "fig.savefig('negative_sentiment.jpg')\n",
    ";"
   ]
  },
  {
   "cell_type": "code",
   "execution_count": null,
   "metadata": {},
   "outputs": [],
   "source": [
    "group = df.groupby('rating').count()\n",
    "group['date']\n",
    "\n",
    "color = plt.cm.bone(np.linspace(0, 1, 6))\n",
    "ax = group['date'].plot.bar(color='#7c86ac', figsize = (10, 6))\n",
    "\n",
    "plt.title('Echo Ratings', fontsize = 20, weight='bold')\n",
    "plt.xlabel('Ratings', fontsize = 16, weight='bold')\n",
    "plt.ylabel('Count', fontsize=16, weight='bold')\n",
    "\n",
    "plt.xticks(rotation='0', fontsize=14)\n",
    "plt.yticks(fontsize=14)\n",
    "\n",
    "ax.spines['right'].set_visible(False)\n",
    "ax.spines['top'].set_visible(False)\n",
    "ax.spines['bottom'].set_visible(True)\n",
    "ax.spines['left'].set_visible(True)\n",
    "\n",
    "plt.show()\n",
    "\n",
    "#change colour"
   ]
  },
  {
   "cell_type": "markdown",
   "metadata": {},
   "source": [
    "# Sentiment Features"
   ]
  },
  {
   "cell_type": "code",
   "execution_count": null,
   "metadata": {},
   "outputs": [],
   "source": [
    "neg_alexa = df[df['sentiment']=='negative']\n",
    "pos_alexa = df[df['sentiment']=='positive']"
   ]
  },
  {
   "cell_type": "markdown",
   "metadata": {},
   "source": [
    "## Negative"
   ]
  },
  {
   "cell_type": "code",
   "execution_count": null,
   "metadata": {},
   "outputs": [],
   "source": [
    "from sklearn.feature_selection import chi2\n",
    "\n",
    "tfidf_n = TfidfVectorizer(ngram_range=(2, 2))\n",
    "X_tfidf_n = tfidf_n.fit_transform(neg_alexa['new_reviews'])\n",
    "y_n = neg_alexa['rating']\n",
    "chi2score_n = chi2(X_tfidf_n, y_n)[0]"
   ]
  },
  {
   "cell_type": "code",
   "execution_count": null,
   "metadata": {},
   "outputs": [],
   "source": [
    "scores = list(zip(tfidf_n.get_feature_names(), chi2score_n))\n",
    "chi2_n = sorted(scores, key=lambda x:x[1])\n",
    "topchi2_n = list(zip(*chi2_n[-10:]))\n",
    "x_n=range(len(topchi2_n[1]))\n",
    "\n",
    "fig, ax = plt.subplots(figsize=(16,9))\n",
    "ax.barh(x_n, topchi2_n[1], align='center', alpha=1, color='salmon')\n",
    "\n",
    "plt.title('Alexa Negative Feedback', fontsize=24, weight='bold')\n",
    "\n",
    "# x-axis\n",
    "plt.xlabel(\"Feature Score\", fontsize=22, weight='bold')\n",
    "plt.xticks(fontsize=18)\n",
    "\n",
    "#y-axis\n",
    "labels = topchi2_n[0]\n",
    "plt.yticks(x_n, labels, fontsize=18)\n",
    "\n",
    "ax.spines['right'].set_visible(False)\n",
    "ax.spines['top'].set_visible(False)\n",
    "ax.spines['bottom'].set_visible(True)\n",
    "ax.spines['left'].set_visible(True)\n",
    "\n",
    "fig = plt.gcf()\n",
    "plt.show()\n",
    "plt.draw()\n",
    "\n",
    "fig.savefig('alexa_neg.jpg')\n",
    ";"
   ]
  },
  {
   "cell_type": "markdown",
   "metadata": {},
   "source": [
    "## Positive"
   ]
  },
  {
   "cell_type": "code",
   "execution_count": null,
   "metadata": {},
   "outputs": [],
   "source": [
    "tfidf = TfidfVectorizer(ngram_range=(2, 2))\n",
    "X_tfidf = tfidf.fit_transform(pos_alexa['new_reviews'])\n",
    "y = pos_alexa['rating']\n",
    "chi2score = chi2(X_tfidf, y)[0]"
   ]
  },
  {
   "cell_type": "code",
   "execution_count": null,
   "metadata": {},
   "outputs": [],
   "source": [
    "scores = list(zip(tfidf.get_feature_names(), chi2score))\n",
    "chi2 = sorted(scores, key=lambda x:x[1])\n",
    "topchi2 = list(zip(*chi2[-10:]))\n",
    "x=range(len(topchi2[1]))\n",
    "\n",
    "fig, ax = plt.subplots(figsize=(16,9))\n",
    "ax.barh(x,topchi2[1], alpha=1, color='darkseagreen')\n",
    "\n",
    "plt.title('Alexa Postive Feedback', fontsize=24, weight='bold')\n",
    "\n",
    "# x-axis\n",
    "plt.xlabel(\"Feature Score\", fontsize=22, weight='bold')\n",
    "plt.xticks(fontsize=18)\n",
    "\n",
    "#y-axis\n",
    "labels = topchi2[0]\n",
    "plt.yticks(x, labels, fontsize=18)\n",
    "\n",
    "ax.spines['right'].set_visible(False)\n",
    "ax.spines['top'].set_visible(False)\n",
    "ax.spines['bottom'].set_visible(True)\n",
    "ax.spines['left'].set_visible(True)\n",
    "\n",
    "fig = plt.gcf()\n",
    "plt.show()\n",
    "plt.draw()\n",
    "\n",
    "fig.savefig('alexa_positive.jpg')\n",
    ";"
   ]
  },
  {
   "cell_type": "code",
   "execution_count": null,
   "metadata": {},
   "outputs": [],
   "source": []
  }
 ],
 "metadata": {
  "kernelspec": {
   "display_name": "Python 3",
   "language": "python",
   "name": "python3"
  },
  "language_info": {
   "codemirror_mode": {
    "name": "ipython",
    "version": 3
   },
   "file_extension": ".py",
   "mimetype": "text/x-python",
   "name": "python",
   "nbconvert_exporter": "python",
   "pygments_lexer": "ipython3",
   "version": "3.6.9"
  }
 },
 "nbformat": 4,
 "nbformat_minor": 2
}
